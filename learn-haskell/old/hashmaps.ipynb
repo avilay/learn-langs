{
 "cells": [
  {
   "cell_type": "code",
   "execution_count": 14,
   "id": "98d99df6",
   "metadata": {},
   "outputs": [],
   "source": [
    "import Data.Map as Map\n",
    "import Data.Maybe"
   ]
  },
  {
   "cell_type": "code",
   "execution_count": 3,
   "id": "2a0468b9",
   "metadata": {},
   "outputs": [
    {
     "data": {
      "text/plain": [
       "fromList [(3,\"b\"),(5,\"a\")]"
      ]
     },
     "metadata": {},
     "output_type": "display_data"
    }
   ],
   "source": [
    "fromList [(5,\"a\"), (3,\"b\")]"
   ]
  },
  {
   "cell_type": "code",
   "execution_count": 4,
   "id": "59ff57a7",
   "metadata": {},
   "outputs": [
    {
     "data": {
      "text/plain": [
       "fromList [(3,'b')]"
      ]
     },
     "metadata": {},
     "output_type": "display_data"
    }
   ],
   "source": [
    "singleton 3 'b'"
   ]
  },
  {
   "cell_type": "code",
   "execution_count": 6,
   "id": "7269d591",
   "metadata": {},
   "outputs": [
    {
     "data": {
      "text/plain": [
       "False"
      ]
     },
     "metadata": {},
     "output_type": "display_data"
    }
   ],
   "source": [
    "let tp = fromList [(\"MSFT\", 284), (\"FB\", 356)]\n",
    "Map.null tp"
   ]
  },
  {
   "cell_type": "code",
   "execution_count": 7,
   "id": "f409d0f1",
   "metadata": {},
   "outputs": [
    {
     "data": {
      "text/plain": [
       "True"
      ]
     },
     "metadata": {},
     "output_type": "display_data"
    }
   ],
   "source": [
    "let tp = fromList []\n",
    "Map.null tp"
   ]
  },
  {
   "cell_type": "code",
   "execution_count": 8,
   "id": "190eaece",
   "metadata": {},
   "outputs": [
    {
     "data": {
      "text/plain": [
       "True"
      ]
     },
     "metadata": {},
     "output_type": "display_data"
    }
   ],
   "source": [
    "let tp = fromList [(\"MSFT\", 284), (\"FB\", 356)]\n",
    "member \"MSFT\" tp"
   ]
  },
  {
   "cell_type": "code",
   "execution_count": 9,
   "id": "0b53ba17",
   "metadata": {},
   "outputs": [
    {
     "data": {
      "text/plain": [
       "False"
      ]
     },
     "metadata": {},
     "output_type": "display_data"
    }
   ],
   "source": [
    "member \"APPL\" tp"
   ]
  },
  {
   "cell_type": "code",
   "execution_count": 12,
   "id": "e20f27a8",
   "metadata": {},
   "outputs": [
    {
     "data": {
      "text/plain": [
       "Just 284"
      ]
     },
     "metadata": {},
     "output_type": "display_data"
    }
   ],
   "source": [
    "Map.lookup \"MSFT\" tp"
   ]
  },
  {
   "cell_type": "code",
   "execution_count": 15,
   "id": "ce62a98e",
   "metadata": {},
   "outputs": [
    {
     "data": {
      "text/plain": [
       "284"
      ]
     },
     "metadata": {},
     "output_type": "display_data"
    }
   ],
   "source": [
    "fromJust (Map.lookup \"MSFT\" tp)"
   ]
  },
  {
   "cell_type": "code",
   "execution_count": 18,
   "id": "eb3de146",
   "metadata": {},
   "outputs": [
    {
     "data": {
      "text/plain": [
       "1"
      ]
     },
     "metadata": {},
     "output_type": "display_data"
    }
   ],
   "source": [
    "Map.findWithDefault 1 \"APPL\" tp"
   ]
  },
  {
   "cell_type": "code",
   "execution_count": 20,
   "id": "c6dfaf07",
   "metadata": {},
   "outputs": [
    {
     "data": {
      "text/plain": [
       "fromList [(\"FB\",356),(\"MSFT\",284),(\"U\",107)]"
      ]
     },
     "metadata": {},
     "output_type": "display_data"
    }
   ],
   "source": [
    "insert \"U\" 107 tp"
   ]
  },
  {
   "cell_type": "code",
   "execution_count": 22,
   "id": "1a6c7159",
   "metadata": {},
   "outputs": [
    {
     "data": {
      "text/html": [
       "<style>/* Styles used for the Hoogle display in the pager */\n",
       ".hoogle-doc {\n",
       "display: block;\n",
       "padding-bottom: 1.3em;\n",
       "padding-left: 0.4em;\n",
       "}\n",
       ".hoogle-code {\n",
       "display: block;\n",
       "font-family: monospace;\n",
       "white-space: pre;\n",
       "}\n",
       ".hoogle-text {\n",
       "display: block;\n",
       "}\n",
       ".hoogle-name {\n",
       "color: green;\n",
       "font-weight: bold;\n",
       "}\n",
       ".hoogle-head {\n",
       "font-weight: bold;\n",
       "}\n",
       ".hoogle-sub {\n",
       "display: block;\n",
       "margin-left: 0.4em;\n",
       "}\n",
       ".hoogle-package {\n",
       "font-weight: bold;\n",
       "font-style: italic;\n",
       "}\n",
       ".hoogle-module {\n",
       "font-weight: bold;\n",
       "}\n",
       ".hoogle-class {\n",
       "font-weight: bold;\n",
       "}\n",
       ".get-type {\n",
       "color: green;\n",
       "font-weight: bold;\n",
       "font-family: monospace;\n",
       "display: block;\n",
       "white-space: pre-wrap;\n",
       "}\n",
       ".show-type {\n",
       "color: green;\n",
       "font-weight: bold;\n",
       "font-family: monospace;\n",
       "margin-left: 1em;\n",
       "}\n",
       ".mono {\n",
       "font-family: monospace;\n",
       "display: block;\n",
       "}\n",
       ".err-msg {\n",
       "color: red;\n",
       "font-style: italic;\n",
       "font-family: monospace;\n",
       "white-space: pre;\n",
       "display: block;\n",
       "}\n",
       "#unshowable {\n",
       "color: red;\n",
       "font-weight: bold;\n",
       "}\n",
       ".err-msg.in.collapse {\n",
       "padding-top: 0.7em;\n",
       "}\n",
       ".highlight-code {\n",
       "white-space: pre;\n",
       "font-family: monospace;\n",
       "}\n",
       ".suggestion-warning { \n",
       "font-weight: bold;\n",
       "color: rgb(200, 130, 0);\n",
       "}\n",
       ".suggestion-error { \n",
       "font-weight: bold;\n",
       "color: red;\n",
       "}\n",
       ".suggestion-name {\n",
       "font-weight: bold;\n",
       "}\n",
       "</style><div class=\"suggestion-name\" style=\"clear:both;\">Avoid lambda</div><div class=\"suggestion-row\" style=\"float: left;\"><div class=\"suggestion-warning\">Found:</div><div class=\"highlight-code\" id=\"haskell\">\\ oldValue newValue -> oldValue + newValue</div></div><div class=\"suggestion-row\" style=\"float: left;\"><div class=\"suggestion-warning\">Why Not:</div><div class=\"highlight-code\" id=\"haskell\">(+)</div></div>"
      ],
      "text/plain": [
       "Line 1: Avoid lambda\n",
       "Found:\n",
       "\\ oldValue newValue -> oldValue + newValue\n",
       "Why not:\n",
       "(+)"
      ]
     },
     "metadata": {},
     "output_type": "display_data"
    },
    {
     "data": {
      "text/plain": [
       "fromList [(\"FB\",356),(\"MSFT\",284),(\"U\",12)]"
      ]
     },
     "metadata": {},
     "output_type": "display_data"
    }
   ],
   "source": [
    "insertWith (\\ oldValue newValue -> oldValue + newValue) \"U\" 12 tp"
   ]
  },
  {
   "cell_type": "code",
   "execution_count": 23,
   "id": "7f0a9422",
   "metadata": {},
   "outputs": [
    {
     "data": {
      "text/plain": [
       "fromList [(\"FB\",356),(\"MSFT\",284)]"
      ]
     },
     "metadata": {},
     "output_type": "display_data"
    }
   ],
   "source": [
    "tp"
   ]
  },
  {
   "cell_type": "code",
   "execution_count": 25,
   "id": "a179a475",
   "metadata": {},
   "outputs": [
    {
     "data": {
      "text/plain": [
       "fromList [(\"FB\",356),(\"MSFT\",100)]"
      ]
     },
     "metadata": {},
     "output_type": "display_data"
    }
   ],
   "source": [
    "insert \"MSFT\" 100 tp"
   ]
  },
  {
   "cell_type": "code",
   "execution_count": 29,
   "id": "62185570",
   "metadata": {},
   "outputs": [],
   "source": [
    "insertIfNew k v hsh\n",
    "  | member k hsh = hsh\n",
    "  | otherwise = insert k v hsh"
   ]
  },
  {
   "cell_type": "code",
   "execution_count": 30,
   "id": "21264d2b",
   "metadata": {},
   "outputs": [
    {
     "data": {
      "text/plain": [
       "fromList [(\"FB\",356),(\"MSFT\",284)]"
      ]
     },
     "metadata": {},
     "output_type": "display_data"
    }
   ],
   "source": [
    "insertIfNew \"MSFT\" 100 tp"
   ]
  },
  {
   "cell_type": "code",
   "execution_count": 31,
   "id": "5aff5872",
   "metadata": {},
   "outputs": [
    {
     "data": {
      "text/plain": [
       "fromList [(\"FB\",356),(\"MSFT\",284),(\"U\",107)]"
      ]
     },
     "metadata": {},
     "output_type": "display_data"
    }
   ],
   "source": [
    "insertIfNew \"U\" 107 tp"
   ]
  },
  {
   "cell_type": "code",
   "execution_count": null,
   "id": "1d517681",
   "metadata": {},
   "outputs": [],
   "source": []
  }
 ],
 "metadata": {
  "kernelspec": {
   "display_name": "Haskell",
   "language": "haskell",
   "name": "haskell"
  },
  "language_info": {
   "codemirror_mode": "ihaskell",
   "file_extension": ".hs",
   "mimetype": "text/x-haskell",
   "name": "haskell",
   "pygments_lexer": "Haskell",
   "version": "8.10.4"
  }
 },
 "nbformat": 4,
 "nbformat_minor": 5
}
