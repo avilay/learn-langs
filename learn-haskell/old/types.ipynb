{
 "cells": [
  {
   "cell_type": "markdown",
   "source": [
    "My internalization is that `Shape` is the interface and `Circle` and `Square` are the concrete types. I can get \"polymorphic\" behavior by defining the function `area` for each known concrete type."
   ],
   "metadata": {}
  },
  {
   "cell_type": "code",
   "execution_count": 2,
   "source": [
    "data Shape = Circle Float | Square Float"
   ],
   "outputs": [],
   "metadata": {}
  },
  {
   "cell_type": "code",
   "execution_count": 3,
   "source": [
    "area :: Shape -> Float\n",
    "area (Circle r) = 3.14 * r * r\n",
    "area (Square a) = a * a"
   ],
   "outputs": [],
   "metadata": {}
  },
  {
   "cell_type": "code",
   "execution_count": 4,
   "source": [
    "let shape = Circle 10"
   ],
   "outputs": [],
   "metadata": {}
  },
  {
   "cell_type": "code",
   "execution_count": 5,
   "source": [
    "area shape"
   ],
   "outputs": [
    {
     "output_type": "display_data",
     "data": {
      "text/plain": [
       "314.0"
      ]
     },
     "metadata": {}
    }
   ],
   "metadata": {}
  },
  {
   "cell_type": "code",
   "execution_count": 6,
   "source": [
    "let shape = Square 10"
   ],
   "outputs": [],
   "metadata": {}
  },
  {
   "cell_type": "code",
   "execution_count": 7,
   "source": [
    "area shape"
   ],
   "outputs": [
    {
     "output_type": "display_data",
     "data": {
      "text/plain": [
       "100.0"
      ]
     },
     "metadata": {}
    }
   ],
   "metadata": {}
  },
  {
   "cell_type": "markdown",
   "source": [
    "However this mental model breaks down because I can also define `Layer` as shown below. Its two concrete types take different parametes. So `Layer` is not strictly an interface."
   ],
   "metadata": {}
  },
  {
   "cell_type": "code",
   "execution_count": 8,
   "source": [
    "data Layer = FC Int Int | Conv2D Int Int Int"
   ],
   "outputs": [],
   "metadata": {}
  },
  {
   "cell_type": "code",
   "execution_count": 16,
   "source": [
    "apply (FC inDims outDims) tensor = 1\n",
    "apply (Conv2D kernelSize numFilters paddingStyle) tensor = 2"
   ],
   "outputs": [],
   "metadata": {}
  },
  {
   "cell_type": "code",
   "execution_count": 18,
   "source": [
    "data BinaryTree a = Empty | Node a (BinaryTree a) (BinaryTree a) deriving Show"
   ],
   "outputs": [],
   "metadata": {}
  },
  {
   "cell_type": "code",
   "execution_count": null,
   "source": [
    "levelOrderListToBinaryTree :: [a] -> Int -> BinaryTree a\n",
    "levelOrderListToBinaryTree [xs] idx = Node (xs !! idx) levelOrderListToBinaryTree drop "
   ],
   "outputs": [],
   "metadata": {}
  },
  {
   "cell_type": "code",
   "execution_count": 19,
   "source": [
    "let ary = ['a', 'b', 'e', 'c', 'd', 'f', 'g']"
   ],
   "outputs": [],
   "metadata": {}
  },
  {
   "cell_type": "code",
   "execution_count": 21,
   "source": [
    "2 * length ary + 2"
   ],
   "outputs": [
    {
     "output_type": "display_data",
     "data": {
      "text/plain": [
       "16"
      ]
     },
     "metadata": {}
    }
   ],
   "metadata": {}
  },
  {
   "cell_type": "code",
   "execution_count": 23,
   "source": [
    "drop 2 ary"
   ],
   "outputs": [
    {
     "output_type": "display_data",
     "data": {
      "text/plain": [
       "\"ecdfg\""
      ]
     },
     "metadata": {}
    }
   ],
   "metadata": {}
  },
  {
   "cell_type": "code",
   "execution_count": null,
   "source": [],
   "outputs": [],
   "metadata": {}
  }
 ],
 "metadata": {
  "orig_nbformat": 4,
  "language_info": {
   "file_extension": ".hs",
   "pygments_lexer": "Haskell",
   "mimetype": "text/x-haskell",
   "name": "haskell",
   "version": "8.10.4",
   "codemirror_mode": "ihaskell"
  },
  "kernelspec": {
   "name": "haskell",
   "display_name": "Haskell",
   "language": "haskell"
  }
 },
 "nbformat": 4,
 "nbformat_minor": 2
}