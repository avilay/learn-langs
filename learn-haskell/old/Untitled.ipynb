{
 "cells": [
  {
   "cell_type": "code",
   "execution_count": null,
   "id": "10ace884",
   "metadata": {},
   "outputs": [],
   "source": [
    "foo :: (a -> b) -> (a -> Bool) -> [a] -> [b]\n",
    "foo f p xs = [f x | x <- xs, p x]"
   ]
  },
  {
   "cell_type": "code",
   "execution_count": null,
   "id": "0a0d6261",
   "metadata": {},
   "outputs": [],
   "source": [
    ":type foo"
   ]
  },
  {
   "cell_type": "code",
   "execution_count": null,
   "id": "a5538ab3",
   "metadata": {},
   "outputs": [],
   "source": [
    "-- Lets say I want to square all the even numbers in a list\n",
    "foo (^2) even [18, 13, 11, 17, 15, 10, 16, 14, 19, 12]"
   ]
  },
  {
   "cell_type": "code",
   "execution_count": null,
   "id": "4bd24dd8",
   "metadata": {},
   "outputs": [],
   "source": [
    "map (^2) (filter even [18, 13, 11, 17, 15, 10, 16, 14, 19, 12])"
   ]
  },
  {
   "cell_type": "code",
   "execution_count": null,
   "id": "3b0d2315",
   "metadata": {},
   "outputs": [],
   "source": [
    "foo2 :: (a -> b) -> (a -> Bool) -> [a] -> [b]\n",
    "foo2 f p xs = map f (filter p xs)"
   ]
  },
  {
   "cell_type": "code",
   "execution_count": null,
   "id": "1f0f1983",
   "metadata": {},
   "outputs": [],
   "source": [
    "foo2 (^2) even [18, 13, 11, 17, 15, 10, 16, 14, 19, 12]"
   ]
  },
  {
   "cell_type": "code",
   "execution_count": null,
   "id": "790803dd",
   "metadata": {},
   "outputs": [],
   "source": [
    "myMap :: (a -> b) -> [a] -> [b]\n",
    "myMap f [] = []\n",
    "myMap f xs = [f x | x <- xs]"
   ]
  },
  {
   "cell_type": "code",
   "execution_count": null,
   "id": "1524daa6",
   "metadata": {},
   "outputs": [],
   "source": [
    "myMap (^2) [18, 13, 11, 17, 15, 10, 16, 14, 19, 12]"
   ]
  },
  {
   "cell_type": "code",
   "execution_count": null,
   "id": "1ca32193",
   "metadata": {},
   "outputs": [],
   "source": [
    "myMapWithFoldr f = foldr f []"
   ]
  },
  {
   "cell_type": "code",
   "execution_count": null,
   "id": "cc6b2316",
   "metadata": {},
   "outputs": [],
   "source": [
    "myMapWithFoldr (^2) [18, 13, 11, 17, 15, 10, 16, 14, 19, 12]"
   ]
  },
  {
   "cell_type": "code",
   "execution_count": null,
   "id": "c88a238e",
   "metadata": {},
   "outputs": [],
   "source": [
    "type Pos = (Int, Int)"
   ]
  },
  {
   "cell_type": "code",
   "execution_count": null,
   "id": "4d99ac3e",
   "metadata": {},
   "outputs": [],
   "source": [
    "left :: Pos -> Pos\n",
    "left (x, y) = (x-1, y)"
   ]
  },
  {
   "cell_type": "code",
   "execution_count": null,
   "id": "823f79ca",
   "metadata": {},
   "outputs": [],
   "source": [
    "type:left"
   ]
  },
  {
   "cell_type": "code",
   "execution_count": null,
   "id": "9df8e204",
   "metadata": {},
   "outputs": [],
   "source": [
    ":type left"
   ]
  },
  {
   "cell_type": "code",
   "execution_count": null,
   "id": "ce250901",
   "metadata": {},
   "outputs": [],
   "source": [
    "origin :: Pos\n",
    "origin = (0, 0)"
   ]
  },
  {
   "cell_type": "code",
   "execution_count": null,
   "id": "3a595acc",
   "metadata": {},
   "outputs": [],
   "source": [
    ":type origin"
   ]
  },
  {
   "cell_type": "code",
   "execution_count": null,
   "id": "c684d56e",
   "metadata": {},
   "outputs": [],
   "source": [
    "data Tree a = Empty | Node a (Tree a) (Tree a) deriving Show"
   ]
  },
  {
   "cell_type": "code",
   "execution_count": null,
   "id": "aa6e929a",
   "metadata": {},
   "outputs": [],
   "source": [
    "let one = Node 1 (Node 2 (Node 4 Empty Empty)\n",
    "                         Empty)) \n",
    "                 (Node 3 (Node 5 Empty Empty)\n",
    "                         (Node 6 Empty \n",
    "                               (Node 7 Empty Empty)))"
   ]
  },
  {
   "cell_type": "code",
   "execution_count": null,
   "id": "bd2372b8",
   "metadata": {},
   "outputs": [],
   "source": [
    "let tp1 = Node 1 Empty Empty"
   ]
  },
  {
   "cell_type": "code",
   "execution_count": null,
   "id": "ef994d3b",
   "metadata": {},
   "outputs": [],
   "source": [
    "let tp2 = Node 1 (Node 2 (Node 4 Empty Empty) \n",
    "                         Empty) \n",
    "                 (Node 3 (Node 5 Empty Empty) \n",
    "                         (Node 6 Empty \n",
    "                                 (Node 7 Empty Empty)))\n",
    "tp2"
   ]
  },
  {
   "cell_type": "code",
   "execution_count": null,
   "id": "7df50478",
   "metadata": {},
   "outputs": [],
   "source": [
    "height :: Tree a -> Int\n",
    "height Empty = 0\n",
    "height (Node a Empty Empty) = 0\n",
    "height (Node a leftChild rightChild) = max (height leftChild) (height rightChild) + 1"
   ]
  },
  {
   "cell_type": "code",
   "execution_count": null,
   "id": "4467bc4b",
   "metadata": {},
   "outputs": [],
   "source": [
    "let x = Node 10 Empty Empty\n",
    "height x"
   ]
  },
  {
   "cell_type": "code",
   "execution_count": null,
   "id": "b4bf6107",
   "metadata": {},
   "outputs": [],
   "source": [
    "height tp2"
   ]
  },
  {
   "cell_type": "code",
   "execution_count": null,
   "id": "72676a97",
   "metadata": {},
   "outputs": [],
   "source": [
    "diameter :: Tree a -> Int\n",
    "diameter Empty = 0\n",
    "diameter (Node a Empty Empty) = 0\n",
    "diameter (Node a leftChild rightChild) = \n",
    "    maximum [\n",
    "        diameter leftChild,\n",
    "        diameter rightChild,\n",
    "        (height leftChild) + (height rightChild) + 2\n",
    "    ]"
   ]
  },
  {
   "cell_type": "code",
   "execution_count": null,
   "id": "459df55a",
   "metadata": {},
   "outputs": [],
   "source": [
    "diameter tp2"
   ]
  },
  {
   "cell_type": "code",
   "execution_count": null,
   "id": "81618e8e",
   "metadata": {},
   "outputs": [],
   "source": [
    "let tp1 = Node 1 (Node 2 (Node 4 (Node 6 (Node 8 Empty Empty) \n",
    "                                         Empty) \n",
    "                                 Empty) \n",
    "                         (Node 5 Empty \n",
    "                                 (Node 7 Empty \n",
    "                                         (Node 9 Empty Empty)))) \n",
    "                 (Node 3 Empty Empty)"
   ]
  },
  {
   "cell_type": "code",
   "execution_count": null,
   "id": "a6e8f30d",
   "metadata": {},
   "outputs": [],
   "source": [
    "diameter tp1"
   ]
  },
  {
   "cell_type": "code",
   "execution_count": null,
   "id": "49f4eb64",
   "metadata": {},
   "outputs": [],
   "source": [
    "sort [1,6,4,3,2,5]"
   ]
  },
  {
   "cell_type": "code",
   "execution_count": null,
   "id": "bd00aad9",
   "metadata": {},
   "outputs": [],
   "source": [
    "import Data.List\n",
    "import Data.Map\n",
    "import Data.Maybe"
   ]
  },
  {
   "cell_type": "code",
   "execution_count": null,
   "id": "95ba180b",
   "metadata": {},
   "outputs": [],
   "source": [
    "ranksHelper :: [Int] -> Int -> [Int]\n",
    "ranksHelper [x] n = [n]\n",
    "ranksHelper (x:xs) n\n",
    "  | x == head xs = [n, n] ++ ranksHelper (tail xs) n\n",
    "  | otherwise = n : ranksHelper xs (n+1)\n",
    "\n",
    "ranks :: [Int] -> [Int]\n",
    "ranks xs = ranksHelper xs 1"
   ]
  },
  {
   "cell_type": "code",
   "execution_count": null,
   "id": "9dd31d59",
   "metadata": {},
   "outputs": [],
   "source": [
    "ranksHelper [5, 15, 15, 17] 1 = 1 : ranksHelper [15, 15, 17] 2\n",
    "ranksHelper [15, 15, 17] 2 = [2, 2] ++ ranksHelper [17] 2\n",
    "    \n",
    "    "
   ]
  },
  {
   "cell_type": "code",
   "execution_count": null,
   "id": "70fd950b",
   "metadata": {},
   "outputs": [],
   "source": [
    "ranked :: [Int] -> [Int]\n",
    "ranked xs = Prelude.map (fromJust . (`Data.Map.lookup` hsh)) xs\n",
    "  where hsh = fromList (zip xs (ranks xs 0))"
   ]
  },
  {
   "cell_type": "code",
   "execution_count": null,
   "id": "81fc12ff",
   "metadata": {},
   "outputs": [],
   "source": [
    "ranked [15, 20, 5, 17]"
   ]
  },
  {
   "cell_type": "code",
   "execution_count": null,
   "id": "4eaf2f07",
   "metadata": {},
   "outputs": [],
   "source": [
    "ranked [1, 1, 1]"
   ]
  },
  {
   "cell_type": "code",
   "execution_count": null,
   "id": "f2a6ced9",
   "metadata": {},
   "outputs": [],
   "source": [
    "ranks [1, 1, 1]"
   ]
  },
  {
   "cell_type": "code",
   "execution_count": null,
   "id": "a581cb3c",
   "metadata": {},
   "outputs": [],
   "source": [
    "ranks [1, 2, 3]"
   ]
  },
  {
   "cell_type": "code",
   "execution_count": null,
   "id": "f5873e47",
   "metadata": {},
   "outputs": [],
   "source": [
    "ranks [5, 15, 17, 20]"
   ]
  },
  {
   "cell_type": "code",
   "execution_count": null,
   "id": "9d16d2c4",
   "metadata": {},
   "outputs": [],
   "source": [
    "ranks (x:xs) prev rank\n",
    "  | x == prev = rank : ranks xs x rank\n",
    "  | otherwise = (rank + 1) : ranks xs x (rank + 1)"
   ]
  },
  {
   "cell_type": "code",
   "execution_count": null,
   "id": "4a477537",
   "metadata": {},
   "outputs": [],
   "source": [
    "[5, 5, 15, 17] -> [1, 1, 3, 4]\n",
    "[5, 15, 17, 17] -> [1, 2, 3, 3]\n",
    "[5, 5, 5, 5] -> [1, 1, 1, 1]\n",
    "[5, 15, 15, 17] -> [1, 2, 2, 4]"
   ]
  },
  {
   "cell_type": "code",
   "execution_count": null,
   "id": "780e4b5d",
   "metadata": {},
   "outputs": [],
   "source": [
    "ranks [5, 15, 17, 20] 0 0"
   ]
  },
  {
   "cell_type": "code",
   "execution_count": 11,
   "id": "7f9a58c0",
   "metadata": {},
   "outputs": [],
   "source": [
    "ranks [x] prev prevRank prevIdx\n",
    "  | x == prev = [prevRank]\n",
    "  | otherwise = [prevIdx + 1]\n",
    "  \n",
    "ranks (x:xs) prev prevRank prevIdx\n",
    "  | x == prev = prevRank : ranks xs x prevRank (prevIdx + 1)\n",
    "  | otherwise = (prevIdx + 1) : ranks xs x (prevRank + 1) (prevIdx + 1)"
   ]
  },
  {
   "cell_type": "code",
   "execution_count": 13,
   "id": "73f65784",
   "metadata": {},
   "outputs": [
    {
     "data": {
      "text/plain": [
       "[1,1,3,4]"
      ]
     },
     "metadata": {},
     "output_type": "display_data"
    }
   ],
   "source": [
    "ranks [5, 5, 15, 17] 0 0 0"
   ]
  },
  {
   "cell_type": "code",
   "execution_count": 15,
   "id": "1263cf0b",
   "metadata": {},
   "outputs": [
    {
     "data": {
      "text/plain": [
       "[1,2,3,3]"
      ]
     },
     "metadata": {},
     "output_type": "display_data"
    }
   ],
   "source": [
    "ranks [5, 15, 17, 17] 0 0 0"
   ]
  },
  {
   "cell_type": "code",
   "execution_count": 16,
   "id": "08622f89",
   "metadata": {},
   "outputs": [
    {
     "data": {
      "text/plain": [
       "[1,1,1,1]"
      ]
     },
     "metadata": {},
     "output_type": "display_data"
    }
   ],
   "source": [
    "ranks [5, 5, 5, 5] 0 0 0"
   ]
  },
  {
   "cell_type": "code",
   "execution_count": 17,
   "id": "f6365f15",
   "metadata": {},
   "outputs": [
    {
     "data": {
      "text/plain": [
       "[1,2,2,4]"
      ]
     },
     "metadata": {},
     "output_type": "display_data"
    }
   ],
   "source": [
    "ranks [5, 15, 15, 17] 0 0 0"
   ]
  },
  {
   "cell_type": "code",
   "execution_count": null,
   "id": "a90f4655",
   "metadata": {},
   "outputs": [],
   "source": []
  },
  {
   "cell_type": "code",
   "execution_count": null,
   "id": "3d449e6e",
   "metadata": {},
   "outputs": [],
   "source": [
    "ranks [5, 15, 17, 17] 0 0 = [1, 2, 3, 3]\n",
    "ranks [15, 17, 17] 5 1 = 2 : [3, 3] = [2, 3, 3]\n",
    "ranks [17, 17] 15 2 = 3 : [3] = [3, 3]\n",
    "ranks [17] 17 3 = [3]"
   ]
  },
  {
   "cell_type": "code",
   "execution_count": null,
   "id": "78d0f087",
   "metadata": {},
   "outputs": [],
   "source": [
    "ranks [5, 15, 17, 20] 0 0 = 1 : [2, 3, 4] = [1, 2, 3, 4]\n",
    "ranks [15, 17, 20] 5 1 = 2 : [3, 4] = [2, 3, 4]\n",
    "ranks [17, 20] 15, 2 = 3 : [4] = [3, 4]\n",
    "ranks [20] 17, 3 = [4]"
   ]
  },
  {
   "cell_type": "code",
   "execution_count": 2,
   "id": "9bef6b1c",
   "metadata": {},
   "outputs": [
    {
     "data": {
      "text/plain": [
       "[1,2]"
      ]
     },
     "metadata": {},
     "output_type": "display_data"
    }
   ],
   "source": [
    "ranks [5, 5, 15, 17] 0 0 = 1 : [1, 2, 3] = [1, 1, 2, 3]\n",
    "ranks [5, 15, 17] 5 1 = 1 : [2, 3] = [1, 2, 3]\n",
    "ranks [15, 17] 5 1 = 2 : [3] = [2, 3]\n",
    "ranks [17] 15 2 = [3]"
   ]
  },
  {
   "cell_type": "code",
   "execution_count": null,
   "id": "050c721c",
   "metadata": {},
   "outputs": [],
   "source": []
  }
 ],
 "metadata": {
  "kernelspec": {
   "display_name": "Haskell",
   "language": "haskell",
   "name": "haskell"
  },
  "language_info": {
   "codemirror_mode": "ihaskell",
   "file_extension": ".hs",
   "mimetype": "text/x-haskell",
   "name": "haskell",
   "pygments_lexer": "Haskell",
   "version": "8.10.4"
  }
 },
 "nbformat": 4,
 "nbformat_minor": 5
}
