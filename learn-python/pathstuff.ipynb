{
 "cells": [
  {
   "cell_type": "code",
   "execution_count": 59,
   "metadata": {},
   "outputs": [],
   "source": [
    "from pathlib import Path\n",
    "from more_itertools import take"
   ]
  },
  {
   "cell_type": "markdown",
   "metadata": {},
   "source": [
    "## Useful Properties\n",
    "\n",
    "![path](./path.png)"
   ]
  },
  {
   "cell_type": "code",
   "execution_count": 50,
   "metadata": {},
   "outputs": [],
   "source": [
    "# p = Path(\"/Users/avilay/temp/kaggle-criteo/data.tar.gz\")\n",
    "p = Path(\"/home/avilay/mldata/criteo/kaggle/data.tar.gz\")"
   ]
  },
  {
   "cell_type": "code",
   "execution_count": 51,
   "metadata": {},
   "outputs": [
    {
     "data": {
      "text/plain": [
       "('/', 'home', 'avilay', 'mldata', 'criteo', 'kaggle', 'data.tar.gz')"
      ]
     },
     "execution_count": 51,
     "metadata": {},
     "output_type": "execute_result"
    }
   ],
   "source": [
    "p.parts"
   ]
  },
  {
   "cell_type": "code",
   "execution_count": 52,
   "metadata": {},
   "outputs": [
    {
     "data": {
      "text/plain": [
       "'/'"
      ]
     },
     "execution_count": 52,
     "metadata": {},
     "output_type": "execute_result"
    }
   ],
   "source": [
    "p.root"
   ]
  },
  {
   "cell_type": "code",
   "execution_count": 53,
   "metadata": {},
   "outputs": [
    {
     "name": "stdout",
     "output_type": "stream",
     "text": [
      "[0]: /home/avilay/mldata/criteo/kaggle\n",
      "[1]: /home/avilay/mldata/criteo\n",
      "[2]: /home/avilay/mldata\n",
      "[3]: /home/avilay\n",
      "[4]: /home\n",
      "[5]: /\n"
     ]
    }
   ],
   "source": [
    "for i, parent in enumerate(p.parents):\n",
    "    print(f\"[{i}]: {parent}\")"
   ]
  },
  {
   "cell_type": "code",
   "execution_count": 54,
   "metadata": {},
   "outputs": [
    {
     "data": {
      "text/plain": [
       "PosixPath('/home/avilay/mldata/criteo/kaggle')"
      ]
     },
     "execution_count": 54,
     "metadata": {},
     "output_type": "execute_result"
    }
   ],
   "source": [
    "p.parent"
   ]
  },
  {
   "cell_type": "code",
   "execution_count": 55,
   "metadata": {},
   "outputs": [
    {
     "data": {
      "text/plain": [
       "'data.tar.gz'"
      ]
     },
     "execution_count": 55,
     "metadata": {},
     "output_type": "execute_result"
    }
   ],
   "source": [
    "p.name"
   ]
  },
  {
   "cell_type": "code",
   "execution_count": 56,
   "metadata": {},
   "outputs": [
    {
     "data": {
      "text/plain": [
       "'.gz'"
      ]
     },
     "execution_count": 56,
     "metadata": {},
     "output_type": "execute_result"
    }
   ],
   "source": [
    "p.suffix"
   ]
  },
  {
   "cell_type": "code",
   "execution_count": 57,
   "metadata": {},
   "outputs": [
    {
     "data": {
      "text/plain": [
       "['.tar', '.gz']"
      ]
     },
     "execution_count": 57,
     "metadata": {},
     "output_type": "execute_result"
    }
   ],
   "source": [
    "p.suffixes"
   ]
  },
  {
   "cell_type": "code",
   "execution_count": 58,
   "metadata": {},
   "outputs": [
    {
     "data": {
      "text/plain": [
       "'data.tar'"
      ]
     },
     "execution_count": 58,
     "metadata": {},
     "output_type": "execute_result"
    }
   ],
   "source": [
    "p.stem"
   ]
  },
  {
   "cell_type": "markdown",
   "metadata": {},
   "source": [
    "## Useful Methods\n",
    "\n",
    "These are just some of the methods that I think are useful for my day-to-day. There are other methods to mess around with the permissions, etc. that are not listed here."
   ]
  },
  {
   "cell_type": "markdown",
   "metadata": {},
   "source": [
    "### Shortcut Paths\n",
    "There are two useful methods here to get the home directory and the current working directory. These are just getters and don't actually change the directory or anything.\n",
    "  * `cwd()`\n",
    "  * `home()`\n",
    "\n",
    "There are also useful methods for expanding string paths with shortcuts in them.\n",
    "  * `Path.expanduser()`\n",
    "  * `resolve()`"
   ]
  },
  {
   "cell_type": "code",
   "execution_count": 56,
   "metadata": {},
   "outputs": [
    {
     "data": {
      "text/plain": [
       "PosixPath('/Users/avilay')"
      ]
     },
     "execution_count": 56,
     "metadata": {},
     "output_type": "execute_result"
    }
   ],
   "source": [
    "Path.home()"
   ]
  },
  {
   "cell_type": "code",
   "execution_count": 57,
   "metadata": {},
   "outputs": [
    {
     "data": {
      "text/plain": [
       "PosixPath('/Users/avilay/projects/bitbucket/learn/learn-python')"
      ]
     },
     "execution_count": 57,
     "metadata": {},
     "output_type": "execute_result"
    }
   ],
   "source": [
    "Path.cwd()"
   ]
  },
  {
   "cell_type": "code",
   "execution_count": null,
   "metadata": {},
   "outputs": [
    {
     "data": {
      "text/plain": [
       "PosixPath('/Users/avilay/mldata/criteo/kaggle/data.tar.gz')"
      ]
     },
     "metadata": {},
     "output_type": "display_data"
    }
   ],
   "source": [
    "datafile = \"~/mldata/criteo/kaggle/data.tar.gz\"\n",
    "Path.expanduser(Path(datafile))"
   ]
  },
  {
   "cell_type": "code",
   "execution_count": null,
   "metadata": {},
   "outputs": [
    {
     "name": "stdout",
     "output_type": "stream",
     "text": [
      "/Users/avilay/projects/bitbucket/learn/learn-python\n",
      "/Users/avilay/projects/bitbucket/learn/learn-python/setup.py\n"
     ]
    }
   ],
   "source": [
    "p = Path(\".\")\n",
    "print(p.resolve())\n",
    "\n",
    "p = Path(\"docs/../setup.py\")\n",
    "print(p.resolve())"
   ]
  },
  {
   "cell_type": "markdown",
   "metadata": {},
   "source": [
    "### List Contents\n",
    "The most straightforward method is `iterdir` which acts just like `ls` in that it does not recurse in any other directory. A more useful method however is the `glob` method where I can search the path object if it is a directory. If the path object is a file, then it returns an empty iterator. A related method is to check if the path object matches a glob pattern.\n",
    "\n",
    "  * `iterdir()`\n",
    "  * `glob()`\n",
    "  * `match()`"
   ]
  },
  {
   "cell_type": "code",
   "execution_count": 63,
   "metadata": {},
   "outputs": [
    {
     "data": {
      "text/plain": [
       "[PosixPath('/Users/avilay/projects/bitbucket/learn/learn-python/functions.py'),\n",
       " PosixPath('/Users/avilay/projects/bitbucket/learn/learn-python/Generators.pdf'),\n",
       " PosixPath('/Users/avilay/projects/bitbucket/learn/learn-python/binary.py')]"
      ]
     },
     "execution_count": 63,
     "metadata": {},
     "output_type": "execute_result"
    }
   ],
   "source": [
    "# `iterdir` is like `ls` and there is no recursive listing.\n",
    "curr_dir = Path.cwd()\n",
    "take(3, curr_dir.iterdir())"
   ]
  },
  {
   "cell_type": "code",
   "execution_count": 62,
   "metadata": {},
   "outputs": [
    {
     "data": {
      "text/plain": [
       "[PosixPath('/Users/avilay/projects/bitbucket/learn/learn-python/functions.py'),\n",
       " PosixPath('/Users/avilay/projects/bitbucket/learn/learn-python/binary.py'),\n",
       " PosixPath('/Users/avilay/projects/bitbucket/learn/learn-python/db.py')]"
      ]
     },
     "execution_count": 62,
     "metadata": {},
     "output_type": "execute_result"
    }
   ],
   "source": [
    "curr_dir = Path.cwd()\n",
    "take(3, curr_dir.glob(\"*.py\"))\n"
   ]
  },
  {
   "cell_type": "code",
   "execution_count": 61,
   "metadata": {},
   "outputs": [
    {
     "data": {
      "text/plain": [
       "[]"
      ]
     },
     "execution_count": 61,
     "metadata": {},
     "output_type": "execute_result"
    }
   ],
   "source": [
    "this_file = Path.cwd() / \"pathstuff.ipynb\"\n",
    "take(3, this_file.glob(\"*.py\"))"
   ]
  },
  {
   "cell_type": "code",
   "execution_count": 64,
   "metadata": {},
   "outputs": [
    {
     "name": "stdout",
     "output_type": "stream",
     "text": [
      "/Users/avilay/mldata/criteo/kaggle/data.tar.gz\n"
     ]
    },
    {
     "data": {
      "text/plain": [
       "True"
      ]
     },
     "execution_count": 64,
     "metadata": {},
     "output_type": "execute_result"
    }
   ],
   "source": [
    "datafile = Path.home() / \"mldata\" / \"criteo\" / \"kaggle\" / \"data.tar.gz\"\n",
    "print(datafile)\n",
    "datafile.match(\"**/data*\")"
   ]
  },
  {
   "cell_type": "markdown",
   "metadata": {},
   "source": [
    "### File or Directory Information\n",
    "There are a number of methods that give info on the path object.\n",
    "  * `exists()`\n",
    "  * `is_file()` and `is_dir()`\n",
    "  * `is_absolute()` and `is_relative_to()`\n",
    "  * `stat()`"
   ]
  },
  {
   "cell_type": "code",
   "execution_count": null,
   "metadata": {},
   "outputs": [
    {
     "data": {
      "text/plain": [
       "True"
      ]
     },
     "metadata": {},
     "output_type": "display_data"
    }
   ],
   "source": [
    "this_file = Path.cwd() / \"pathstuff.ipynb\"\n",
    "this_file.exists()"
   ]
  },
  {
   "cell_type": "code",
   "execution_count": null,
   "metadata": {},
   "outputs": [
    {
     "name": "stdout",
     "output_type": "stream",
     "text": [
      "True True\n"
     ]
    }
   ],
   "source": [
    "this_file = Path.cwd() / \"pathstuff.ipynb\"\n",
    "curr_dir = Path.cwd()\n",
    "print(this_file.is_file(), curr_dir.is_dir())"
   ]
  },
  {
   "cell_type": "code",
   "execution_count": null,
   "metadata": {},
   "outputs": [
    {
     "name": "stdout",
     "output_type": "stream",
     "text": [
      "True\n",
      "False\n"
     ]
    }
   ],
   "source": [
    "p = Path(\"/a/b\")\n",
    "print(p.is_absolute())\n",
    "\n",
    "p = Path(\"a/b\")\n",
    "print(p.is_absolute())"
   ]
  },
  {
   "cell_type": "code",
   "execution_count": null,
   "metadata": {},
   "outputs": [
    {
     "name": "stdout",
     "output_type": "stream",
     "text": [
      "True\n",
      "False\n"
     ]
    }
   ],
   "source": [
    "p = Path(\"/etc/passwd\")\n",
    "print(p.is_relative_to(\"/etc\"))\n",
    "print(p.is_relative_to(\"/usr\"))"
   ]
  },
  {
   "cell_type": "code",
   "execution_count": null,
   "metadata": {},
   "outputs": [
    {
     "data": {
      "text/plain": [
       "os.stat_result(st_mode=33188, st_ino=7612687, st_dev=16777231, st_nlink=1, st_uid=501, st_gid=20, st_size=5050, st_atime=1662144154, st_mtime=1662144154, st_ctime=1662144154)"
      ]
     },
     "metadata": {},
     "output_type": "display_data"
    }
   ],
   "source": [
    "this_file = Path.cwd() / \"pathstuff.ipynb\"\n",
    "this_file.stat()"
   ]
  },
  {
   "cell_type": "markdown",
   "metadata": {},
   "source": [
    "### Modify Path Objects\n",
    "`Path` objects are immutable, but the class provides a number of convenience methods to modify the path. The modified path is ofcourse returned as a new object.\n",
    "  * `with_name()`\n",
    "  * `with_stem()`\n",
    "  * `with_suffix()`"
   ]
  },
  {
   "cell_type": "code",
   "execution_count": null,
   "metadata": {},
   "outputs": [
    {
     "name": "stdout",
     "output_type": "stream",
     "text": [
      "/Users/avilay/projects/bitbucket/learn/learn-python/pathstuff.ipynb\n",
      "/Users/avilay/projects/bitbucket/learn/learn-python/scratch.ipynb\n",
      "/Users/avilay/projects/bitbucket/learn/learn-python/scratch.ipynb\n",
      "/Users/avilay/projects/bitbucket/learn/learn-python/pathstuff.py\n"
     ]
    }
   ],
   "source": [
    "this_file = Path.cwd() / \"pathstuff.ipynb\"\n",
    "print(this_file)\n",
    "print(this_file.with_name(\"scratch.ipynb\"))\n",
    "print(this_file.with_stem(\"scratch\"))\n",
    "print(this_file.with_suffix(\".py\"))"
   ]
  },
  {
   "cell_type": "markdown",
   "metadata": {},
   "source": [
    "### File I/O\n",
    "There are a couple of convenience methods for file i/o without using the builtin `open()` function.\n",
    "  * `open()`\n",
    "  * `read_text()` and `write_text()`\n",
    "  * `read_bytes()` and `write_bytes()`\n",
    "  * `mkdir()`"
   ]
  },
  {
   "cell_type": "code",
   "execution_count": null,
   "metadata": {},
   "outputs": [
    {
     "name": "stdout",
     "output_type": "stream",
     "text": [
      "from datetime import datetime, timezone\n",
      "import pytz\n",
      "\n",
      "localtime = datetime.now(timezone.utc).astimezone(pytz.timezone('US/Pacific')).isoformat()\n",
      "print(localtime)\n"
     ]
    }
   ],
   "source": [
    "py = Path.cwd() / \"dates.py\"\n",
    "py.exists()\n",
    "with py.open(\"rt\") as f:\n",
    "    for line in f:\n",
    "        print(line.strip())"
   ]
  },
  {
   "cell_type": "code",
   "execution_count": null,
   "metadata": {},
   "outputs": [
    {
     "name": "stdout",
     "output_type": "stream",
     "text": [
      "<class 'str'> from datetime import datetime, timezone\n",
      "import pytz\n",
      "\n",
      "localtime = datetime.now(timezone.utc).astimezone(pytz.timezone('US/Pacific')).isoformat()\n",
      "print(localtime)\n",
      "\n"
     ]
    }
   ],
   "source": [
    "# read_text reads all the lines in a single string but preserves the line breaks.\n",
    "# There is also a corresponding write_text method.\n",
    "py = Path.cwd() / \"dates.py\"\n",
    "txt = py.read_text()\n",
    "print(type(txt), txt)"
   ]
  },
  {
   "cell_type": "code",
   "execution_count": null,
   "metadata": {},
   "outputs": [
    {
     "name": "stdout",
     "output_type": "stream",
     "text": [
      "<class 'bytes'> from datetime import datetime, timezone\n",
      "import pytz\n",
      "\n",
      "localtime = datetime.now(timezone.utc).astimezone(pytz.timezone('US/Pacific')).isoformat()\n",
      "print(localtime)\n",
      "\n"
     ]
    }
   ],
   "source": [
    "# read_bytes reads the contents as bytes.\n",
    "# there is also a corresponding write_bytes method\n",
    "py = Path.cwd() / \"dates.py\"\n",
    "bts = py.read_bytes()\n",
    "print(type(bts), bts.decode(\"utf-8\"))"
   ]
  },
  {
   "cell_type": "code",
   "execution_count": 72,
   "metadata": {},
   "outputs": [
    {
     "name": "stdout",
     "output_type": "stream",
     "text": [
      "Does /Users/avilay/temp/path/stuff exist? (expected False):  False\n",
      "Does /Users/avilay/temp/path/stuff exist afer mkdir? (expected True):  True\n"
     ]
    }
   ],
   "source": [
    "tmp_dir = Path.home() / \"temp\" / \"path\" / \"stuff\"\n",
    "print(f\"Does {tmp_dir} exist? (expected False): \", tmp_dir.exists())\n",
    "tmp_dir.mkdir(parents=True, exist_ok=False)\n",
    "print(f\"Does {tmp_dir} exist afer mkdir? (expected True): \", tmp_dir.exists())\n",
    "\n",
    "# cleanup\n",
    "!rm -fr ~/temp/path"
   ]
  },
  {
   "cell_type": "markdown",
   "metadata": {},
   "source": [
    "### Moving and Removing\n",
    "\n",
    "  * `replace()` and `rename()`: Both of these do the same thing but `replace` is more portable, `rename` only works on unix systems. This method can only be used to move files from one location to another. It does not seem to work with directories.\n",
    "\n",
    "  * `unlink`: This is used to delete a file. It will not work on a directory.\n",
    "  \n",
    "  * `rmdir`: This is used to remove empty directories."
   ]
  },
  {
   "cell_type": "code",
   "execution_count": 80,
   "metadata": {},
   "outputs": [
    {
     "name": "stdout",
     "output_type": "stream",
     "text": [
      "Does /Users/avilay/projects/bitbucket/learn/learn-python/hello.txt exist? (expected True):  True\n",
      "Does /Users/avilay/temp/path/stuff/copy_of_hello.txt exist? (expected False)  False\n",
      "Does /Users/avilay/projects/bitbucket/learn/learn-python/hello.txt still exist? (expected False):  False\n",
      "Does /Users/avilay/temp/path/stuff/copy_of_hello.txt exist now? (expected True):  True\n"
     ]
    }
   ],
   "source": [
    "# Use replace to move file from location to another and rename it in the process.\n",
    "\n",
    "# create the temp dir, without it replace will error out.\n",
    "tmp_dir = Path.home() / \"temp\" / \"path\" / \"stuff\"\n",
    "tmp_dir.mkdir(parents=True, exist_ok=True)\n",
    "\n",
    "# Create a temp file in this directory.\n",
    "hello = Path.cwd() / \"hello.txt\"\n",
    "hello.write_text(\"this is a sample hello world file.\\n\")\n",
    "print(f\"Does {hello} exist? (expected True): \", hello.exists())\n",
    "\n",
    "# Now move it to the ~/temp/path/stuff directory as copy_of_hello.txt\n",
    "hello_copy = tmp_dir / \"copy_of_hello.txt\"\n",
    "print(f\"Does {hello_copy} exist? (expected False) \", hello_copy.exists())  # Verify that the destination file does not exist.\n",
    "hello.rename(hello_copy)  # This will move the file.\n",
    "print(f\"Does {hello} still exist? (expected False): \", hello.exists())\n",
    "print(f\"Does {hello_copy} exist now? (expected True): \", hello_copy.exists())\n"
   ]
  },
  {
   "cell_type": "code",
   "execution_count": 81,
   "metadata": {},
   "outputs": [
    {
     "name": "stdout",
     "output_type": "stream",
     "text": [
      "Does /Users/avilay/temp/path/stuff/copy_of_hello.txt exist after unlinking? (expected False):  False\n"
     ]
    }
   ],
   "source": [
    "hello_copy.unlink()\n",
    "print(f\"Does {hello_copy} exist after unlinking? (expected False): \", hello_copy.exists())"
   ]
  },
  {
   "cell_type": "code",
   "execution_count": 82,
   "metadata": {},
   "outputs": [
    {
     "name": "stdout",
     "output_type": "stream",
     "text": [
      "[Errno 66] Directory not empty: '/Users/avilay/temp/path'\n"
     ]
    }
   ],
   "source": [
    "# if I try to remove ~/temp/path it won't work because it still contains stuff in it.\n",
    "try:\n",
    "    tmp_dir.parent.rmdir()\n",
    "except OSError as err:\n",
    "    print(err)"
   ]
  },
  {
   "cell_type": "code",
   "execution_count": 83,
   "metadata": {},
   "outputs": [
    {
     "name": "stdout",
     "output_type": "stream",
     "text": [
      "Does /Users/avilay/temp/path/stuff exist? (expected False):  False\n",
      "Does /Users/avilay/temp/path exist? (expected False):  False\n"
     ]
    }
   ],
   "source": [
    "# I'll have to first remove stuff and then I can remove path\n",
    "tmp_dir.rmdir()\n",
    "tmp_dir.parent.rmdir()\n",
    "print(f\"Does {tmp_dir} exist? (expected False): \", tmp_dir.exists())\n",
    "print(f\"Does {tmp_dir.parent} exist? (expected False): \", tmp_dir.parent.exists())"
   ]
  },
  {
   "cell_type": "code",
   "execution_count": null,
   "metadata": {},
   "outputs": [],
   "source": []
  }
 ],
 "metadata": {
  "kernelspec": {
   "display_name": "Python 3 (ipykernel)",
   "language": "python",
   "name": "python3"
  },
  "language_info": {
   "codemirror_mode": {
    "name": "ipython",
    "version": 3
   },
   "file_extension": ".py",
   "mimetype": "text/x-python",
   "name": "python",
   "nbconvert_exporter": "python",
   "pygments_lexer": "ipython3",
   "version": "3.13.1"
  },
  "vscode": {
   "interpreter": {
    "hash": "248aaaef2ce54d580c63d0621ea4262f68d22105863a800468921850ea527b06"
   }
  }
 },
 "nbformat": 4,
 "nbformat_minor": 4
}
