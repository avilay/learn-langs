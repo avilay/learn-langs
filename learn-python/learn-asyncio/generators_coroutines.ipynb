{
 "cells": [
  {
   "cell_type": "markdown",
   "metadata": {},
   "source": [
    "# Generator Coroutines"
   ]
  },
  {
   "cell_type": "markdown",
   "metadata": {},
   "source": [
    "This notebook talks about old style coroutines that do not use the `async/await` syntax. These old style coroutines are very similar to generators, in fact their type is a `generator`. The only difference is that in addition to yielding values, co-routines can also accept parameters with yield. So it is a weird function which can accept params in the middle of its execution and act on it.\n",
    "\n",
    "David Beazley's [A Curious Course on Coroutines and Concurrency](http://www.dabeaz.com/coroutines/) [[downloaded pdf](./Coroutines.pdf)]. Like all of his courses, it seems good at first, but after I have thought about it in great detail, I don't like it anymore."
   ]
  },
  {
   "cell_type": "code",
   "execution_count": 62,
   "metadata": {},
   "outputs": [],
   "source": [
    "from cprint import cprint\n",
    "import random"
   ]
  },
  {
   "cell_type": "markdown",
   "metadata": {},
   "source": [
    "## Execution Flow\n",
    "First question is how does one get an argument to the coroutine mid-execution? This is done with the help of the `send` function that is available on all `generators`. Remember how for plain generators, calling `next(gen)` results in the function executing till it hits a `yield val` or `yield` statement. The return value of `next` is then either `None` or `val`. Think of `next` as syntactic sugar on top of `send`. `v = gen.send(None)` is equivalent to `v = next(gen)`. "
   ]
  },
  {
   "cell_type": "code",
   "execution_count": 2,
   "metadata": {},
   "outputs": [],
   "source": [
    "def coro_1(x):\n",
    "    cprint(0, \"I am doing\")\n",
    "    cprint(0, \"something of great\")\n",
    "    cprint(0, \"importance\")\n",
    "    val = x + 10\n",
    "    arg = yield val\n",
    "    cprint(0, f\"Got {arg} from caller.\")\n",
    "    yield arg + 10\n",
    "    cprint(0, \"I am done.\")\n",
    "    return True"
   ]
  },
  {
   "cell_type": "code",
   "execution_count": 3,
   "metadata": {},
   "outputs": [
    {
     "data": {
      "text/plain": [
       "generator"
      ]
     },
     "execution_count": 3,
     "metadata": {},
     "output_type": "execute_result"
    }
   ],
   "source": [
    "coro_1_obj_1 = coro_1(3)\n",
    "type(coro_1_obj_1)"
   ]
  },
  {
   "cell_type": "markdown",
   "metadata": {},
   "source": [
    "Now the first time I call `coro_1_obj_1` it will execute till line #6. But only partially, calling `coro_1_obj_1.send(None)` will return 13. The call is now suspended on line #6. There is nothing assigned to `arg` yet. If I call `coro_1_obj_1.send(5)` now, the exeuction resumes from line #6 with `arg` being assigned the value 5. The call then executes till line #8, where the control is yielded back to the caller."
   ]
  },
  {
   "cell_type": "code",
   "execution_count": 4,
   "metadata": {},
   "outputs": [
    {
     "name": "stdout",
     "output_type": "stream",
     "text": [
      "\u001b[38;2;245;120;66mI am doing\u001b[0m\n",
      "\u001b[38;2;245;120;66msomething of great\u001b[0m\n",
      "\u001b[38;2;245;120;66mimportance\u001b[0m\n"
     ]
    },
    {
     "data": {
      "text/plain": [
       "13"
      ]
     },
     "execution_count": 4,
     "metadata": {},
     "output_type": "execute_result"
    }
   ],
   "source": [
    "next(coro_1_obj_1)"
   ]
  },
  {
   "cell_type": "code",
   "execution_count": 5,
   "metadata": {},
   "outputs": [
    {
     "name": "stdout",
     "output_type": "stream",
     "text": [
      "\u001b[38;2;245;120;66mGot 5 from caller.\u001b[0m\n"
     ]
    },
    {
     "data": {
      "text/plain": [
       "15"
      ]
     },
     "execution_count": 5,
     "metadata": {},
     "output_type": "execute_result"
    }
   ],
   "source": [
    "coro_1_obj_1.send(5)"
   ]
  },
  {
   "cell_type": "markdown",
   "metadata": {},
   "source": [
    "Whenever I see the following pattern -\n",
    "\n",
    "```python\n",
    "x = yield expr\n",
    "```\n",
    "\n",
    "Remember, `x` has got **nothing to do with** `expr`! `x` will not take the value \"yield\"ed by `expr`. These are two completely different things. The value of `expr` goes to the caller of `v = next(g)` or alternatively `v = g.send(...)`. So `v` will get the return value of `expr`. But `x` will get whatever the caller will send it, i.e., `g.send(val_x)` will result in `x` being assinged `val_x`. According to dbeazley it is best to keep coroutines and generators separate, i.e., have either of the two patterns, but not the one above.\n",
    "\n",
    "```python\n",
    "def generator():\n",
    "    ...\n",
    "    yield val\n",
    "    ...\n",
    "\n",
    "def coroutine():\n",
    "    ...\n",
    "    arg = yield\n",
    "    ...\n",
    "```\n",
    "\n",
    "Mixing the two can be confusing."
   ]
  },
  {
   "cell_type": "markdown",
   "metadata": {},
   "source": [
    "## Send Rules\n",
    "### Run Till `yield`\n",
    "One pitfall in this programming model is that often times I forget that `coro_1_obj_1.send(v)` will run till the next `yield`. It is not just assinging the value to `arg` and waiting on line #6. It will run until it finds another `yield` on line #8. If it does not find another `yield`, it will raise a `StopIteration` error just like a plain generator."
   ]
  },
  {
   "cell_type": "code",
   "execution_count": 6,
   "metadata": {},
   "outputs": [
    {
     "name": "stdout",
     "output_type": "stream",
     "text": [
      "\u001b[38;2;245;120;66mI am done.\u001b[0m\n"
     ]
    },
    {
     "ename": "StopIteration",
     "evalue": "True",
     "output_type": "error",
     "traceback": [
      "\u001b[0;31m---------------------------------------------------------------------------\u001b[0m",
      "\u001b[0;31mStopIteration\u001b[0m                             Traceback (most recent call last)",
      "\u001b[1;32m/Users/avilayparekh/projects/bitbucket/learn/learn-python/learn-asyncio/coroutines.ipynb Cell 12'\u001b[0m in \u001b[0;36m<cell line: 1>\u001b[0;34m()\u001b[0m\n\u001b[0;32m----> <a href='vscode-notebook-cell:/Users/avilayparekh/projects/bitbucket/learn/learn-python/learn-asyncio/coroutines.ipynb#ch0000019?line=0'>1</a>\u001b[0m coro_1_obj_1\u001b[39m.\u001b[39;49msend(\u001b[39mTrue\u001b[39;49;00m)\n",
      "\u001b[0;31mStopIteration\u001b[0m: True"
     ]
    }
   ],
   "source": [
    "coro_1_obj_1.send(True)"
   ]
  },
  {
   "cell_type": "markdown",
   "metadata": {},
   "source": [
    "### Priming\n",
    "\n",
    "It does not make a lot of sense to send `coro_1_obj_1` a value immediately after creating it because there is nothing to recieve the value. This why these coroutines have to \"primed\" first by sending a `None` so they can reach the first `yield` statement and then wait for the argument from the caller. While this makes perfect sense from the implementation, the semantics become a bit weird. The first time around, the only valid value to send is `None`, anything else will result in an error."
   ]
  },
  {
   "cell_type": "code",
   "execution_count": 7,
   "metadata": {},
   "outputs": [
    {
     "ename": "TypeError",
     "evalue": "can't send non-None value to a just-started generator",
     "output_type": "error",
     "traceback": [
      "\u001b[0;31m---------------------------------------------------------------------------\u001b[0m",
      "\u001b[0;31mTypeError\u001b[0m                                 Traceback (most recent call last)",
      "\u001b[1;32m/Users/avilayparekh/projects/bitbucket/learn/learn-python/learn-asyncio/coroutines.ipynb Cell 14'\u001b[0m in \u001b[0;36m<cell line: 2>\u001b[0;34m()\u001b[0m\n\u001b[1;32m      <a href='vscode-notebook-cell:/Users/avilayparekh/projects/bitbucket/learn/learn-python/learn-asyncio/coroutines.ipynb#ch0000018?line=0'>1</a>\u001b[0m coro_1_obj_2 \u001b[39m=\u001b[39m coro_1(\u001b[39m3\u001b[39m)\n\u001b[0;32m----> <a href='vscode-notebook-cell:/Users/avilayparekh/projects/bitbucket/learn/learn-python/learn-asyncio/coroutines.ipynb#ch0000018?line=1'>2</a>\u001b[0m coro_1_obj_2\u001b[39m.\u001b[39;49msend(\u001b[39m10\u001b[39;49m)\n",
      "\u001b[0;31mTypeError\u001b[0m: can't send non-None value to a just-started generator"
     ]
    }
   ],
   "source": [
    "coro_1_obj_2 = coro_1(3)\n",
    "coro_1_obj_2.send(10)"
   ]
  },
  {
   "cell_type": "markdown",
   "metadata": {},
   "source": [
    "### Subsequent `send` Calls\n",
    "After the first call, all other `send` calls can send in whatever they want. Even if the coroutine is not accepting any arguments, the caller can send values and they will be silently dropped on the floor."
   ]
  },
  {
   "cell_type": "code",
   "execution_count": 15,
   "metadata": {},
   "outputs": [],
   "source": [
    "def coro_2(x):\n",
    "    cprint(0, \"I am doing\")\n",
    "    cprint(0, \"something of great\")\n",
    "    cprint(0, \"importance\")\n",
    "    val = x + 10\n",
    "    arg = yield val\n",
    "    cprint(0, f\"Got {arg} from caller.\")\n",
    "    yield arg + 10\n",
    "    cprint(0, \"Continuing on my merry journey ignoring anything you might have sent me.\")\n",
    "    yield \"HAHA\"\n",
    "    cprint(0, \"And now I am done\")\n",
    "    return True"
   ]
  },
  {
   "cell_type": "code",
   "execution_count": 16,
   "metadata": {},
   "outputs": [
    {
     "name": "stdout",
     "output_type": "stream",
     "text": [
      "\u001b[38;2;245;120;66mI am doing\u001b[0m\n",
      "\u001b[38;2;245;120;66msomething of great\u001b[0m\n",
      "\u001b[38;2;245;120;66mimportance\u001b[0m\n",
      "Primed val:  13\n",
      "\u001b[38;2;245;120;66mGot 5 from caller.\u001b[0m\n",
      "Got val:  15\n",
      "\u001b[38;2;245;120;66mContinuing on my merry journey ignoring anything you might have sent me.\u001b[0m\n",
      "Got val:  HAHA\n"
     ]
    }
   ],
   "source": [
    "coro_2_obj_1 = coro_2(3)\n",
    "\n",
    "# Prime the coroutine\n",
    "val = next(coro_2_obj_1)  \n",
    "print(\"Primed val: \", val)\n",
    "\n",
    "val = coro_2_obj_1.send(5)\n",
    "print(\"Got val: \", val)\n",
    "\n",
    "val = coro_2_obj_1.send(\"rubbish\")\n",
    "print(\"Got val: \", val)"
   ]
  },
  {
   "cell_type": "markdown",
   "metadata": {},
   "source": [
    "## Closing\n",
    "This applies to plain old generators as well as coroutines. After `gen.close()` is called, regardless of how many more `yield`s are remaining in the function, the next call to `next` will result in a `StopIteration` error. `gen.close()` will return always return `None`.\n"
   ]
  },
  {
   "cell_type": "code",
   "execution_count": 32,
   "metadata": {},
   "outputs": [],
   "source": [
    "def coro_3():\n",
    "    yield \"first\"\n",
    "    yield \"second\"\n",
    "    yield \"third\"\n",
    "    cprint(0, \"I am done.\")\n",
    "    return True"
   ]
  },
  {
   "cell_type": "markdown",
   "metadata": {},
   "source": [
    "For `coro_3` , if I call `close` after calling `next` twice, then even though a thrid `yield` is still there, I'll hit a `StopIteration`. Lines #4 to #6 never get executed."
   ]
  },
  {
   "cell_type": "code",
   "execution_count": 33,
   "metadata": {},
   "outputs": [
    {
     "name": "stdout",
     "output_type": "stream",
     "text": [
      "first\n",
      "second\n"
     ]
    }
   ],
   "source": [
    "coro_3_obj_1 = coro_3()\n",
    "print(next(coro_3_obj_1))\n",
    "print(next(coro_3_obj_1))"
   ]
  },
  {
   "cell_type": "code",
   "execution_count": 53,
   "metadata": {},
   "outputs": [
    {
     "name": "stdout",
     "output_type": "stream",
     "text": [
      "None\n"
     ]
    }
   ],
   "source": [
    "ret = coro_3_obj_1.close()\n",
    "print(ret)"
   ]
  },
  {
   "cell_type": "code",
   "execution_count": 35,
   "metadata": {},
   "outputs": [
    {
     "ename": "StopIteration",
     "evalue": "",
     "output_type": "error",
     "traceback": [
      "\u001b[0;31m---------------------------------------------------------------------------\u001b[0m",
      "\u001b[0;31mStopIteration\u001b[0m                             Traceback (most recent call last)",
      "\u001b[1;32m/Users/avilayparekh/projects/bitbucket/learn/learn-python/learn-asyncio/coroutines.ipynb Cell 22'\u001b[0m in \u001b[0;36m<cell line: 1>\u001b[0;34m()\u001b[0m\n\u001b[0;32m----> <a href='vscode-notebook-cell:/Users/avilayparekh/projects/bitbucket/learn/learn-python/learn-asyncio/coroutines.ipynb#ch0000031?line=0'>1</a>\u001b[0m \u001b[39mnext\u001b[39;49m(coro_3_obj_1)\n",
      "\u001b[0;31mStopIteration\u001b[0m: "
     ]
    }
   ],
   "source": [
    "next(coro_3_obj_1)"
   ]
  },
  {
   "cell_type": "markdown",
   "metadata": {},
   "source": [
    "Even if I call `close` after all the `yield`s are done, lines #5 and #6 never get executed."
   ]
  },
  {
   "cell_type": "code",
   "execution_count": 36,
   "metadata": {},
   "outputs": [
    {
     "name": "stdout",
     "output_type": "stream",
     "text": [
      "first\n",
      "second\n",
      "third\n"
     ]
    },
    {
     "ename": "StopIteration",
     "evalue": "",
     "output_type": "error",
     "traceback": [
      "\u001b[0;31m---------------------------------------------------------------------------\u001b[0m",
      "\u001b[0;31mStopIteration\u001b[0m                             Traceback (most recent call last)",
      "\u001b[1;32m/Users/avilayparekh/projects/bitbucket/learn/learn-python/learn-asyncio/coroutines.ipynb Cell 23'\u001b[0m in \u001b[0;36m<cell line: 6>\u001b[0;34m()\u001b[0m\n\u001b[1;32m      <a href='vscode-notebook-cell:/Users/avilayparekh/projects/bitbucket/learn/learn-python/learn-asyncio/coroutines.ipynb#ch0000032?line=3'>4</a>\u001b[0m \u001b[39mprint\u001b[39m(\u001b[39mnext\u001b[39m(coro_3_obj_2))\n\u001b[1;32m      <a href='vscode-notebook-cell:/Users/avilayparekh/projects/bitbucket/learn/learn-python/learn-asyncio/coroutines.ipynb#ch0000032?line=4'>5</a>\u001b[0m coro_3_obj_2\u001b[39m.\u001b[39mclose()\n\u001b[0;32m----> <a href='vscode-notebook-cell:/Users/avilayparekh/projects/bitbucket/learn/learn-python/learn-asyncio/coroutines.ipynb#ch0000032?line=5'>6</a>\u001b[0m \u001b[39mprint\u001b[39m(\u001b[39mnext\u001b[39;49m(coro_3_obj_2))\n",
      "\u001b[0;31mStopIteration\u001b[0m: "
     ]
    }
   ],
   "source": [
    "coro_3_obj_2 = coro_3()\n",
    "print(next(coro_3_obj_2))\n",
    "print(next(coro_3_obj_2))\n",
    "print(next(coro_3_obj_2))\n",
    "coro_3_obj_2.close()\n",
    "print(next(coro_3_obj_2))"
   ]
  },
  {
   "cell_type": "markdown",
   "metadata": {},
   "source": [
    "The only way to make lines #5 and #6 execute is to exhaust the generator and hit `StopIteration` naturally."
   ]
  },
  {
   "cell_type": "code",
   "execution_count": 44,
   "metadata": {},
   "outputs": [
    {
     "name": "stdout",
     "output_type": "stream",
     "text": [
      "first\n",
      "second\n",
      "third\n",
      "\u001b[38;2;245;120;66mI am done.\u001b[0m\n",
      "Generator returned  True\n"
     ]
    }
   ],
   "source": [
    "try:\n",
    "    coro_3_obj_3 = coro_3()\n",
    "    print(next(coro_3_obj_3))\n",
    "    print(next(coro_3_obj_3))\n",
    "    print(next(coro_3_obj_3))\n",
    "    print(next(coro_3_obj_3))\n",
    "except StopIteration as serr:\n",
    "    ret = serr.value\n",
    "    print(\"Generator returned \", ret)"
   ]
  },
  {
   "cell_type": "markdown",
   "metadata": {},
   "source": [
    "### Handling `GeneratorExit` Exception\n",
    "One way to ensure that some clean up code is executed when `close` is called is to add it as part of `GeneratorExit` exception handling code block. Whenever `close` is called, this exception is raised in the generator and handled if the handler is there. Otherwise it is silently ignored. But even in this case, there is no point in the generator actually returning anything. The return value is dropped."
   ]
  },
  {
   "cell_type": "code",
   "execution_count": 49,
   "metadata": {},
   "outputs": [],
   "source": [
    "def coro_4():\n",
    "    try:\n",
    "        yield \"first\"\n",
    "        yield \"second\"\n",
    "        yield \"third\"        \n",
    "    except GeneratorExit:\n",
    "        cprint(0, \"I am done.\")\n",
    "        return 42  # This is pointless, nothing is returned."
   ]
  },
  {
   "cell_type": "code",
   "execution_count": 54,
   "metadata": {},
   "outputs": [
    {
     "name": "stdout",
     "output_type": "stream",
     "text": [
      "first\n",
      "second\n",
      "\u001b[38;2;245;120;66mI am done.\u001b[0m\n",
      "None\n"
     ]
    }
   ],
   "source": [
    "coro_4_obj_1 = coro_4()\n",
    "print(next(coro_4_obj_1))\n",
    "print(next(coro_4_obj_1))\n",
    "print(coro_4_obj_1.close())"
   ]
  },
  {
   "cell_type": "markdown",
   "metadata": {},
   "source": [
    "## Sub Generators\n",
    "\n",
    "Based on what we have seen so far, it is not possible to have nested yields, i.e., I cannot have a function yield the value of another function that is also yielding values."
   ]
  },
  {
   "cell_type": "code",
   "execution_count": 55,
   "metadata": {},
   "outputs": [],
   "source": [
    "def add(x, y):\n",
    "    yield x + y\n",
    "\n",
    "\n",
    "def calc():\n",
    "    val = yield add(2, 2)\n",
    "    print(val)\n",
    "    yield"
   ]
  },
  {
   "cell_type": "code",
   "execution_count": 56,
   "metadata": {},
   "outputs": [
    {
     "data": {
      "text/plain": [
       "<generator object add at 0x1096255b0>"
      ]
     },
     "execution_count": 56,
     "metadata": {},
     "output_type": "execute_result"
    }
   ],
   "source": [
    "c = calc()\n",
    "next(c)"
   ]
  },
  {
   "cell_type": "markdown",
   "metadata": {},
   "source": [
    "I have to resort to the so-called \"trampoline\" trick."
   ]
  },
  {
   "cell_type": "code",
   "execution_count": 57,
   "metadata": {},
   "outputs": [
    {
     "name": "stdout",
     "output_type": "stream",
     "text": [
      "4\n"
     ]
    }
   ],
   "source": [
    "c = calc()\n",
    "sub = next(c)  # sub now has the add generator\n",
    "val = next(sub)  # val has the value yielded by add\n",
    "c.send(val)  # lets send that value back to calc"
   ]
  },
  {
   "cell_type": "markdown",
   "metadata": {},
   "source": [
    "To avoid this sort of weird calling pattern, [PEP 380](https://peps.python.org/pep-0380/) introduced the `yield from` syntax. `x = yield from subroutine(...)` is semantically better than `x = yield expr` because in the `yield from` syntax, the value yielded by the `subroutine` is actually assigned to `x`. There is no `send`ing happeing from the caller's side to send values to `x`."
   ]
  },
  {
   "cell_type": "code",
   "execution_count": 58,
   "metadata": {},
   "outputs": [],
   "source": [
    "def calc2():\n",
    "    val = yield from add(2, 2)\n",
    "    print(val)\n",
    "    yield"
   ]
  },
  {
   "cell_type": "code",
   "execution_count": 59,
   "metadata": {},
   "outputs": [
    {
     "data": {
      "text/plain": [
       "4"
      ]
     },
     "execution_count": 59,
     "metadata": {},
     "output_type": "execute_result"
    }
   ],
   "source": [
    "c = calc2()\n",
    "next(c)"
   ]
  },
  {
   "cell_type": "markdown",
   "metadata": {},
   "source": [
    "Of course this only works when the subroutine is also a generator that yields values instead of a plain old function that returns them."
   ]
  },
  {
   "cell_type": "code",
   "execution_count": 60,
   "metadata": {},
   "outputs": [],
   "source": [
    "def add2(x, y):\n",
    "    return x + y\n",
    "\n",
    "def calc3():\n",
    "    val = yield from add2(2, 2)\n",
    "    print(val)\n",
    "    yield"
   ]
  },
  {
   "cell_type": "code",
   "execution_count": 61,
   "metadata": {},
   "outputs": [
    {
     "ename": "TypeError",
     "evalue": "'int' object is not iterable",
     "output_type": "error",
     "traceback": [
      "\u001b[0;31m---------------------------------------------------------------------------\u001b[0m",
      "\u001b[0;31mTypeError\u001b[0m                                 Traceback (most recent call last)",
      "\u001b[1;32m/Users/avilayparekh/projects/bitbucket/learn/learn-python/learn-asyncio/coroutines.ipynb Cell 40'\u001b[0m in \u001b[0;36m<cell line: 2>\u001b[0;34m()\u001b[0m\n\u001b[1;32m      <a href='vscode-notebook-cell:/Users/avilayparekh/projects/bitbucket/learn/learn-python/learn-asyncio/coroutines.ipynb#ch0000063?line=0'>1</a>\u001b[0m c \u001b[39m=\u001b[39m calc3()\n\u001b[0;32m----> <a href='vscode-notebook-cell:/Users/avilayparekh/projects/bitbucket/learn/learn-python/learn-asyncio/coroutines.ipynb#ch0000063?line=1'>2</a>\u001b[0m \u001b[39mnext\u001b[39;49m(c)\n",
      "\u001b[1;32m/Users/avilayparekh/projects/bitbucket/learn/learn-python/learn-asyncio/coroutines.ipynb Cell 39'\u001b[0m in \u001b[0;36mcalc3\u001b[0;34m()\u001b[0m\n\u001b[1;32m      <a href='vscode-notebook-cell:/Users/avilayparekh/projects/bitbucket/learn/learn-python/learn-asyncio/coroutines.ipynb#ch0000062?line=3'>4</a>\u001b[0m \u001b[39mdef\u001b[39;00m \u001b[39mcalc3\u001b[39m():\n\u001b[0;32m----> <a href='vscode-notebook-cell:/Users/avilayparekh/projects/bitbucket/learn/learn-python/learn-asyncio/coroutines.ipynb#ch0000062?line=4'>5</a>\u001b[0m     val \u001b[39m=\u001b[39m \u001b[39myield from\u001b[39;00m add2(\u001b[39m2\u001b[39m, \u001b[39m2\u001b[39m)\n\u001b[1;32m      <a href='vscode-notebook-cell:/Users/avilayparekh/projects/bitbucket/learn/learn-python/learn-asyncio/coroutines.ipynb#ch0000062?line=5'>6</a>\u001b[0m     \u001b[39mprint\u001b[39m(val)\n\u001b[1;32m      <a href='vscode-notebook-cell:/Users/avilayparekh/projects/bitbucket/learn/learn-python/learn-asyncio/coroutines.ipynb#ch0000062?line=6'>7</a>\u001b[0m     \u001b[39myield\u001b[39;00m\n",
      "\u001b[0;31mTypeError\u001b[0m: 'int' object is not iterable"
     ]
    }
   ],
   "source": [
    "c = calc3()\n",
    "next(c)"
   ]
  },
  {
   "cell_type": "markdown",
   "metadata": {},
   "source": [
    "While `val = yield from subroutine(...)` is the most common pattern of using `yield from`, it is also possible to have `yield from subroutine(...)` without assigning its value to `val`. In this case, the parent generator will simply act as a pass-through to yield values from the sub generator. It will wait until the sub generator is exhausted before it moves on to the next line. In the `gen_two` below, the code execution will never move beyond line #7 because `gen_one` will never be exhausted. Everytime I call `next(gen2)` it will execute line #7 by pulling a value yielded by `gen_one` and yield that."
   ]
  },
  {
   "cell_type": "code",
   "execution_count": 91,
   "metadata": {},
   "outputs": [],
   "source": [
    "def gen_one():\n",
    "    while True:\n",
    "        yield random.randint(10, 1000)\n",
    "    \n",
    "def gen_two():\n",
    "    cprint(1, \"Starting gen_two\")\n",
    "    yield from gen_one()\n",
    "    cprint(1, \"Finished yielding from gen_one\")\n",
    "    yield random.random()"
   ]
  },
  {
   "cell_type": "code",
   "execution_count": 92,
   "metadata": {},
   "outputs": [
    {
     "name": "stdout",
     "output_type": "stream",
     "text": [
      "\u001b[38;2;132;245;66mStarting gen_two\u001b[0m\n",
      "231\n",
      "747\n",
      "95\n"
     ]
    }
   ],
   "source": [
    "# for x in gen_two():\n",
    "#     print(x)\n",
    "gen2 = gen_two()\n",
    "for _ in range(3):\n",
    "    print(next(gen2))"
   ]
  },
  {
   "cell_type": "code",
   "execution_count": null,
   "metadata": {},
   "outputs": [],
   "source": []
  }
 ],
 "metadata": {
  "interpreter": {
   "hash": "784114715d987f376fd768172d6fb64b1fb77afe12a7e2b607779dcdec22a151"
  },
  "kernelspec": {
   "display_name": "Python 3.10.2 ('dev')",
   "language": "python",
   "name": "python3"
  },
  "language_info": {
   "codemirror_mode": {
    "name": "ipython",
    "version": 3
   },
   "file_extension": ".py",
   "mimetype": "text/x-python",
   "name": "python",
   "nbconvert_exporter": "python",
   "pygments_lexer": "ipython3",
   "version": "3.10.2"
  },
  "orig_nbformat": 4
 },
 "nbformat": 4,
 "nbformat_minor": 2
}
