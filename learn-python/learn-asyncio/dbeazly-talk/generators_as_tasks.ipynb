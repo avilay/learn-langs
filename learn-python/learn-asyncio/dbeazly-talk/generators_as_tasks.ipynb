{
 "cells": [
  {
   "cell_type": "code",
   "execution_count": 2,
   "metadata": {},
   "outputs": [
    {
     "name": "stdout",
     "output_type": "stream",
     "text": [
      "3\n",
      "2\n",
      "1\n"
     ]
    }
   ],
   "source": [
    "def countdown(n):\n",
    "    while n > 0:\n",
    "        yield n\n",
    "        n -= 1\n",
    "\n",
    "for x in countdown(3):\n",
    "    print(x)"
   ]
  },
  {
   "cell_type": "code",
   "execution_count": 5,
   "metadata": {},
   "outputs": [
    {
     "data": {
      "text/plain": [
       "deque([<generator object countdown at 0x10a0e39a8>,\n",
       "       <generator object countdown at 0x10a0e3a98>,\n",
       "       <generator object countdown at 0x10a0e3a20>])"
      ]
     },
     "execution_count": 5,
     "metadata": {},
     "output_type": "execute_result"
    }
   ],
   "source": [
    "from collections import deque\n",
    "\n",
    "tasks = deque()\n",
    "tasks.extend([countdown(10), countdown(5), countdown(3)])\n",
    "tasks"
   ]
  },
  {
   "cell_type": "code",
   "execution_count": 6,
   "metadata": {},
   "outputs": [
    {
     "name": "stdout",
     "output_type": "stream",
     "text": [
      "10\n",
      "5\n",
      "3\n",
      "9\n",
      "4\n",
      "2\n",
      "8\n",
      "3\n",
      "1\n",
      "7\n",
      "2\n",
      "StopIteration:  \n",
      "6\n",
      "1\n",
      "5\n",
      "StopIteration:  \n",
      "4\n",
      "3\n",
      "2\n",
      "1\n",
      "StopIteration:  \n"
     ]
    }
   ],
   "source": [
    "def run():\n",
    "    while tasks:\n",
    "        task = tasks.popleft()\n",
    "        try:\n",
    "            x = next(task)\n",
    "            print(x)\n",
    "            tasks.append(task)\n",
    "        except StopIteration as si:\n",
    "            print(\"StopIteration: \", si)\n",
    "            \n",
    "run()"
   ]
  }
 ],
 "metadata": {
  "kernelspec": {
   "display_name": "Python 3",
   "language": "python",
   "name": "python3"
  },
  "language_info": {
   "codemirror_mode": {
    "name": "ipython",
    "version": 3
   },
   "file_extension": ".py",
   "mimetype": "text/x-python",
   "name": "python",
   "nbconvert_exporter": "python",
   "pygments_lexer": "ipython3",
   "version": "3.7.0"
  }
 },
 "nbformat": 4,
 "nbformat_minor": 2
}
