{
 "cells": [
  {
   "cell_type": "code",
   "execution_count": 1,
   "metadata": {},
   "outputs": [],
   "source": [
    "import time\n",
    "import random"
   ]
  },
  {
   "cell_type": "code",
   "execution_count": 8,
   "metadata": {},
   "outputs": [],
   "source": [
    "def afunc1():\n",
    "    print(\"afunc1: Starting\")\n",
    "    time.sleep(random.randint(1, 3))\n",
    "    print(\"afunc1: Yielding\")\n",
    "    yield\n",
    "    print(\"afunc1: Resuming\")\n",
    "    time.sleep(random.randint(1, 3))\n",
    "    print(\"afunc1: Stopping\")"
   ]
  },
  {
   "cell_type": "markdown",
   "metadata": {},
   "source": [
    "Like we already know, calling `.send()` will execute the code till the yield statement, and then the function will be suspended. Calling `.send()` again will resume the function running till the end."
   ]
  },
  {
   "cell_type": "code",
   "execution_count": 9,
   "metadata": {},
   "outputs": [
    {
     "name": "stdout",
     "output_type": "stream",
     "text": [
      "afunc1: Starting\n",
      "afunc1: Yielding\n"
     ]
    }
   ],
   "source": [
    "coro = afunc1()\n",
    "coro.send(None)"
   ]
  },
  {
   "cell_type": "code",
   "execution_count": 10,
   "metadata": {},
   "outputs": [
    {
     "name": "stdout",
     "output_type": "stream",
     "text": [
      "afunc1: Resuming\n",
      "afunc1: Stopping\n"
     ]
    }
   ],
   "source": [
    "try:\n",
    "    coro.send(None)\n",
    "except StopIteration:\n",
    "    pass"
   ]
  },
  {
   "cell_type": "markdown",
   "metadata": {},
   "source": [
    "If the coroutine calls another coroutine using `yield from` then I can conceptually think of the suspension happening at the bare `yield` statement. Lets see this in action -"
   ]
  },
  {
   "cell_type": "code",
   "execution_count": 15,
   "metadata": {},
   "outputs": [],
   "source": [
    "def afunc2():\n",
    "    print(\"afunc2: Starting\")\n",
    "    yield from afunc1()\n",
    "    print(\"afunc2: Stopping\")"
   ]
  },
  {
   "cell_type": "code",
   "execution_count": 16,
   "metadata": {},
   "outputs": [
    {
     "name": "stdout",
     "output_type": "stream",
     "text": [
      "afunc2: Starting\n",
      "afunc1: Starting\n",
      "afunc1: Yielding\n"
     ]
    }
   ],
   "source": [
    "coro = afunc2()\n",
    "coro.send(None)"
   ]
  },
  {
   "cell_type": "code",
   "execution_count": 17,
   "metadata": {},
   "outputs": [
    {
     "name": "stdout",
     "output_type": "stream",
     "text": [
      "afunc1: Resuming\n",
      "afunc1: Stopping\n",
      "afunc2: Stopping\n",
      "everything has stopped\n"
     ]
    }
   ],
   "source": [
    "try:\n",
    "    coro.send(None)\n",
    "except StopIteration:\n",
    "    print(\"everything has stopped\")\n",
    "    pass"
   ]
  },
  {
   "cell_type": "markdown",
   "metadata": {},
   "source": [
    "It is as-if the following single function was being executed before yielding -\n",
    "```\n",
    "print(\"afunc2: Starting\")\n",
    "print(\"afunc1: Starting\")\n",
    "time.sleep(random.randint(1, 3))\n",
    "print(\"afunc1: Yielding\")\n",
    "```"
   ]
  },
  {
   "cell_type": "markdown",
   "metadata": {},
   "source": []
  }
 ],
 "metadata": {
  "kernelspec": {
   "display_name": "ai",
   "language": "python",
   "name": "python3"
  },
  "language_info": {
   "codemirror_mode": {
    "name": "ipython",
    "version": 3
   },
   "file_extension": ".py",
   "mimetype": "text/x-python",
   "name": "python",
   "nbconvert_exporter": "python",
   "pygments_lexer": "ipython3",
   "version": "3.10.9"
  },
  "orig_nbformat": 4
 },
 "nbformat": 4,
 "nbformat_minor": 2
}
