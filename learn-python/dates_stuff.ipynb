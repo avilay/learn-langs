{
 "cells": [
  {
   "cell_type": "code",
   "execution_count": 1,
   "id": "a75eda2a-a899-4d96-96b6-bf7914b17c0e",
   "metadata": {},
   "outputs": [],
   "source": [
    "from datetime import datetime"
   ]
  },
  {
   "cell_type": "markdown",
   "id": "ecff373d-f999-4781-98eb-658fa67b87f5",
   "metadata": {},
   "source": [
    "Some of my go-to datetime formats are -\n",
    "  * 2025-01-30 => `%Y-%m-%d`\n",
    "  * Thu, Jan 1, 2025 => `%a, %b %d, %Y`\n",
    "  * 11:30 AM => `%I:%M %p`\n",
    "\n",
    "Common format codes that I end up using -\n",
    "  * `%Y` Year with century as a zero-padded decimal number\n",
    "    \n",
    "  * `%m` Month as zero-padded decimal number\n",
    "  * `%b` Month as locale's abbreviated name\n",
    "  * `%B` Month as locale's full name\n",
    "\n",
    "  * `%d` Day of the month as a zero-padded decimal number\n",
    "  * `%a` Weekday as locale's abbreviated name\n",
    "  * `%A` Weekday as locale's full name\n",
    "\n",
    "  * `%I` Hour (12-hour) clock as a zero-padded decimal number\n",
    "  * `%M` Minute as zero-padded decimal number\n",
    "  * `%S` Seconda as a zero-padded decimal number\n",
    "  * `%p` Locale's equivalent of either AM or PM"
   ]
  },
  {
   "cell_type": "code",
   "execution_count": 3,
   "id": "f09f0540-9329-46d0-968f-7439191a9700",
   "metadata": {},
   "outputs": [
    {
     "data": {
      "text/plain": [
       "datetime.datetime(2025, 1, 30, 0, 0)"
      ]
     },
     "execution_count": 3,
     "metadata": {},
     "output_type": "execute_result"
    }
   ],
   "source": [
    "datetime.strptime(\"2025-01-30\", \"%Y-%m-%d\")"
   ]
  },
  {
   "cell_type": "code",
   "execution_count": 6,
   "id": "bab3bc22-31e4-4b37-8b2e-619f249adef4",
   "metadata": {},
   "outputs": [
    {
     "data": {
      "text/plain": [
       "datetime.datetime(2025, 1, 30, 0, 0)"
      ]
     },
     "execution_count": 6,
     "metadata": {},
     "output_type": "execute_result"
    }
   ],
   "source": [
    "datetime.strptime(\"Thu, Jan 30, 2025\", \"%a, %b %d, %Y\")"
   ]
  },
  {
   "cell_type": "code",
   "execution_count": 7,
   "id": "0191dba4-5d2c-4417-8deb-80e335f0831d",
   "metadata": {},
   "outputs": [
    {
     "data": {
      "text/plain": [
       "datetime.datetime(1900, 1, 1, 11, 30)"
      ]
     },
     "execution_count": 7,
     "metadata": {},
     "output_type": "execute_result"
    }
   ],
   "source": [
    "datetime.strptime(\"11:30 AM\", \"%I:%M %p\")"
   ]
  },
  {
   "cell_type": "code",
   "execution_count": 8,
   "id": "8f0c0bf7-ad34-4c55-a6e3-65bab5edfd9b",
   "metadata": {},
   "outputs": [
    {
     "data": {
      "text/plain": [
       "'2025-01-30, Thu 11:30 AM'"
      ]
     },
     "execution_count": 8,
     "metadata": {},
     "output_type": "execute_result"
    }
   ],
   "source": [
    "dt = datetime(year=2025, month=1, day=30, hour=11, minute=30)\n",
    "dt.strftime(\"%Y-%m-%d, %a %I:%M %p\")"
   ]
  },
  {
   "cell_type": "code",
   "execution_count": 10,
   "id": "80d3b0f0-7980-4cd2-b4b1-075c09c187fa",
   "metadata": {},
   "outputs": [],
   "source": [
    "from datetime import timezone\n",
    "import pytz"
   ]
  },
  {
   "cell_type": "code",
   "execution_count": 11,
   "id": "a302008a-baac-4a59-a576-209ed7f1328e",
   "metadata": {},
   "outputs": [],
   "source": [
    "localtime = datetime.now(timezone.utc).astimezone(pytz.timezone('US/Pacific')).isoformat()"
   ]
  },
  {
   "cell_type": "code",
   "execution_count": 13,
   "id": "86b21139-d157-4f90-b6f5-2430c8189451",
   "metadata": {},
   "outputs": [
    {
     "data": {
      "text/plain": [
       "'2025-01-04T12:53:00.607836-08:00'"
      ]
     },
     "execution_count": 13,
     "metadata": {},
     "output_type": "execute_result"
    }
   ],
   "source": [
    "localtime"
   ]
  },
  {
   "cell_type": "code",
   "execution_count": null,
   "id": "8964df72-5160-4c78-8405-c243def6c27c",
   "metadata": {},
   "outputs": [],
   "source": []
  }
 ],
 "metadata": {
  "kernelspec": {
   "display_name": "Python 3 (ipykernel)",
   "language": "python",
   "name": "python3"
  },
  "language_info": {
   "codemirror_mode": {
    "name": "ipython",
    "version": 3
   },
   "file_extension": ".py",
   "mimetype": "text/x-python",
   "name": "python",
   "nbconvert_exporter": "python",
   "pygments_lexer": "ipython3",
   "version": "3.13.1"
  }
 },
 "nbformat": 4,
 "nbformat_minor": 5
}
