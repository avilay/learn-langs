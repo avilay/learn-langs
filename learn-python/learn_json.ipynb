{
 "cells": [
  {
   "cell_type": "code",
   "execution_count": 1,
   "metadata": {},
   "outputs": [],
   "source": [
    "import json\n",
    "from pathlib import Path"
   ]
  },
  {
   "cell_type": "markdown",
   "metadata": {},
   "source": [
    "### With Dicts\n",
    "Encoding from and decoding to `dict`s is easy. Just use the `json.loads` and `json.dumps` or their file obj counterparts `json.load` and `json.dump`"
   ]
  },
  {
   "cell_type": "code",
   "execution_count": 2,
   "metadata": {},
   "outputs": [
    {
     "name": "stdout",
     "output_type": "stream",
     "text": [
      "[\n",
      "  {\n",
      "    \"flavor\": \"Chocolate Chip\",\n",
      "    \"calories\": 180\n",
      "  },\n",
      "  {\n",
      "    \"flavor\": \"Snicker Doodle\",\n",
      "    \"calories\": 220\n",
      "  },\n",
      "  {\n",
      "    \"flavor\": \"Oatmeal Raisin\",\n",
      "    \"calories\": 120\n",
      "  }\n",
      "]\n"
     ]
    },
    {
     "data": {
      "text/plain": [
       "True"
      ]
     },
     "execution_count": 2,
     "metadata": {},
     "output_type": "execute_result"
    }
   ],
   "source": [
    "cookies = [\n",
    "    {\"flavor\": \"Chocolate Chip\", \"calories\": 180},\n",
    "    {\"flavor\": \"Snicker Doodle\", \"calories\": 220},\n",
    "    {\"flavor\": \"Oatmeal Raisin\", \"calories\": 120},\n",
    "]\n",
    "\n",
    "print(json.dumps(cookies, indent=2))\n",
    "\n",
    "with open(\"cookies.json\", \"wt\") as fout:\n",
    "    json.dump(cookies, fout)\n",
    "\n",
    "Path(\"./cookies.json\").exists() "
   ]
  },
  {
   "cell_type": "code",
   "execution_count": 3,
   "metadata": {},
   "outputs": [
    {
     "name": "stdout",
     "output_type": "stream",
     "text": [
      "[{'flavor': 'Chocolate Chip', 'calories': 180}, {'flavor': 'Snicker Doodle', 'calories': 220}, {'flavor': 'Oatmeal Raisin', 'calories': 120}]\n"
     ]
    }
   ],
   "source": [
    "json_cookies = \"\"\"\n",
    "[\n",
    "  {\n",
    "    \"flavor\": \"Chocolate Chip\",\n",
    "    \"calories\": 180\n",
    "  },\n",
    "  {\n",
    "    \"flavor\": \"Snicker Doodle\",\n",
    "    \"calories\": 220\n",
    "  },\n",
    "  {\n",
    "    \"flavor\": \"Oatmeal Raisin\",\n",
    "    \"calories\": 120\n",
    "  }\n",
    "]\n",
    "\"\"\"\n",
    "json.loads(json_cookies)\n",
    "\n",
    "with open(\"cookies.json\", \"rt\") as fin:\n",
    "    cookies = json.load(fin)\n",
    "print(cookies)"
   ]
  },
  {
   "cell_type": "markdown",
   "metadata": {},
   "source": [
    "However the default encoder/decoder only supports this [conversion table](https://docs.python.org/3/library/json.html#py-to-json-table)\n",
    "\n",
    "| Python | JSON |\n",
    "|--------|------|\n",
    "| dict | object |\n",
    "| list, tuple | array |\n",
    "| str | string |\n",
    "| int, float, int- & float-derived Enums | number |\n",
    "| True | true |\n",
    "| False | false |\n",
    "| None | null |\n",
    "\n",
    "Anything that is not in this table will raise a `TypeError` when encoding. E.g., if my data has a `datetime` object, it is cannot be encoded to JSON. Conversely if my json string has a datetime string that I want to convert to `datetime` object in my resulting `dict`, I cannot do that. Another problem is that I am stuck with the default encoding/decoding, e.g., if I want to change the key names or want the schema to not mirror my dict structure, I cannot do that.\n",
    "\n",
    "There are two different solutions to these problems - one for encoding and one for decoding."
   ]
  },
  {
   "cell_type": "markdown",
   "metadata": {},
   "source": [
    "### Encoding\n",
    "The solution is to implement a custom `JSONEncoder` and implement the `default()` method."
   ]
  },
  {
   "cell_type": "code",
   "execution_count": 4,
   "metadata": {},
   "outputs": [
    {
     "name": "stdout",
     "output_type": "stream",
     "text": [
      "[\n",
      "  {\n",
      "    \"title\": \"Atomic Habits: An Easy & Proven Way to Build Good Habits & Break Bad Ones\",\n",
      "    \"published_on\": \"2018-10-16\"\n",
      "  },\n",
      "  {\n",
      "    \"title\": \"The Dip: The extraordinary benefits of knowing when to quit\",\n",
      "    \"published_on\": \"2007-01-01\"\n",
      "  }\n",
      "]\n"
     ]
    }
   ],
   "source": [
    "from dataclasses import dataclass\n",
    "from datetime import date, datetime\n",
    "from json import JSONEncoder\n",
    "from typing import Any\n",
    "\n",
    "\n",
    "@dataclass\n",
    "class Book:\n",
    "    title: str\n",
    "    published_on: date\n",
    "\n",
    "\n",
    "class BookJSONEncoder(JSONEncoder):\n",
    "    def default(self, book: Book) -> dict[str, Any]:\n",
    "        return {\n",
    "            \"title\": book.title,\n",
    "            \"published_on\": datetime.strftime(book.published_on, \"%Y-%m-%d\")\n",
    "        }\n",
    "    \n",
    "\n",
    "books = [\n",
    "    Book(\n",
    "        title=\"Atomic Habits: An Easy & Proven Way to Build Good Habits & Break Bad Ones\", \n",
    "        published_on=datetime.strptime(\"16 October 2018\", \"%d %B %Y\").date()\n",
    "    ),\n",
    "    Book(\n",
    "        title=\"The Dip: The extraordinary benefits of knowing when to quit\",\n",
    "        published_on=datetime.strptime(\"01 January 2007\", \"%d %B %Y\").date()\n",
    "    )\n",
    "]\n",
    "\n",
    "print(json.dumps(books, indent=2, cls=BookJSONEncoder))"
   ]
  },
  {
   "cell_type": "markdown",
   "metadata": {},
   "source": [
    "### Decoding\n",
    "The solution is to use the `object_hook` or the `object_pairs_hook` callbacks in the `json.load` API."
   ]
  },
  {
   "cell_type": "code",
   "execution_count": 5,
   "metadata": {},
   "outputs": [
    {
     "name": "stdout",
     "output_type": "stream",
     "text": [
      "[Book(title='Atomic Habits: An Easy & Proven Way to Build Good Habits & Break Bad Ones', published_on=datetime.date(2018, 10, 16)), Book(title='The Dip: The extraordinary benefits of knowing when to quit', published_on=datetime.date(2007, 1, 1))]\n"
     ]
    }
   ],
   "source": [
    "def decode_book(book_dict: dict[str, Any]) -> Book:\n",
    "    return Book(\n",
    "        title=book_dict[\"title\"],\n",
    "        published_on=datetime.strptime(book_dict[\"published_on\"], \"%Y-%m-%d\").date()\n",
    "    )\n",
    "\n",
    "\n",
    "book_json = \"\"\"\n",
    "[\n",
    "  {\n",
    "    \"title\": \"Atomic Habits: An Easy & Proven Way to Build Good Habits & Break Bad Ones\",\n",
    "    \"published_on\": \"2018-10-16\"\n",
    "  },\n",
    "  {\n",
    "    \"title\": \"The Dip: The extraordinary benefits of knowing when to quit\",\n",
    "    \"published_on\": \"2007-01-01\"\n",
    "  }\n",
    "]\n",
    "\"\"\"\n",
    "\n",
    "books = json.loads(book_json, object_hook=decode_book)\n",
    "print(books)"
   ]
  },
  {
   "cell_type": "code",
   "execution_count": null,
   "metadata": {},
   "outputs": [],
   "source": []
  }
 ],
 "metadata": {
  "kernelspec": {
   "display_name": "ai",
   "language": "python",
   "name": "python3"
  },
  "language_info": {
   "codemirror_mode": {
    "name": "ipython",
    "version": 3
   },
   "file_extension": ".py",
   "mimetype": "text/x-python",
   "name": "python",
   "nbconvert_exporter": "python",
   "pygments_lexer": "ipython3",
   "version": "3.10.9"
  },
  "orig_nbformat": 4
 },
 "nbformat": 4,
 "nbformat_minor": 2
}
