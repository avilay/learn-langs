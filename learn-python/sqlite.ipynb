{
 "cells": [
  {
   "cell_type": "markdown",
   "metadata": {},
   "source": [
    "# SQLite\n",
    "Refs:\n",
    "  * [Python documentation](https://docs.python.org/3/library/sqlite3.html)\n",
    "  * [Main documentation](https://www.sqlite.org/index.html)\n",
    "\n",
    "## Types  \n",
    "SQLite is type less, the basic types that it recognizes are -\n",
    "  * TEXT\n",
    "  * NUMERIC\n",
    "  * INTEGER\n",
    "  * REAL\n",
    "  * BLOB (aka NONE)\n",
    "\n",
    "However when creating tables it is still a good idea to specify the data types to serve as documentation. SQLite does some fancy parsing of the type specified by the user and then assigns its own type from the above primitives. This is called [column affinity](https://www.sqlite.org/datatype3.html#affname).\n",
    "\n",
    "Date types are usually stored as TEXT. In order to use the date/time functions this needs to be in ISO 8601 format.\n",
    "\n",
    "Booleans are usually stored as INTEGERs, with 0 to represent False and 1 to represent True.\n",
    "\n",
    "TODO: Concept of primary keys.\n",
    "\n",
    "## Queries\n",
    "The typical flow is to first get a `Connection` object, and then get a `Cursor` from the connection, and then call `execute` on the cursor. However, this pattern is so common, that it is possible to call `execute` directly on the `Connection` object. This will return a \"loaded\" `Cursor` object."
   ]
  },
  {
   "cell_type": "code",
   "execution_count": null,
   "metadata": {},
   "outputs": [],
   "source": [
    "import sqlite3\n",
    "from datetime import datetime"
   ]
  },
  {
   "cell_type": "code",
   "execution_count": 2,
   "metadata": {},
   "outputs": [],
   "source": [
    "# conn = sqlite3.connect(\"~/temp/learn.db\")\n",
    "conn = sqlite3.connect(\":memory:\")"
   ]
  },
  {
   "cell_type": "code",
   "execution_count": 3,
   "metadata": {},
   "outputs": [
    {
     "data": {
      "text/plain": [
       "<sqlite3.Cursor at 0x1073a2cc0>"
      ]
     },
     "execution_count": 3,
     "metadata": {},
     "output_type": "execute_result"
    }
   ],
   "source": [
    "conn.execute(\n",
    "\"\"\"\n",
    "CREATE TABLE IF NOT EXISTS video_games (\n",
    "  id CHAR(16) PRIMARY KEY,\n",
    "  title TEXT,\n",
    "  released_on TEXT,\n",
    "  rating INTEGER,\n",
    "  price REAL,\n",
    "  is_on_pc BOOL\n",
    ")\n",
    "\"\"\"\n",
    ")"
   ]
  },
  {
   "cell_type": "code",
   "execution_count": 4,
   "metadata": {},
   "outputs": [],
   "source": [
    "data = [\n",
    "    (\n",
    "        \"4wuXytmedmydhomj\", \n",
    "        \"Stray\", \n",
    "        datetime(2023, 8, 10).isoformat(timespec=\"seconds\"),\n",
    "        5,\n",
    "        23.99,\n",
    "        1\n",
    "    ),\n",
    "    (\n",
    "        \"Q25wQumhCed7Eobs\",\n",
    "        \"Remnant II - Standard Edition\",\n",
    "        datetime(2023, 7, 25).isoformat(timespec=\"seconds\"),\n",
    "        4,\n",
    "        49.99,\n",
    "        0\n",
    "    )\n",
    "]"
   ]
  },
  {
   "cell_type": "code",
   "execution_count": 5,
   "metadata": {},
   "outputs": [],
   "source": [
    "conn.executemany(\"INSERT INTO video_games VALUES (?, ?, ?, ?, ?, ?)\", data)\n",
    "conn.commit()"
   ]
  },
  {
   "cell_type": "code",
   "execution_count": 6,
   "metadata": {},
   "outputs": [
    {
     "name": "stdout",
     "output_type": "stream",
     "text": [
      "('4wuXytmedmydhomj', 'Stray', '2023-08-10T00:00:00', 5, 23.99, 1)\n",
      "('Q25wQumhCed7Eobs', 'Remnant II - Standard Edition', '2023-07-25T00:00:00', 4, 49.99, 0)\n"
     ]
    }
   ],
   "source": [
    "for row in conn.execute(\"SELECT * FROM video_games\"):\n",
    "    print(row)"
   ]
  },
  {
   "cell_type": "markdown",
   "metadata": {},
   "source": [
    "In addition to the ? placeholder, SQLite also supports named placeholders."
   ]
  },
  {
   "cell_type": "code",
   "execution_count": 7,
   "metadata": {},
   "outputs": [
    {
     "name": "stdout",
     "output_type": "stream",
     "text": [
      "('4wuXytmedmydhomj', 'Stray', '2023-08-10T00:00:00', 5, 23.99, 1)\n"
     ]
    }
   ],
   "source": [
    "params = dict(rating=4, is_on_pc=True)\n",
    "for row in conn.execute(\"SELECT * FROM video_games WHERE rating >= :rating AND is_on_pc = :is_on_pc\", params):\n",
    "    print(row)"
   ]
  },
  {
   "cell_type": "markdown",
   "metadata": {},
   "source": [
    "By default SQLite returns rows as a tuple with fields in the same position as they were created in. This can be made more convenient using row factories. There is a builtin row factory called `Row` that provides indexed and case-insensitive named access to columns. If I don't like this I can create any row factory that I want."
   ]
  },
  {
   "cell_type": "code",
   "execution_count": 8,
   "metadata": {},
   "outputs": [],
   "source": [
    "conn.row_factory = sqlite3.Row"
   ]
  },
  {
   "cell_type": "code",
   "execution_count": 16,
   "metadata": {},
   "outputs": [
    {
     "data": {
      "text/plain": [
       "['id', 'title', 'released_on', 'rating', 'price', 'is_on_pc']"
      ]
     },
     "execution_count": 16,
     "metadata": {},
     "output_type": "execute_result"
    }
   ],
   "source": [
    "cur = conn.execute(\"SELECT * FROM video_games\")\n",
    "row = cur.fetchone()\n",
    "row.keys()"
   ]
  },
  {
   "cell_type": "code",
   "execution_count": 17,
   "metadata": {},
   "outputs": [
    {
     "name": "stdout",
     "output_type": "stream",
     "text": [
      "4wuXytmedmydhomj 4wuXytmedmydhomj\n",
      "Stray Stray\n"
     ]
    }
   ],
   "source": [
    "print(row[\"id\"], row[0])\n",
    "print(row[\"title\"], row[1])"
   ]
  },
  {
   "cell_type": "code",
   "execution_count": 18,
   "metadata": {},
   "outputs": [
    {
     "data": {
      "text/plain": [
       "sqlite3.Cursor"
      ]
     },
     "execution_count": 18,
     "metadata": {},
     "output_type": "execute_result"
    }
   ],
   "source": [
    "type(cur)"
   ]
  },
  {
   "cell_type": "code",
   "execution_count": 19,
   "metadata": {},
   "outputs": [
    {
     "data": {
      "text/plain": [
       "(('id', None, None, None, None, None, None),\n",
       " ('title', None, None, None, None, None, None),\n",
       " ('released_on', None, None, None, None, None, None),\n",
       " ('rating', None, None, None, None, None, None),\n",
       " ('price', None, None, None, None, None, None),\n",
       " ('is_on_pc', None, None, None, None, None, None))"
      ]
     },
     "execution_count": 19,
     "metadata": {},
     "output_type": "execute_result"
    }
   ],
   "source": [
    "cur.description"
   ]
  },
  {
   "cell_type": "code",
   "execution_count": 13,
   "metadata": {},
   "outputs": [],
   "source": [
    "from dataclasses import dataclass"
   ]
  },
  {
   "cell_type": "code",
   "execution_count": 14,
   "metadata": {},
   "outputs": [],
   "source": [
    "@dataclass\n",
    "class VideoGame:\n",
    "    id: str\n",
    "    title: str\n",
    "    released_on: datetime\n",
    "    rating: int\n",
    "    price: float\n",
    "    is_on_pc: bool"
   ]
  },
  {
   "cell_type": "code",
   "execution_count": 24,
   "metadata": {},
   "outputs": [],
   "source": [
    "def dataclass_factory(cursor, row):\n",
    "    colnames = [col[0] for col in cur.description]\n",
    "    return VideoGame(\n",
    "        id=row[colnames.index(\"id\")],\n",
    "        title=row[colnames.index(\"title\")],\n",
    "        released_on=datetime.fromisoformat(row[colnames.index(\"released_on\")]),\n",
    "        rating=row[colnames.index(\"rating\")],\n",
    "        price=row[colnames.index(\"price\")],\n",
    "        is_on_pc=row[colnames.index(\"is_on_pc\")]\n",
    "    )"
   ]
  },
  {
   "cell_type": "code",
   "execution_count": 25,
   "metadata": {},
   "outputs": [],
   "source": [
    "conn.row_factory = dataclass_factory"
   ]
  },
  {
   "cell_type": "code",
   "execution_count": 26,
   "metadata": {},
   "outputs": [
    {
     "data": {
      "text/plain": [
       "VideoGame(id='4wuXytmedmydhomj', title='Stray', released_on=datetime.datetime(2023, 8, 10, 0, 0), rating=5, price=23.99, is_on_pc=1)"
      ]
     },
     "execution_count": 26,
     "metadata": {},
     "output_type": "execute_result"
    }
   ],
   "source": [
    "cur = conn.execute(\"SELECT * FROM video_games\")\n",
    "row = cur.fetchone()\n",
    "row"
   ]
  },
  {
   "cell_type": "code",
   "execution_count": 27,
   "metadata": {},
   "outputs": [],
   "source": [
    "conn.close()"
   ]
  },
  {
   "cell_type": "code",
   "execution_count": 28,
   "metadata": {},
   "outputs": [
    {
     "ename": "ProgrammingError",
     "evalue": "Cannot operate on a closed database.",
     "output_type": "error",
     "traceback": [
      "\u001b[0;31m---------------------------------------------------------------------------\u001b[0m",
      "\u001b[0;31mProgrammingError\u001b[0m                          Traceback (most recent call last)",
      "\u001b[1;32m/Users/avilayparekh/projects/bitbucket/learn/learn-lang/learn-python/sqlite.ipynb Cell 22\u001b[0m line \u001b[0;36m1\n\u001b[0;32m----> <a href='vscode-notebook-cell:/Users/avilayparekh/projects/bitbucket/learn/learn-lang/learn-python/sqlite.ipynb#X55sZmlsZQ%3D%3D?line=0'>1</a>\u001b[0m cur\u001b[39m.\u001b[39;49mfetchone()\n",
      "\u001b[0;31mProgrammingError\u001b[0m: Cannot operate on a closed database."
     ]
    }
   ],
   "source": [
    "cur.fetchone()"
   ]
  },
  {
   "cell_type": "code",
   "execution_count": null,
   "metadata": {},
   "outputs": [],
   "source": []
  }
 ],
 "metadata": {
  "kernelspec": {
   "display_name": "dev",
   "language": "python",
   "name": "python3"
  },
  "language_info": {
   "codemirror_mode": {
    "name": "ipython",
    "version": 3
   },
   "file_extension": ".py",
   "mimetype": "text/x-python",
   "name": "python",
   "nbconvert_exporter": "python",
   "pygments_lexer": "ipython3",
   "version": "3.11.5"
  },
  "orig_nbformat": 4
 },
 "nbformat": 4,
 "nbformat_minor": 2
}
