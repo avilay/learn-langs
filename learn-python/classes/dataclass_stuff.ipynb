{
 "cells": [
  {
   "cell_type": "markdown",
   "id": "8bfc90c4-2395-45bc-84bb-ed2893cd4562",
   "metadata": {},
   "source": [
    "# Dataclasses"
   ]
  },
  {
   "cell_type": "markdown",
   "id": "685f0b1b-3a97-4ed1-b5d7-a53d39714262",
   "metadata": {
    "jp-MarkdownHeadingCollapsed": true
   },
   "source": [
    "## Instance Level Attributes\n",
    "Anytime I assign some value to an attribute on an object, it is spawned into existance."
   ]
  },
  {
   "cell_type": "code",
   "execution_count": 5,
   "id": "02c6d75f-6ecc-4539-80ab-02598554d000",
   "metadata": {},
   "outputs": [],
   "source": [
    "class One:\n",
    "    def __init__(self):\n",
    "        # assigning x to 1 spawns x\n",
    "        self.name = \"ek\""
   ]
  },
  {
   "cell_type": "code",
   "execution_count": 6,
   "id": "27f3dd68-3f39-4625-8be0-c5c8fcd6cdf8",
   "metadata": {},
   "outputs": [
    {
     "name": "stdout",
     "output_type": "stream",
     "text": [
      "ek\n"
     ]
    },
    {
     "data": {
      "text/plain": [
       "{'name': 'ek'}"
      ]
     },
     "execution_count": 6,
     "metadata": {},
     "output_type": "execute_result"
    }
   ],
   "source": [
    "one = One()\n",
    "print(one.name)\n",
    "one.__dict__"
   ]
  },
  {
   "cell_type": "code",
   "execution_count": 7,
   "id": "7888f5ac-2fbe-43f9-86cb-f99c226f16df",
   "metadata": {},
   "outputs": [
    {
     "name": "stdout",
     "output_type": "stream",
     "text": [
      "'One' object has no attribute 'value'\n"
     ]
    }
   ],
   "source": [
    "try:\n",
    "    one.value\n",
    "except AttributeError as err:\n",
    "    print(err)"
   ]
  },
  {
   "cell_type": "code",
   "execution_count": 8,
   "id": "39a7fcbc-b123-4d5e-9c7c-6840cd9b9da2",
   "metadata": {},
   "outputs": [
    {
     "name": "stdout",
     "output_type": "stream",
     "text": [
      "1\n"
     ]
    },
    {
     "data": {
      "text/plain": [
       "{'name': 'ek', 'value': 1}"
      ]
     },
     "execution_count": 8,
     "metadata": {},
     "output_type": "execute_result"
    }
   ],
   "source": [
    "# Now value is a valid attribute\n",
    "one.value = 1\n",
    "print(one.value)\n",
    "one.__dict__"
   ]
  },
  {
   "cell_type": "markdown",
   "id": "ffe6375f-4c2f-406f-8376-1cacaa55405d",
   "metadata": {},
   "source": [
    "A common practice I have seen is to define all the instance attributes in the init method and give them all some default values."
   ]
  },
  {
   "cell_type": "code",
   "execution_count": 13,
   "id": "aaccb57d-360b-4d96-a7ac-f164010faeeb",
   "metadata": {},
   "outputs": [],
   "source": [
    "class Two:\n",
    "    def __init__(self, value: int):\n",
    "        self.name: str | None = None\n",
    "        self.value = value"
   ]
  },
  {
   "cell_type": "code",
   "execution_count": 14,
   "id": "b19caf08-4566-4517-9f97-6d8e296b2e5a",
   "metadata": {},
   "outputs": [
    {
     "name": "stdout",
     "output_type": "stream",
     "text": [
      "None 2\n"
     ]
    }
   ],
   "source": [
    "two = Two(2)\n",
    "print(two.name, two.value)"
   ]
  },
  {
   "cell_type": "code",
   "execution_count": 15,
   "id": "a9c1d720-2f7b-44f4-8754-58b994e27c34",
   "metadata": {},
   "outputs": [
    {
     "name": "stdout",
     "output_type": "stream",
     "text": [
      "do 2\n"
     ]
    }
   ],
   "source": [
    "two.name = \"do\"\n",
    "print(two.name, two.value)"
   ]
  },
  {
   "cell_type": "markdown",
   "id": "9ac500ce-de4f-4e9c-81e3-818728ff58b0",
   "metadata": {},
   "source": [
    "## Class Level Attributes\n",
    "The closest analogy to the C-family of languages are static variables."
   ]
  },
  {
   "cell_type": "code",
   "execution_count": 27,
   "id": "d68efe5b-b1a7-4526-84a4-966560220a06",
   "metadata": {},
   "outputs": [],
   "source": [
    "class Three:\n",
    "    name = \"teen\"\n",
    "\n",
    "    def __init__(self):\n",
    "        self.value = 3"
   ]
  },
  {
   "cell_type": "code",
   "execution_count": 28,
   "id": "c22ee1b8-c68d-4dcd-a749-8fe259f785e4",
   "metadata": {},
   "outputs": [
    {
     "name": "stdout",
     "output_type": "stream",
     "text": [
      "teen\n"
     ]
    },
    {
     "data": {
      "text/plain": [
       "mappingproxy({'__module__': '__main__',\n",
       "              '__firstlineno__': 1,\n",
       "              'name': 'teen',\n",
       "              '__init__': <function __main__.Three.__init__(self)>,\n",
       "              '__static_attributes__': ('value',),\n",
       "              '__dict__': <attribute '__dict__' of 'Three' objects>,\n",
       "              '__weakref__': <attribute '__weakref__' of 'Three' objects>,\n",
       "              '__doc__': None})"
      ]
     },
     "execution_count": 28,
     "metadata": {},
     "output_type": "execute_result"
    }
   ],
   "source": [
    "print(Three.name)\n",
    "Three.__dict__"
   ]
  },
  {
   "cell_type": "code",
   "execution_count": 29,
   "id": "807ee73c-4946-48d4-abe1-e8c871faa83c",
   "metadata": {},
   "outputs": [
    {
     "name": "stdout",
     "output_type": "stream",
     "text": [
      "teen 3\n"
     ]
    },
    {
     "data": {
      "text/plain": [
       "{'value': 3}"
      ]
     },
     "execution_count": 29,
     "metadata": {},
     "output_type": "execute_result"
    }
   ],
   "source": [
    "three = Three()\n",
    "print(three.name, three.value)\n",
    "three.__dict__"
   ]
  },
  {
   "cell_type": "markdown",
   "id": "a780f122-8c41-4725-b18e-eec94bbf3e26",
   "metadata": {},
   "source": [
    "Even though I can call `Three.name` it is just referring to the class level `name`. When I change this attribute, all the objects will see this change."
   ]
  },
  {
   "cell_type": "code",
   "execution_count": 30,
   "id": "f6593a48-11a3-4eff-8ee6-f00189b58db1",
   "metadata": {},
   "outputs": [
    {
     "name": "stdout",
     "output_type": "stream",
     "text": [
      "teen 3\n"
     ]
    }
   ],
   "source": [
    "three_1 = Three()\n",
    "print(three.name, three.value)"
   ]
  },
  {
   "cell_type": "code",
   "execution_count": 31,
   "id": "28362cd8-2147-4cb3-899b-4a7d7c75d714",
   "metadata": {},
   "outputs": [
    {
     "name": "stdout",
     "output_type": "stream",
     "text": [
      "three three\n"
     ]
    }
   ],
   "source": [
    "Three.name = \"three\"\n",
    "print(three.name, three_1.name)"
   ]
  },
  {
   "cell_type": "markdown",
   "id": "febc77a5-583d-48ee-af3c-1cc3236681cb",
   "metadata": {},
   "source": [
    "However, I can create a instance level attribute with the same name `name`. `three.name` will now refer to this new instance level attribute."
   ]
  },
  {
   "cell_type": "code",
   "execution_count": 32,
   "id": "566bc1dd-3cc9-4565-9744-c3a67417032a",
   "metadata": {},
   "outputs": [
    {
     "data": {
      "text/plain": [
       "{'value': 3, 'name': 'tres'}"
      ]
     },
     "execution_count": 32,
     "metadata": {},
     "output_type": "execute_result"
    }
   ],
   "source": [
    "three.name = \"tres\"\n",
    "three.__dict__"
   ]
  },
  {
   "cell_type": "markdown",
   "id": "dd1aea37-6481-47d0-98ab-12f2122cf090",
   "metadata": {},
   "source": [
    "Now when I change the class level attribute, this instance does not change."
   ]
  },
  {
   "cell_type": "code",
   "execution_count": 34,
   "id": "2cf91dac-1293-42b0-8338-585396e85393",
   "metadata": {},
   "outputs": [
    {
     "name": "stdout",
     "output_type": "stream",
     "text": [
      "tres trun\n"
     ]
    }
   ],
   "source": [
    "Three.name = \"trun\"\n",
    "print(three.name, three_1.name)"
   ]
  },
  {
   "cell_type": "markdown",
   "id": "ddb0bb10-4d0c-48c2-b69b-dd837985a4ad",
   "metadata": {},
   "source": [
    "Sometimes I'll see what look like class level variables with only type annotation, but no default value set. These don't mean anything to the Python runtime, they are just there for mypy and the human reader."
   ]
  },
  {
   "cell_type": "code",
   "execution_count": 35,
   "id": "9846adf4-d8bd-4dee-be61-4c9abc27c1d9",
   "metadata": {},
   "outputs": [],
   "source": [
    "class Four:\n",
    "    name: str\n",
    "\n",
    "    def __init__(self, value: int):\n",
    "        self.value = value"
   ]
  },
  {
   "cell_type": "code",
   "execution_count": 36,
   "id": "d8c365cb-563b-4d62-9e9e-9322dbed7004",
   "metadata": {},
   "outputs": [
    {
     "data": {
      "text/plain": [
       "mappingproxy({'__module__': '__main__',\n",
       "              '__firstlineno__': 1,\n",
       "              '__annotations__': {'name': str},\n",
       "              '__init__': <function __main__.Four.__init__(self, value: int)>,\n",
       "              '__static_attributes__': ('value',),\n",
       "              '__dict__': <attribute '__dict__' of 'Four' objects>,\n",
       "              '__weakref__': <attribute '__weakref__' of 'Four' objects>,\n",
       "              '__doc__': None})"
      ]
     },
     "execution_count": 36,
     "metadata": {},
     "output_type": "execute_result"
    }
   ],
   "source": [
    "Four.__dict__"
   ]
  },
  {
   "cell_type": "code",
   "execution_count": 37,
   "id": "2cdbaed1-feda-4731-a96a-8885e3543f1c",
   "metadata": {},
   "outputs": [
    {
     "name": "stdout",
     "output_type": "stream",
     "text": [
      "type object 'Four' has no attribute 'name'\n"
     ]
    }
   ],
   "source": [
    "try:\n",
    "    Four.name\n",
    "except AttributeError as err:\n",
    "    print(err)"
   ]
  },
  {
   "cell_type": "markdown",
   "id": "f412c72f-0226-413d-9a63-9a326be0f764",
   "metadata": {},
   "source": [
    "I have seen this as an alternative way to declaring all the instance variables in one place. The benefit over setting all the instance level attributes in the init method, I don't have to provide default values, e.g., I don't need to annotate name as either None or string, it can just be a string."
   ]
  },
  {
   "cell_type": "markdown",
   "id": "a8211ae3-d2a2-40c0-bd60-63cc7bdf8eaa",
   "metadata": {},
   "source": [
    "### Slots\n",
    "Both the ways of declaring instance level variables - either in the init method with default values, or as class-level annotations, rely on convention. As a user, I can still spawn arbitrary attributes on the object. To avoid this, I can use the class level `__slots__` variable to define the list of allowable instance attribute names. Declaring `__slots__` will take away the `__dict__` attribute.\n",
    "\n",
    "More details [here](https://wiki.python.org/moin/UsingSlots)"
   ]
  },
  {
   "cell_type": "code",
   "execution_count": 47,
   "id": "7e1af705-b34c-4b27-81e1-698e2389192b",
   "metadata": {},
   "outputs": [],
   "source": [
    "class Five:\n",
    "    __slots__ = (\"name\", \"value\")\n",
    "\n",
    "    def __init__(self):\n",
    "        self.name = \"paanch\"\n",
    "        self.value = 5"
   ]
  },
  {
   "cell_type": "code",
   "execution_count": 48,
   "id": "843168ce-a52b-4741-872a-7bae4818ad64",
   "metadata": {},
   "outputs": [
    {
     "name": "stdout",
     "output_type": "stream",
     "text": [
      "paanch 5\n"
     ]
    }
   ],
   "source": [
    "five = Five()\n",
    "print(five.name, five.value)"
   ]
  },
  {
   "cell_type": "code",
   "execution_count": 49,
   "id": "221e37bd-39aa-45db-8170-18526a27a677",
   "metadata": {},
   "outputs": [
    {
     "name": "stdout",
     "output_type": "stream",
     "text": [
      "'Five' object has no attribute '__dict__'\n"
     ]
    }
   ],
   "source": [
    "try:\n",
    "    five.__dict__\n",
    "except AttributeError as err:\n",
    "    print(err)"
   ]
  },
  {
   "cell_type": "code",
   "execution_count": 51,
   "id": "dc55729f-015a-4cb3-9264-fffffcf5f2a4",
   "metadata": {},
   "outputs": [
    {
     "name": "stdout",
     "output_type": "stream",
     "text": [
      "'Five' object has no attribute 'prev' and no __dict__ for setting new attributes\n"
     ]
    }
   ],
   "source": [
    "try:\n",
    "    five.prev = four\n",
    "except AttributeError as err:\n",
    "    print(err)"
   ]
  },
  {
   "cell_type": "markdown",
   "id": "11f2de5d-ed0d-4af6-a189-70e40ae94c46",
   "metadata": {},
   "source": [
    "## Dataclass\n",
    "\n",
    "Dataclasses are a convenient way to define classes. As a user all I need to do is define the fields aka attributes of the dataclass. \n",
    "\n",
    "> A field is defined as a class variable that has a type annotation\n",
    "\n",
    "Once I do this, I get the following for free -\n",
    "  * `__init__` with keyword args\n",
    "  * `__repr__`\n",
    "  * `eq`"
   ]
  },
  {
   "cell_type": "code",
   "execution_count": 72,
   "id": "59a12175-b990-4432-a1ef-8e1883faa95b",
   "metadata": {},
   "outputs": [],
   "source": [
    "from dataclasses import dataclass, FrozenInstanceError"
   ]
  },
  {
   "cell_type": "code",
   "execution_count": 54,
   "id": "1a4f2c12-6ea4-4aaa-8e90-0f22a73dd3e5",
   "metadata": {},
   "outputs": [],
   "source": [
    "@dataclass\n",
    "class Cookie:\n",
    "    calories: int = 0\n",
    "    flavor: str = \"\""
   ]
  },
  {
   "cell_type": "code",
   "execution_count": 55,
   "id": "66012f07-be8b-44e2-8c93-9453d4d55435",
   "metadata": {},
   "outputs": [],
   "source": [
    "# Got the init method\n",
    "c1 = Cookie(calories=200, flavor=\"Chocolate Chip\")"
   ]
  },
  {
   "cell_type": "code",
   "execution_count": 56,
   "id": "0fe06da2-d43b-4461-a1b1-7b490f4f8920",
   "metadata": {},
   "outputs": [
    {
     "data": {
      "text/plain": [
       "Cookie(calories=200, flavor='Chocolate Chip')"
      ]
     },
     "execution_count": 56,
     "metadata": {},
     "output_type": "execute_result"
    }
   ],
   "source": [
    "# Got the __repr__\n",
    "c1"
   ]
  },
  {
   "cell_type": "code",
   "execution_count": 59,
   "id": "28c0c279-e6cf-434d-b7be-cd29e557fee2",
   "metadata": {},
   "outputs": [
    {
     "data": {
      "text/plain": [
       "True"
      ]
     },
     "execution_count": 59,
     "metadata": {},
     "output_type": "execute_result"
    }
   ],
   "source": [
    "# Got the __eq__\n",
    "c2 = Cookie(calories=200, flavor=\"Chocolate Chip\")\n",
    "c1 == c2"
   ]
  },
  {
   "cell_type": "code",
   "execution_count": 74,
   "id": "b3483739-0167-4e57-beb5-c1a789f19a19",
   "metadata": {},
   "outputs": [
    {
     "data": {
      "text/plain": [
       "Cookie(calories=220, flavor='Chocolate Chip')"
      ]
     },
     "execution_count": 74,
     "metadata": {},
     "output_type": "execute_result"
    }
   ],
   "source": [
    "# I can set these fields\n",
    "c1.calories = 220\n",
    "c1"
   ]
  },
  {
   "cell_type": "code",
   "execution_count": 61,
   "id": "3d93cc30-db93-43df-ae41-7781b2cec96a",
   "metadata": {},
   "outputs": [
    {
     "name": "stdout",
     "output_type": "stream",
     "text": [
      "unhashable type: 'Cookie'\n"
     ]
    }
   ],
   "source": [
    "# But these are not hashable, because they are mutable\n",
    "try:\n",
    "    set((c1,))\n",
    "except TypeError as err:\n",
    "    print(err)"
   ]
  },
  {
   "cell_type": "markdown",
   "id": "675bbd78-cc96-4288-ae6a-cabdb2937878",
   "metadata": {},
   "source": [
    "There are two ways to make a dataclass hashable, one is the brute force way and another is to \"freeze\" the class."
   ]
  },
  {
   "cell_type": "code",
   "execution_count": 66,
   "id": "9bb8ff2d-b02d-4529-90b7-b9496e7dab5b",
   "metadata": {},
   "outputs": [],
   "source": [
    "# The brute force way is to set the unsafe_hash to true\n",
    "\n",
    "@dataclass(unsafe_hash=True)\n",
    "class  IceCream:\n",
    "    calories: int = 0\n",
    "    flavor: str = \"\""
   ]
  },
  {
   "cell_type": "code",
   "execution_count": 64,
   "id": "bc99359b-6820-433a-9897-15aecfb0853e",
   "metadata": {},
   "outputs": [
    {
     "data": {
      "text/plain": [
       "IceCream(calories=200, flavor='Strawberry')"
      ]
     },
     "execution_count": 64,
     "metadata": {},
     "output_type": "execute_result"
    }
   ],
   "source": [
    "ice1 = IceCream(calories=200, flavor=\"Strawberry\")\n",
    "ice1"
   ]
  },
  {
   "cell_type": "code",
   "execution_count": 65,
   "id": "314ace78-f4a3-402f-8591-5443139424ca",
   "metadata": {},
   "outputs": [
    {
     "data": {
      "text/plain": [
       "{IceCream(calories=200, flavor='Strawberry')}"
      ]
     },
     "execution_count": 65,
     "metadata": {},
     "output_type": "execute_result"
    }
   ],
   "source": [
    "set((ice1,))"
   ]
  },
  {
   "cell_type": "code",
   "execution_count": 68,
   "id": "c718d192-84f9-4cd9-be48-7b58a8666c2e",
   "metadata": {},
   "outputs": [],
   "source": [
    "# A better and more semantically correct way is to freeze the class.\n",
    "@dataclass(frozen=True)\n",
    "class Stock:\n",
    "    symbol: str = \"\"\n",
    "    price: float = 0.0"
   ]
  },
  {
   "cell_type": "code",
   "execution_count": 69,
   "id": "4c96d1ae-8269-4c8f-951a-7bdfa25b71e7",
   "metadata": {},
   "outputs": [
    {
     "data": {
      "text/plain": [
       "{Stock(symbol='APPL', price=243.36)}"
      ]
     },
     "execution_count": 69,
     "metadata": {},
     "output_type": "execute_result"
    }
   ],
   "source": [
    "s1 = Stock(\"APPL\", 243.36)\n",
    "set((s1,))"
   ]
  },
  {
   "cell_type": "markdown",
   "id": "cd0058c1-9f57-4dc5-8b02-85f53590ac2b",
   "metadata": {},
   "source": [
    "Of course this means that I cannot set any of the fields of an existing object."
   ]
  },
  {
   "cell_type": "code",
   "execution_count": 73,
   "id": "ba31ecbb-af44-4245-8293-4b8dc5a9efea",
   "metadata": {},
   "outputs": [
    {
     "name": "stdout",
     "output_type": "stream",
     "text": [
      "cannot assign to field 'price'\n"
     ]
    }
   ],
   "source": [
    "try:\n",
    "    s1.price = 245\n",
    "except FrozenInstanceError as err:\n",
    "    print(err)"
   ]
  },
  {
   "cell_type": "markdown",
   "id": "69e2e1c3-ae55-42a8-9415-78e9738871de",
   "metadata": {},
   "source": [
    "The so-called field declaration of dataclasses are still plain old class level attributes. The init method creates the actual instance attributes that mirror the type and default values of the class level attributes."
   ]
  },
  {
   "cell_type": "code",
   "execution_count": 75,
   "id": "0d68e415-21a6-4cae-b68a-e17722831425",
   "metadata": {},
   "outputs": [
    {
     "name": "stdout",
     "output_type": "stream",
     "text": [
      " 0\n"
     ]
    }
   ],
   "source": [
    "print(Cookie.flavor, Cookie.calories)"
   ]
  },
  {
   "cell_type": "markdown",
   "id": "8f132a7f-0f3d-473d-b100-74a188ab5008",
   "metadata": {},
   "source": [
    "While a field has to have a type annotation, it is not required to have a default value. In the example below, `title` and `rating` don't exist until an object is instantiated."
   ]
  },
  {
   "cell_type": "code",
   "execution_count": 80,
   "id": "ed02eec2-4431-4e1e-91ad-b42a1414f3ff",
   "metadata": {},
   "outputs": [],
   "source": [
    "@dataclass\n",
    "class VideoGame:\n",
    "    title: str\n",
    "    rating: float"
   ]
  },
  {
   "cell_type": "code",
   "execution_count": 81,
   "id": "1a720237-dd4e-4df5-a752-e671f265f963",
   "metadata": {},
   "outputs": [
    {
     "name": "stdout",
     "output_type": "stream",
     "text": [
      "type object 'VideoGame' has no attribute 'title'\n"
     ]
    }
   ],
   "source": [
    "try:\n",
    "    VideoGame.title\n",
    "except AttributeError as err:\n",
    "    print(err)"
   ]
  },
  {
   "cell_type": "code",
   "execution_count": 82,
   "id": "a6fd94a4-c9a8-44fe-9883-bbde2fe29c01",
   "metadata": {},
   "outputs": [
    {
     "data": {
      "text/plain": [
       "VideoGame(title='Halo', rating=4.9)"
      ]
     },
     "execution_count": 82,
     "metadata": {},
     "output_type": "execute_result"
    }
   ],
   "source": [
    "game = VideoGame(title=\"Halo\", rating=4.9)\n",
    "game"
   ]
  },
  {
   "cell_type": "code",
   "execution_count": null,
   "id": "0a581ff5-b812-4cce-9f75-c37e33bb024e",
   "metadata": {},
   "outputs": [],
   "source": []
  }
 ],
 "metadata": {
  "kernelspec": {
   "display_name": "Python 3 (ipykernel)",
   "language": "python",
   "name": "python3"
  },
  "language_info": {
   "codemirror_mode": {
    "name": "ipython",
    "version": 3
   },
   "file_extension": ".py",
   "mimetype": "text/x-python",
   "name": "python",
   "nbconvert_exporter": "python",
   "pygments_lexer": "ipython3",
   "version": "3.13.1"
  }
 },
 "nbformat": 4,
 "nbformat_minor": 5
}
