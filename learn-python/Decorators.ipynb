{
 "cells": [
  {
   "cell_type": "markdown",
   "metadata": {},
   "source": [
    "# Decorators\n",
    "\n",
    "A decorator takes a bare `Callable` as input and returns another decorated `Callable` as output."
   ]
  },
  {
   "cell_type": "code",
   "execution_count": 1,
   "metadata": {},
   "outputs": [],
   "source": [
    "from typing import Callable"
   ]
  },
  {
   "cell_type": "code",
   "execution_count": 2,
   "metadata": {},
   "outputs": [],
   "source": [
    "def decorator(func: Callable) -> Callable:\n",
    "    def decorated_func(*args, **kwargs):\n",
    "        print('Custom stuff before the udf is called')\n",
    "        retval = func(*args, **kwargs)  # closure on func\n",
    "        print('Custom stuff after the udf has been called')\n",
    "        return retval\n",
    "    return decorated_func"
   ]
  },
  {
   "cell_type": "code",
   "execution_count": 3,
   "metadata": {},
   "outputs": [],
   "source": [
    "@decorator\n",
    "def bake(flavor: str, gluten_free=False):\n",
    "    print(f'Baking {flavor} cake that is {gluten_free} gluten free')"
   ]
  },
  {
   "cell_type": "code",
   "execution_count": 4,
   "metadata": {},
   "outputs": [
    {
     "name": "stdout",
     "output_type": "stream",
     "text": [
      "Custom stuff before the udf is called\n",
      "Baking Chocolate cake that is False gluten free\n",
      "Custom stuff after the udf has been called\n"
     ]
    }
   ],
   "source": [
    "bake('Chocolate')"
   ]
  },
  {
   "cell_type": "markdown",
   "metadata": {},
   "source": [
    "The above function definition is equivalent to - \n",
    "```python\n",
    "bake = decorator(bake)\n",
    "```\n",
    "This is calling the `decorator` function with the bare function as the parameter, and then substituting the function value with the new decorated function returned by the `decorator`.\n",
    "\n",
    "It is important for the decorated function to be defined inside the decorator because it needs to use passed in bare `func`, and we cannot include that in the decorated function's signature."
   ]
  },
  {
   "cell_type": "code",
   "execution_count": 5,
   "metadata": {},
   "outputs": [],
   "source": [
    "def freeze(flavor: str):\n",
    "    print(f'Freezing {flavor} ice cream')\n",
    "\n",
    "freeze = decorator(freeze)"
   ]
  },
  {
   "cell_type": "code",
   "execution_count": 6,
   "metadata": {},
   "outputs": [
    {
     "name": "stdout",
     "output_type": "stream",
     "text": [
      "Custom stuff before the udf is called\n",
      "Freezing Strawberry ice cream\n",
      "Custom stuff after the udf has been called\n"
     ]
    }
   ],
   "source": [
    "freeze('Strawberry')"
   ]
  },
  {
   "cell_type": "markdown",
   "metadata": {},
   "source": [
    "A parameterized decorator is nothing but a decorator factory, i.e., it takes some parameters to create a decorator and then returns that decorator."
   ]
  },
  {
   "cell_type": "code",
   "execution_count": 7,
   "metadata": {},
   "outputs": [],
   "source": [
    "Decorator = Callable[[Callable], Callable]\n",
    "\n",
    "def decorator_factory(temperature: int) -> Decorator:\n",
    "    def decorator(func: Callable) -> Callable:\n",
    "        def decorated_func(*args, **kwargs):\n",
    "            print(f'Preheating oven to {temperature} degress')  # Closure on temperature\n",
    "            retval = func(*args, **kwargs)  # Closure on func\n",
    "            print('Switching off oven')\n",
    "            return retval\n",
    "        return decorated_func\n",
    "    return decorator"
   ]
  },
  {
   "cell_type": "code",
   "execution_count": 8,
   "metadata": {},
   "outputs": [],
   "source": [
    "@decorator_factory(440)\n",
    "def bake(flavor: str, gluten_free=False):\n",
    "    print(f'Baking {flavor} cake that is {gluten_free} gluten free')"
   ]
  },
  {
   "cell_type": "code",
   "execution_count": 9,
   "metadata": {},
   "outputs": [
    {
     "name": "stdout",
     "output_type": "stream",
     "text": [
      "Preheating oven to 440 degress\n",
      "Baking Chocolate cake that is False gluten free\n",
      "Switching off oven\n"
     ]
    }
   ],
   "source": [
    "bake('Chocolate')"
   ]
  },
  {
   "cell_type": "markdown",
   "metadata": {},
   "source": [
    "This is equivalent to calling -\n",
    "```python\n",
    "bake = decorator_factory(440)(bake)\n",
    "```\n",
    "As can be seen `decorator_factory` is not really a decorator, instead it creates and returns a decorator. And remember a decorator is nothing but a function that takes in a bare function and returns another decoratorated function (or strictly speaking it is a function that takes in a Callable and returns a Callable)."
   ]
  },
  {
   "cell_type": "markdown",
   "metadata": {},
   "source": [
    "## Class Decorators\n",
    "Decorators can be used to decorate classes as well."
   ]
  },
  {
   "cell_type": "code",
   "execution_count": 10,
   "metadata": {},
   "outputs": [],
   "source": [
    "def class_decorator(klass):\n",
    "    def decorated_class(*args, **kwargs):\n",
    "        print('Custom stuff before the class initializer is called')\n",
    "        obj = klass(*args, **kwargs)\n",
    "        print('Custom stuff after the class initializer has been called')\n",
    "        return obj\n",
    "    return decorated_class"
   ]
  },
  {
   "cell_type": "code",
   "execution_count": 11,
   "metadata": {},
   "outputs": [],
   "source": [
    "@class_decorator\n",
    "class Cookie:\n",
    "    def __init__(self, flavor):\n",
    "        print('Initializing Cookie')\n",
    "        self.flavor = flavor\n",
    "    \n",
    "    def __repr__(self):\n",
    "        return f'<Cookie(flavor={self.flavor})>'"
   ]
  },
  {
   "cell_type": "code",
   "execution_count": 12,
   "metadata": {},
   "outputs": [
    {
     "name": "stdout",
     "output_type": "stream",
     "text": [
      "Custom stuff before the class initializer is called\n",
      "Initializing Cookie\n",
      "Custom stuff after the class initializer has been called\n"
     ]
    },
    {
     "data": {
      "text/plain": [
       "<Cookie(flavor=Chocolate Chip)>"
      ]
     },
     "execution_count": 12,
     "metadata": {},
     "output_type": "execute_result"
    }
   ],
   "source": [
    "cc = Cookie('Chocolate Chip')\n",
    "cc"
   ]
  },
  {
   "cell_type": "markdown",
   "metadata": {},
   "source": [
    "As with the function decorator, the class declaration is equivalent to -\n",
    "```python\n",
    "Cookie = class_decorator(Cookie)\n",
    "```"
   ]
  },
  {
   "cell_type": "code",
   "execution_count": 13,
   "metadata": {},
   "outputs": [],
   "source": [
    "class Cake:\n",
    "    def __init__(self, flavor):\n",
    "        print('Initializing Cake')\n",
    "        self.flavor = flavor\n",
    "        \n",
    "    def __repr__(self):\n",
    "        return f'<Cake(flavor={self.flavor})>'\n",
    "    \n",
    "\n",
    "Cake = class_decorator(Cake)"
   ]
  },
  {
   "cell_type": "code",
   "execution_count": 14,
   "metadata": {},
   "outputs": [
    {
     "name": "stdout",
     "output_type": "stream",
     "text": [
      "Custom stuff before the class initializer is called\n",
      "Initializing Cake\n",
      "Custom stuff after the class initializer has been called\n"
     ]
    },
    {
     "data": {
      "text/plain": [
       "<Cake(flavor=Chocolate)>"
      ]
     },
     "execution_count": 14,
     "metadata": {},
     "output_type": "execute_result"
    }
   ],
   "source": [
    "choc = Cake('Chocolate')\n",
    "choc"
   ]
  },
  {
   "cell_type": "markdown",
   "metadata": {},
   "source": [
    "As can be seen from the code of `class_decorator` and `decorator`, they are virtually identical. In fact, the same decorator can be used for both functions and classes."
   ]
  },
  {
   "cell_type": "code",
   "execution_count": 15,
   "metadata": {},
   "outputs": [],
   "source": [
    "@decorator\n",
    "class Doughnut:\n",
    "    def __init__(self, flavor):\n",
    "        print('Initializing Doughnut')\n",
    "        self.flavor = flavor\n",
    "    \n",
    "    def __repr__(self):\n",
    "        return f'<Doughnut(flavor={self.flavor})>'"
   ]
  },
  {
   "cell_type": "code",
   "execution_count": 16,
   "metadata": {},
   "outputs": [
    {
     "name": "stdout",
     "output_type": "stream",
     "text": [
      "Custom stuff before the udf is called\n",
      "Initializing Doughnut\n",
      "Custom stuff after the udf has been called\n"
     ]
    },
    {
     "data": {
      "text/plain": [
       "<Doughnut(flavor=Maple)>"
      ]
     },
     "execution_count": 16,
     "metadata": {},
     "output_type": "execute_result"
    }
   ],
   "source": [
    "maple = Doughnut('Maple')\n",
    "maple"
   ]
  },
  {
   "cell_type": "markdown",
   "metadata": {},
   "source": [
    "This is possible because a decorator is nothing but a function that takes in a bare Callable and returns a decorated Callable. Whether that Callable is a function or a class does not matter."
   ]
  },
  {
   "cell_type": "code",
   "execution_count": null,
   "metadata": {},
   "outputs": [],
   "source": []
  }
 ],
 "metadata": {
  "kernelspec": {
   "display_name": "Python 3.10.5 ('dev')",
   "language": "python",
   "name": "python3"
  },
  "language_info": {
   "codemirror_mode": {
    "name": "ipython",
    "version": 3
   },
   "file_extension": ".py",
   "mimetype": "text/x-python",
   "name": "python",
   "nbconvert_exporter": "python",
   "pygments_lexer": "ipython3",
   "version": "3.10.5"
  },
  "vscode": {
   "interpreter": {
    "hash": "784114715d987f376fd768172d6fb64b1fb77afe12a7e2b607779dcdec22a151"
   }
  }
 },
 "nbformat": 4,
 "nbformat_minor": 4
}
