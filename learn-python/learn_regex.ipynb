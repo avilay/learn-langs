{
 "cells": [
  {
   "cell_type": "markdown",
   "metadata": {},
   "source": [
    "# Regex\n",
    "\n",
    "  * Basic regex escapes\n",
    "  * Usage of raw strings\n",
    "  * Available flags\n",
    "  * Basic API\n",
    "\n",
    "Great [reference document](https://docs.python.org/3/howto/regex.html).\n",
    "\n",
    "## Regex Special Matches\n",
    "List of most common special matches -\n",
    "  * `\\d`: Matches any digit, same as `[0-9]`.\n",
    "  * `\\D`: Matches anything but a digit, same as `[^0-9]`.\n",
    "  * `\\s`: Matches any whitespace character, same as `[ \\t\\n\\r\\f\\v]`.\n",
    "  * `\\S`: Matches any non-whitespace character, same as `[^ \\t\\n\\r\\f\\v]`.\n",
    "  * `\\w`: Matches any alphanumeric character, same as `[a-zA-Z0-9]`.\n",
    "  * `\\W`: Matches any non-alphanumeric character, sames as `^[a-zA-Z0-9]`.\n",
    "  * `\\b`: A boundary specifier that matches word boundaries. So `\\bat\\b` matches `\"at\"`, `\"at.\"`, `\"(at)\"`, `\"as at ay\"`, but not `\"attempt\"`, or `\"atlas\"`.\n",
    "  * `\\B`: A boundary specifier that matches non-word boundaries. So `at\\B` matches `\"athens\"`, `\"attorney\"`, `\"atom\"`, but not `\"at\"`, `\"at.\"`.\n",
    "\n",
    "## Raw Strings\n",
    "Regexs make liberal use of backslashes but Python treats backslashes in strings as special, e.g., `\"\\n\"` is a single newline character. This means that regex backslashes have to be escaped in regular Python strings, so a regex like `\\w\\-\\d` will have to be written as `\"\\\\w\\\\-\\\\d\"` which can quickly become unweildly. However, if I prefix a string with an `r`, I am telling Python to not treat backslashes as special. `r\"\\n\"` is just two characters - a backslash followed by the letter n. Now regexs can be written as-is.\n",
    "\n",
    "## Flags\n",
    "Some common flags -\n",
    "\n",
    "| Flag | Meaning |\n",
    "|------|------------|\n",
    "| `DOTALL` or `S` | Makes the `.` character match newlines as well |\n",
    "| `IGNORECASE` or `I` | Ignores the case |\n",
    "| `MULTILINE` or `M` | Multiline matching useful when using `^` and `$` |\n",
    "\n",
    "## APIs\n",
    "  * `match`: find the pattern if it is at the beginning of the string.\n",
    "  * `search`: find the first occurence of the pattern anywhere in the string.\n",
    "  * `findall`: finds all occurences of the pattern starting anywhere in the string.\n",
    "  * `finditer`: same as above, except yields an iterator.\n",
    "  * `Match` object: has methods `.group`, `.span`, `.start`, and `.stop`.\n",
    "  * `sub`: substitutes the pattern with another given string in the input string.\n",
    "  * `split`: splits the input string on the pattern.\n",
    "  * `compile`: creates a regex object that can be reused."
   ]
  },
  {
   "cell_type": "code",
   "execution_count": 1,
   "metadata": {},
   "outputs": [],
   "source": [
    "import re"
   ]
  },
  {
   "cell_type": "code",
   "execution_count": 7,
   "metadata": {},
   "outputs": [
    {
     "data": {
      "text/plain": [
       "'One Ring to rule them all, One Ring to find them, One Ring to bring them all, and in the darkness bind them.'"
      ]
     },
     "execution_count": 7,
     "metadata": {},
     "output_type": "execute_result"
    }
   ],
   "source": [
    "\"One Ring to rule them all, One Ring to find them, One Ring to bring them all, and in the darkness bind them.\""
   ]
  },
  {
   "cell_type": "markdown",
   "metadata": {},
   "source": [
    "### `match` and `search`\n",
    "`match` matches only at the beginning of the string, `search` can find the first occurence even if it is somewhere in the middle of the string. They both return a `re.Match` object."
   ]
  },
  {
   "cell_type": "code",
   "execution_count": null,
   "metadata": {},
   "outputs": [
    {
     "data": {
      "text/plain": [
       "<re.Match object; span=(0, 3), match='One'>"
      ]
     },
     "execution_count": 13,
     "metadata": {},
     "output_type": "execute_result"
    }
   ],
   "source": [
    "re.match(r\"one\", \"One ring to rule them all, One ring to find them\", re.IGNORECASE)"
   ]
  },
  {
   "cell_type": "code",
   "execution_count": null,
   "metadata": {},
   "outputs": [
    {
     "data": {
      "text/plain": [
       "<re.Match object; span=(0, 3), match='One'>"
      ]
     },
     "execution_count": 15,
     "metadata": {},
     "output_type": "execute_result"
    }
   ],
   "source": [
    "re.search(r\"one\", \"One Ring to rule them all, One ring to find them\", re.IGNORECASE)"
   ]
  },
  {
   "cell_type": "code",
   "execution_count": 19,
   "metadata": {},
   "outputs": [
    {
     "data": {
      "text/plain": [
       "True"
      ]
     },
     "execution_count": 19,
     "metadata": {},
     "output_type": "execute_result"
    }
   ],
   "source": [
    "re.match(f\"ring\", \"One ring to rule them all, One ring to find them\") is None"
   ]
  },
  {
   "cell_type": "code",
   "execution_count": 20,
   "metadata": {},
   "outputs": [
    {
     "data": {
      "text/plain": [
       "<re.Match object; span=(4, 8), match='ring'>"
      ]
     },
     "execution_count": 20,
     "metadata": {},
     "output_type": "execute_result"
    }
   ],
   "source": [
    "re.search(r\"ring\", \"One ring to rule them all, One ring to find them\")"
   ]
  },
  {
   "cell_type": "markdown",
   "metadata": {},
   "source": [
    "### `findall` and `finditer`\n",
    "Both of these do a \"global\" search and find **all** occurences of the pattern in the input string. `findall` returns a list, `finditer` yields `re.Match` objects in an iterator."
   ]
  },
  {
   "cell_type": "code",
   "execution_count": 23,
   "metadata": {},
   "outputs": [
    {
     "data": {
      "text/plain": [
       "['12', '13']"
      ]
     },
     "execution_count": 23,
     "metadata": {},
     "output_type": "execute_result"
    }
   ],
   "source": [
    "re.findall(r\"\\d+\", \"A dozen has 12 items, but a baker's dozen has 13 items!\")"
   ]
  },
  {
   "cell_type": "code",
   "execution_count": 24,
   "metadata": {},
   "outputs": [
    {
     "name": "stdout",
     "output_type": "stream",
     "text": [
      "<re.Match object; span=(12, 14), match='12'>\n",
      "<re.Match object; span=(46, 48), match='13'>\n"
     ]
    }
   ],
   "source": [
    "for match in re.finditer(r\"\\d+\", \"A dozen has 12 items, but a baker's dozen has 13 items!\"):\n",
    "    print(match)"
   ]
  },
  {
   "cell_type": "markdown",
   "metadata": {},
   "source": [
    "### `re.Match` object\n",
    "It has the following four methods -\n",
    "  * `start()`: the starting index of the match.\n",
    "  * `end()`: the ending index of the match.\n",
    "  * `span()`: A tuple with the start and the end indices.\n",
    "  * `group()`: The match itself."
   ]
  },
  {
   "cell_type": "code",
   "execution_count": 28,
   "metadata": {},
   "outputs": [
    {
     "name": "stdout",
     "output_type": "stream",
     "text": [
      "4\n",
      "8\n",
      "(4, 8)\n"
     ]
    }
   ],
   "source": [
    "match = re.search(r\"ring\", \"One ring to rule them all, One ring to find them\")\n",
    "print(match.start())\n",
    "print(match.end())\n",
    "print(match.span())"
   ]
  },
  {
   "cell_type": "code",
   "execution_count": 29,
   "metadata": {},
   "outputs": [
    {
     "data": {
      "text/plain": [
       "'ring'"
      ]
     },
     "execution_count": 29,
     "metadata": {},
     "output_type": "execute_result"
    }
   ],
   "source": [
    "match.group()"
   ]
  },
  {
   "cell_type": "markdown",
   "metadata": {},
   "source": [
    "### Grouping\n",
    "This is just normal regex grouping. The `re.Match.group(n)` can be used to retrieve the groups."
   ]
  },
  {
   "cell_type": "code",
   "execution_count": 48,
   "metadata": {},
   "outputs": [],
   "source": [
    "match = re.search(r\"(\\w+)@(\\w+\\.\\w+)\", \"My email is avilay@gmail.com for most things.\")"
   ]
  },
  {
   "cell_type": "code",
   "execution_count": 49,
   "metadata": {},
   "outputs": [
    {
     "data": {
      "text/plain": [
       "'avilay@gmail.com'"
      ]
     },
     "execution_count": 49,
     "metadata": {},
     "output_type": "execute_result"
    }
   ],
   "source": [
    "match.group()"
   ]
  },
  {
   "cell_type": "code",
   "execution_count": 50,
   "metadata": {},
   "outputs": [
    {
     "data": {
      "text/plain": [
       "('avilay', 'gmail.com')"
      ]
     },
     "execution_count": 50,
     "metadata": {},
     "output_type": "execute_result"
    }
   ],
   "source": [
    "match.groups()"
   ]
  },
  {
   "cell_type": "code",
   "execution_count": 51,
   "metadata": {},
   "outputs": [
    {
     "data": {
      "text/plain": [
       "'avilay'"
      ]
     },
     "execution_count": 51,
     "metadata": {},
     "output_type": "execute_result"
    }
   ],
   "source": [
    "match.group(1)"
   ]
  },
  {
   "cell_type": "code",
   "execution_count": 52,
   "metadata": {},
   "outputs": [
    {
     "data": {
      "text/plain": [
       "'gmail.com'"
      ]
     },
     "execution_count": 52,
     "metadata": {},
     "output_type": "execute_result"
    }
   ],
   "source": [
    "match.group(2)"
   ]
  },
  {
   "cell_type": "code",
   "execution_count": 53,
   "metadata": {},
   "outputs": [
    {
     "ename": "IndexError",
     "evalue": "no such group",
     "output_type": "error",
     "traceback": [
      "\u001b[0;31m---------------------------------------------------------------------------\u001b[0m",
      "\u001b[0;31mIndexError\u001b[0m                                Traceback (most recent call last)",
      "Cell \u001b[0;32mIn[53], line 1\u001b[0m\n\u001b[0;32m----> 1\u001b[0m \u001b[38;5;28;01mmatch\u001b[39;00m\u001b[38;5;241m.\u001b[39mgroup(\u001b[38;5;241m3\u001b[39m)\n",
      "\u001b[0;31mIndexError\u001b[0m: no such group"
     ]
    }
   ],
   "source": [
    "match.group(3)"
   ]
  },
  {
   "cell_type": "markdown",
   "metadata": {},
   "source": [
    "Grouping does not work with `findall` but does work with `finditer`."
   ]
  },
  {
   "cell_type": "code",
   "execution_count": null,
   "metadata": {},
   "outputs": [
    {
     "data": {
      "text/plain": [
       "['12', '13']"
      ]
     },
     "execution_count": 45,
     "metadata": {},
     "output_type": "execute_result"
    }
   ],
   "source": [
    "re.findall(r\"(\\d+)\\s+items\", \"A dozen has 12 items, but a baker's dozen has 13 items!\")"
   ]
  },
  {
   "cell_type": "code",
   "execution_count": 46,
   "metadata": {},
   "outputs": [
    {
     "name": "stdout",
     "output_type": "stream",
     "text": [
      "12 items\n",
      "12\n",
      "13 items\n",
      "13\n"
     ]
    }
   ],
   "source": [
    "for match in re.finditer(r\"(\\d+)\\s+items\", \"A dozen has 12 items, but a baker's dozen has 13 items!\"):\n",
    "    print(match.group())\n",
    "    print(match.group(1))"
   ]
  },
  {
   "cell_type": "markdown",
   "metadata": {},
   "source": [
    "### `sub`\n",
    "I can replace all the occurrences of the pattern with its replacement, or I can replace the first n occurences only, leaving the rest as-is. The api is -\n",
    "```python\n",
    "sub(pattern, replacement, input_string, count=0, flags=0)\n",
    "```\n",
    "Unless I am using regex as the pattern, it is often faster to use the `str.replace` method.\n",
    "```python\n",
    "input_string.replace(old, replacement, count=-1)\n",
    "```"
   ]
  },
  {
   "cell_type": "code",
   "execution_count": 77,
   "metadata": {},
   "outputs": [
    {
     "data": {
      "text/plain": [
       "'💍 to rule them all, 💍 to find them'"
      ]
     },
     "execution_count": 77,
     "metadata": {},
     "output_type": "execute_result"
    }
   ],
   "source": [
    "re.sub(\n",
    "    r\"one\\s+ring\", \n",
    "    \"💍\", \n",
    "    \"One ring to rule them all, one Ring to find them\", \n",
    "    flags=re.IGNORECASE\n",
    ")"
   ]
  },
  {
   "cell_type": "code",
   "execution_count": 78,
   "metadata": {},
   "outputs": [
    {
     "data": {
      "text/plain": [
       "'💍 to rule them all, one Ring to find them'"
      ]
     },
     "execution_count": 78,
     "metadata": {},
     "output_type": "execute_result"
    }
   ],
   "source": [
    "re.sub(\n",
    "    r\"one\\s+ring\",\n",
    "    \"💍\",\n",
    "    \"One ring to rule them all, one Ring to find them\",\n",
    "    count=1,\n",
    "    flags=re.IGNORECASE,\n",
    ")"
   ]
  },
  {
   "cell_type": "code",
   "execution_count": 79,
   "metadata": {},
   "outputs": [
    {
     "data": {
      "text/plain": [
       "'One 💍 to rule them all, one 💍 to find them'"
      ]
     },
     "execution_count": 79,
     "metadata": {},
     "output_type": "execute_result"
    }
   ],
   "source": [
    "\"One ring to rule them all, one ring to find them\".replace(\"ring\", \"💍\")"
   ]
  },
  {
   "cell_type": "markdown",
   "metadata": {},
   "source": [
    "### `split`\n",
    "The basic scenario is to split a string on a regex. Like `sub`, I can choose to stop after some number of splits. \n",
    "\n",
    "```python\n",
    "re.split(pattern, input_string, maxsplit=0, flags=0)\n",
    "```\n",
    "If I group the regex, I can get the matched regex along with the splits in the output.\n",
    "\n",
    "If I want to split on whitespace or a non-regex string, then I am better off using `str.split`.\n",
    "```python\n",
    "input_string.split(sep=None, maxsplit=-1)\n",
    "```\n"
   ]
  },
  {
   "cell_type": "code",
   "execution_count": 82,
   "metadata": {},
   "outputs": [
    {
     "data": {
      "text/plain": [
       "['',\n",
       " ' to rule them all, ',\n",
       " ' to find them. ',\n",
       " ' to bring them all, and in the darkness bind them.']"
      ]
     },
     "execution_count": 82,
     "metadata": {},
     "output_type": "execute_result"
    }
   ],
   "source": [
    "text = \"one ring to rule them all, one ring to find them. one ring to bring them all, and in the darkness bind them.\"\n",
    "re.split(r\"one\\s+ring\", text)"
   ]
  },
  {
   "cell_type": "code",
   "execution_count": 83,
   "metadata": {},
   "outputs": [
    {
     "data": {
      "text/plain": [
       "['',\n",
       " 'one ring',\n",
       " ' to rule them all, ',\n",
       " 'one ring',\n",
       " ' to find them. ',\n",
       " 'one ring',\n",
       " ' to bring them all, and in the darkness bind them.']"
      ]
     },
     "execution_count": 83,
     "metadata": {},
     "output_type": "execute_result"
    }
   ],
   "source": [
    "re.split(r\"(one\\s+ring)\", text)"
   ]
  },
  {
   "cell_type": "code",
   "execution_count": 84,
   "metadata": {},
   "outputs": [
    {
     "data": {
      "text/plain": [
       "['One', 'ring', 'to', 'rule', 'them', 'all']"
      ]
     },
     "execution_count": 84,
     "metadata": {},
     "output_type": "execute_result"
    }
   ],
   "source": [
    "\"One\\nring\\tto   rule\\r\\nthem\\t\\rall\".split()"
   ]
  },
  {
   "cell_type": "markdown",
   "metadata": {},
   "source": [
    "### `compile`\n",
    "If I am going to be using the same regex multiple times, it is better to create a regex object using the `re.compile` API. Everywhere I use `re.<api>(...)` I can substitute it with -\n",
    "```python\n",
    "pattern = re.compile(<regex pattern>)\n",
    "pattern.<api>(...)\n",
    "```"
   ]
  },
  {
   "cell_type": "code",
   "execution_count": 87,
   "metadata": {},
   "outputs": [
    {
     "data": {
      "text/plain": [
       "<re.Match object; span=(4, 8), match='ring'>"
      ]
     },
     "execution_count": 87,
     "metadata": {},
     "output_type": "execute_result"
    }
   ],
   "source": [
    "pattern = re.compile(r\"ring\")\n",
    "pattern.search(\"One ring to rule them all, One ring to find them\")"
   ]
  },
  {
   "cell_type": "code",
   "execution_count": null,
   "metadata": {},
   "outputs": [],
   "source": []
  }
 ],
 "metadata": {
  "kernelspec": {
   "display_name": "Python 3 (ipykernel)",
   "language": "python",
   "name": "python3"
  },
  "language_info": {
   "codemirror_mode": {
    "name": "ipython",
    "version": 3
   },
   "file_extension": ".py",
   "mimetype": "text/x-python",
   "name": "python",
   "nbconvert_exporter": "python",
   "pygments_lexer": "ipython3",
   "version": "3.13.1"
  }
 },
 "nbformat": 4,
 "nbformat_minor": 4
}
