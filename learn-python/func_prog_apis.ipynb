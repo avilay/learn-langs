{
 "cells": [
  {
   "cell_type": "code",
   "execution_count": 1,
   "metadata": {},
   "outputs": [],
   "source": [
    "import numpy as np\n",
    "import itertools\n",
    "import functools"
   ]
  },
  {
   "cell_type": "code",
   "execution_count": 2,
   "metadata": {},
   "outputs": [],
   "source": [
    "np.set_printoptions(\n",
    "    edgeitems=30, \n",
    "    linewidth=100000, \n",
    "    precision=3,\n",
    "    suppress=True\n",
    ")\n",
    "\n",
    "rng = np.random.default_rng(12345)    "
   ]
  },
  {
   "cell_type": "markdown",
   "metadata": {},
   "source": [
    "# Functional Programming APIs\n",
    "\n",
    "In addition to the functions demo'ed here also check out the [more-itertools](https://more-itertools.readthedocs.io/en/stable/api.html) library. I'll use the following type annotations to avoid verbosity.\n",
    "  * A sequence of type `T` is written as `seq[T]`\n",
    "  * An iterable of type `T` is written as `[T]`  \n",
    "  * A tuple is written as `(T, U, V)`\n",
    "  \n",
    "The difference between a sequence type and an iterable type is that the former implements `__len__` and `__getitem__` methods while the latter only implements the `__next__` method.\n",
    "  \n",
    "## Summary\n",
    "```python\n",
    "all :: [bool] -> bool\n",
    "any :: [bool] -> bool\n",
    "filter :: (a -> bool) -> [a] ->  [a]\n",
    "filterfalse :: (a -> bool) -> [a] -> [a]\n",
    "takewhile :: (a -> bool) -> [a] -> [a]\n",
    "dropwhile :: (a -> bool) -> [a] -> [a]\n",
    "compress :: [a] -> [bool] -> [a]\n",
    "groupby :: [a] -> (a -> b) -> [(b, [a])]\n",
    "product :: [t1] -> [t2] -> [t3] .. [tn] -> [(t1, t2, t3, ..., tn)]\n",
    "accumulate :: [a] -> (b -> a -> b) -> b -> [b]\n",
    "reduce :: (b -> a -> b) -> [a] -> b -> b\n",
    "map :: (t1 -> t2 -> ... tn -> a) -> [t1] -> [t2] ... [tn] -> a\n",
    "(simplified) map :: (a -> b) -> [a] -> [b]\n",
    "starmap: ((T1, T2, ..., Tn)->U, [(T1, T2, ..., Tn)]) -> [U]\n",
    "max: TODO\n",
    "reversed :: [a] -> [a]\n",
    "sorted :: [a] -> (a -> b) -> bool -> [a]\n",
    "zip :: [t1] -> [t2] -> ... [tn] -> bool -> [(t1, t2, ..., tn)]\n",
    "(simplified) zip :: [a] -> [b] -> bool -> [(a, b)]\n",
    "tee: ([T], int) -> seq[[T]]\n",
    "pairwise :: [a] -> [(a, a)]\n",
    "permutations/combinations: ([T], int) -> [(T, T, ..., T)]\n",
    "count: (Number, Number) -> [Number]\n",
    "cycle: [T] -> [T]\n",
    "repeat: (Any, int) -> [Any]\n",
    "chain: ([T1], [T2], ..., [Tn]) -> [Tx]\n",
    "```"
   ]
  },
  {
   "cell_type": "markdown",
   "metadata": {},
   "source": [
    "### `all(it)` \n",
    "Will return `True` if all the elements in the iterator are true. The elements in the iterator are bool-like.\n",
    "\n",
    "```\n",
    "all: [bool] -> bool\n",
    "```"
   ]
  },
  {
   "cell_type": "code",
   "execution_count": 3,
   "metadata": {},
   "outputs": [
    {
     "name": "stdout",
     "output_type": "stream",
     "text": [
      "[702 235 790 323 212]\n"
     ]
    },
    {
     "data": {
      "text/plain": [
       "False"
      ]
     },
     "execution_count": 3,
     "metadata": {},
     "output_type": "execute_result"
    }
   ],
   "source": [
    "nums = rng.integers(10, 1000, 5)\n",
    "print(nums)\n",
    "all(map(lambda x: x > 500, nums))"
   ]
  },
  {
   "cell_type": "code",
   "execution_count": 4,
   "metadata": {},
   "outputs": [],
   "source": [
    "assert(all([1, 2, 3, 4]))\n",
    "assert(not all([0, 1, 2, 3]))"
   ]
  },
  {
   "cell_type": "markdown",
   "metadata": {},
   "source": [
    "### `any(it)` \n",
    "Will return `True` if any of the elements in the iterator is true.\n",
    "\n",
    "```\n",
    "any: [bool] -> bool\n",
    "```"
   ]
  },
  {
   "cell_type": "code",
   "execution_count": 5,
   "metadata": {},
   "outputs": [
    {
     "name": "stdout",
     "output_type": "stream",
     "text": [
      "[799 646 679 988 397]\n"
     ]
    },
    {
     "data": {
      "text/plain": [
       "True"
      ]
     },
     "execution_count": 5,
     "metadata": {},
     "output_type": "execute_result"
    }
   ],
   "source": [
    "nums = rng.integers(10, 1000, 5)\n",
    "print(nums)\n",
    "any(map(lambda x: x > 500, nums))"
   ]
  },
  {
   "cell_type": "markdown",
   "metadata": {},
   "source": [
    "### `filter(predicate, it)`\n",
    "Will only return those elements in the iterator that are able to pass through the predicate function. **This returns a new iterator** containing only the filtered elements.\n",
    "\n",
    "```\n",
    "filter: (T->bool, [T]) -> [T] \n",
    "```"
   ]
  },
  {
   "cell_type": "code",
   "execution_count": 6,
   "metadata": {},
   "outputs": [
    {
     "name": "stdout",
     "output_type": "stream",
     "text": [
      "[841 339 571 602 221]\n"
     ]
    },
    {
     "data": {
      "text/plain": [
       "[841, 571, 602]"
      ]
     },
     "execution_count": 6,
     "metadata": {},
     "output_type": "execute_result"
    }
   ],
   "source": [
    "nums = rng.integers(10, 1000, 5)\n",
    "print(nums)\n",
    "list(filter(lambda x: x > 500, nums))"
   ]
  },
  {
   "cell_type": "markdown",
   "metadata": {},
   "source": [
    "### `itertools.filterfalse(predicate, it)`\n",
    "Will return those elements from the sequence that **do not** pass the predicate, i.e., the false values are filtered out. **This will return an iterator**.\n",
    "\n",
    "```\n",
    "filterfalse: (T->bool, [T]) -> [T]\n",
    "```"
   ]
  },
  {
   "cell_type": "code",
   "execution_count": 7,
   "metadata": {},
   "outputs": [
    {
     "data": {
      "text/plain": [
       "[1, 3, 5, 7, 9]"
      ]
     },
     "execution_count": 7,
     "metadata": {},
     "output_type": "execute_result"
    }
   ],
   "source": [
    "list(itertools.filterfalse(lambda x: x%2 == 0, range(10)))"
   ]
  },
  {
   "cell_type": "markdown",
   "metadata": {},
   "source": [
    "### `itertools.takewhile(predicate, it)`\n",
    "Will keep selecting elements from the sequence as long as they keep passing the predicate. After a non-passing element is hit, no more elements are selected even if there are passing elements later on in the sequence.\n",
    "\n",
    "```\n",
    "takewhile: (T->bool, [T]) -> [T]\n",
    "```"
   ]
  },
  {
   "cell_type": "code",
   "execution_count": 8,
   "metadata": {},
   "outputs": [
    {
     "data": {
      "text/plain": [
       "[1, 4]"
      ]
     },
     "execution_count": 8,
     "metadata": {},
     "output_type": "execute_result"
    }
   ],
   "source": [
    "list(itertools.takewhile(lambda x: x<5, [1,4,6,4,1]))"
   ]
  },
  {
   "cell_type": "markdown",
   "metadata": {},
   "source": [
    "### `itertools.dropwhile(predicate, it)`\n",
    "Will keep dropping elements from the iterable as long as they keep passing the filter. After a non-passing element is hit, all the remaining elements are returned even if they are passing.\n",
    "\n",
    "```\n",
    "takewhile: (T->bool, [T]) -> [T]\n",
    "```"
   ]
  },
  {
   "cell_type": "code",
   "execution_count": 9,
   "metadata": {},
   "outputs": [
    {
     "data": {
      "text/plain": [
       "[6, 4, 1]"
      ]
     },
     "execution_count": 9,
     "metadata": {},
     "output_type": "execute_result"
    }
   ],
   "source": [
    "list(itertools.dropwhile(lambda x: x<5, [1,4,6,4,1]))"
   ]
  },
  {
   "cell_type": "markdown",
   "metadata": {},
   "source": [
    "### `itertools.compress(data, selectors)`\n",
    "Where `data` is an iterable that yeilds the data element and `selectors` is a bool-like iterable that determines whether the corresponding data element should be let through the gate or not.\n",
    "\n",
    "```\n",
    "compress: ([T], [bool]) -> [T]\n",
    "```"
   ]
  },
  {
   "cell_type": "code",
   "execution_count": 10,
   "metadata": {},
   "outputs": [
    {
     "data": {
      "text/plain": [
       "['B', 'D']"
      ]
     },
     "execution_count": 10,
     "metadata": {},
     "output_type": "execute_result"
    }
   ],
   "source": [
    "# selector = [0, 1, 0, 1, 0]\n",
    "selector = [False, True, False, True, False]\n",
    "list(itertools.compress(\"ABCDE\", selector))"
   ]
  },
  {
   "cell_type": "markdown",
   "metadata": {},
   "source": [
    "### `itertools.groupby(it, key=lambda x: x)`\n",
    "The main input argument is the iterator. When the `key` is not provided, this function behaves likes the `uniq` Unix command where consecutive same elements are grouped together. `key` is an optional group-by function that takes in an element from the passed in iterator and returns a value that will be used to group the elements together. In this sense, the default `key` function is the identity function. Even when a custom key function is provided, it only works for consecutive elements. See example with names below.\n",
    "\n",
    "The returned iterator is a weird one - each element of the iterator comprises of a tuple `(key, it)`. The first element is the group-by key. In case of the default key function this is simply the value of the element. The second element is another iterator with all the elements in the group.\n",
    "\n",
    "```\n",
    "groupby: ([T], T->K) -> [(K, [T])]\n",
    "```"
   ]
  },
  {
   "cell_type": "code",
   "execution_count": 11,
   "metadata": {},
   "outputs": [
    {
     "name": "stdout",
     "output_type": "stream",
     "text": [
      "<class 'itertools.groupby'>\n",
      "<class 'itertools._grouper'>\n",
      "1 [1, 1, 1]\n",
      "<class 'itertools._grouper'>\n",
      "2 [2, 2]\n",
      "<class 'itertools._grouper'>\n",
      "3 [3, 3, 3]\n"
     ]
    }
   ],
   "source": [
    "grps = itertools.groupby([1, 1, 1, 2, 2, 3, 3, 3])\n",
    "print(type(grps))\n",
    "for key, grp in grps:\n",
    "    print(type(grp))\n",
    "    print(key, list(grp))"
   ]
  },
  {
   "cell_type": "code",
   "execution_count": 12,
   "metadata": {},
   "outputs": [
    {
     "name": "stdout",
     "output_type": "stream",
     "text": [
      "6 ['avilay', 'parekh']\n",
      "5 ['anika']\n",
      "6 ['manjit']\n"
     ]
    }
   ],
   "source": [
    "names = [\n",
    "    \"avilay\",\n",
    "    \"parekh\",\n",
    "    \"anika\",\n",
    "    \"manjit\"\n",
    "]\n",
    "grps = itertools.groupby(names, key=lambda n: len(n))\n",
    "for key, grp in grps:\n",
    "    print(key, list(grp))"
   ]
  },
  {
   "cell_type": "markdown",
   "metadata": {},
   "source": [
    "### `itertools.product(p, q, ...)`\n",
    "Returns a cartesian product of all the iterators. This is equivalent to doing a nested for-loop.\n",
    "\n",
    "```\n",
    "product: ([T1], [T2], ..., [Tn]) -> [(T1, T2, ..., Tn)]\n",
    "```"
   ]
  },
  {
   "cell_type": "code",
   "execution_count": 13,
   "metadata": {},
   "outputs": [
    {
     "data": {
      "text/plain": [
       "[(1, 'A'),\n",
       " (1, 'B'),\n",
       " (1, 'C'),\n",
       " (1, 'D'),\n",
       " (2, 'A'),\n",
       " (2, 'B'),\n",
       " (2, 'C'),\n",
       " (2, 'D'),\n",
       " (3, 'A'),\n",
       " (3, 'B'),\n",
       " (3, 'C'),\n",
       " (3, 'D')]"
      ]
     },
     "execution_count": 13,
     "metadata": {},
     "output_type": "execute_result"
    }
   ],
   "source": [
    "list(itertools.product([1, 2, 3], \"ABCD\"))"
   ]
  },
  {
   "cell_type": "markdown",
   "metadata": {},
   "source": [
    "### `sum(it, /, start=0)`"
   ]
  },
  {
   "cell_type": "markdown",
   "metadata": {},
   "source": [
    "### `itertools.accumulate(it, func=sum, *, initial=None)`\n",
    "Returns the cumulative sum of the elements of the input iterator. `func` is a binary function that can be used to return the cumulative `func`. The default `func` is `sum`.\n",
    "\n",
    "```\n",
    "accumulate: ([T], (U,T->U), U) -> [U]\n",
    "```"
   ]
  },
  {
   "cell_type": "code",
   "execution_count": 14,
   "metadata": {},
   "outputs": [
    {
     "name": "stdout",
     "output_type": "stream",
     "text": [
      "[1, 3, 6, 10, 15]\n",
      "[1, 2, 6, 24, 120]\n"
     ]
    }
   ],
   "source": [
    "print(list(itertools.accumulate([1, 2, 3, 4, 5])))\n",
    "print(list(itertools.accumulate([1, 2, 3, 4, 5], lambda x, y: x * y)))"
   ]
  },
  {
   "cell_type": "code",
   "execution_count": 15,
   "metadata": {},
   "outputs": [
    {
     "data": {
      "text/plain": [
       "['begin', 'begin1', 'begin12', 'begin123']"
      ]
     },
     "execution_count": 15,
     "metadata": {},
     "output_type": "execute_result"
    }
   ],
   "source": [
    "def func(x: str, y: int) -> str:\n",
    "    return x + str(y)\n",
    "\n",
    "x = itertools.accumulate([1, 2, 3], func=func, initial=\"begin\")\n",
    "list(x)"
   ]
  },
  {
   "cell_type": "markdown",
   "metadata": {},
   "source": [
    "### `functools.reduce(func, it, init=None)`\n",
    "Will return the final reduced value of applying the binary function successiely to each element of the iterator (starting from the left) and the previously accumulated value. If the initial value is supplied it is placed at the front of the iterator, otherwise the first element is used as the initial value.\n",
    "\n",
    "```\n",
    "reduce: ((U,T->U), [T], U) -> U\n",
    "```"
   ]
  },
  {
   "cell_type": "code",
   "execution_count": 16,
   "metadata": {},
   "outputs": [
    {
     "name": "stdout",
     "output_type": "stream",
     "text": [
      "33\n",
      "133\n"
     ]
    }
   ],
   "source": [
    "print(functools.reduce(lambda x, y: x + y, [10, 11, 12]))\n",
    "print(functools.reduce(lambda x, y: x + y, [10, 11, 12], 100))"
   ]
  },
  {
   "cell_type": "code",
   "execution_count": 17,
   "metadata": {},
   "outputs": [
    {
     "name": "stdout",
     "output_type": "stream",
     "text": [
      "x:  <class 'str'> begin\n",
      "y:  <class 'int'> 1\n",
      "x:  <class 'str'> begin1\n",
      "y:  <class 'int'> 2\n",
      "x:  <class 'str'> begin12\n",
      "y:  <class 'int'> 3\n",
      "begin123\n"
     ]
    }
   ],
   "source": [
    "def func(x: str, y: int) -> str:\n",
    "    print(\"x: \", type(x), x)\n",
    "    print(\"y: \", type(y), y)\n",
    "    return x + str(y)\n",
    "\n",
    "x = functools.reduce(func, [1, 2, 3], \"begin\")\n",
    "print(x)"
   ]
  },
  {
   "cell_type": "markdown",
   "metadata": {},
   "source": [
    "### `map(fn, it1, it2, it3, ...)`\n",
    "Will take the $n^{th}$ element from each iterator and ask the passed in function to create a new element that is then returned. **This returns a new iterator** with the new elements. This is done for each element of the shortest iterator, the rest of the elements of the other iterators are ignored.\n",
    "\n",
    "Lets say 2 iterators are passed to `map`.\n",
    "\n",
    "```\n",
    "map: ((T1, T2, ..., Tn)->U, [T1], [T2], ..., [Tn]) -> [U]\n",
    "```\n",
    "\n",
    "In most cases I'll use the following simplified map:\n",
    "```\n",
    "map: (T->U, [T]) -> [U]\n",
    "```"
   ]
  },
  {
   "cell_type": "code",
   "execution_count": 18,
   "metadata": {},
   "outputs": [
    {
     "name": "stdout",
     "output_type": "stream",
     "text": [
      "[194 236 676 617 942] [0.248 0.949 0.667]\n"
     ]
    },
    {
     "data": {
      "text/plain": [
       "[194.24824571462958, 236.94888115183332, 676.6672374531004]"
      ]
     },
     "execution_count": 18,
     "metadata": {},
     "output_type": "execute_result"
    }
   ],
   "source": [
    "ints = rng.integers(10, 1000, 5)\n",
    "floats = rng.random(3)\n",
    "print(ints, floats)\n",
    "list(map(lambda x, y: x + y, ints, floats))"
   ]
  },
  {
   "cell_type": "code",
   "execution_count": 19,
   "metadata": {},
   "outputs": [
    {
     "name": "stdout",
     "output_type": "stream",
     "text": [
      "['10', '5.0', '30']\n"
     ]
    }
   ],
   "source": [
    "def fn(x: int, y: bool) -> str:\n",
    "    return str(10*x) if y else str(10/x)\n",
    "\n",
    "xs = [1, 2, 3]\n",
    "ys = [True, False, True]\n",
    "x = map(fn, xs, ys)\n",
    "print(list(x))"
   ]
  },
  {
   "cell_type": "markdown",
   "metadata": {},
   "source": [
    "### `itertools.starmap(func, it)`\n",
    "Will unroll each element of the sequence and pass the unrolled (sub) elements as arguments to the function. For a function accepting $n$ arguments, each element of the sequence must itself be a sequence of $n$ elements.\n",
    "\n",
    "Lets say `func` takes in two params, then `it` can be thought of as an iterable of 2-element tuples.\n",
    "\n",
    "```\n",
    "starmap: ((T1, T2, ..., Tn)->U, [(T1, T2, ..., Tn)]) -> [U]\n",
    "```"
   ]
  },
  {
   "cell_type": "code",
   "execution_count": 20,
   "metadata": {},
   "outputs": [
    {
     "name": "stdout",
     "output_type": "stream",
     "text": [
      "[(139, 0.6974534998820221), (104, 0.3264728640701121), (273, 0.7339281633300665)]\n"
     ]
    },
    {
     "data": {
      "text/plain": [
       "[139.69745349988202, 104.32647286407011, 273.73392816333006]"
      ]
     },
     "execution_count": 20,
     "metadata": {},
     "output_type": "execute_result"
    }
   ],
   "source": [
    "ints = rng.integers(10, 1000, 5)\n",
    "floats = rng.random(3)\n",
    "print(list(zip(ints, floats)))\n",
    "args = zip(ints, floats)\n",
    "list(itertools.starmap(lambda x, y: x + y, args))"
   ]
  },
  {
   "cell_type": "markdown",
   "metadata": {},
   "source": [
    "### `max/min`\n",
    "  * `max(it, *[, key, default])`\n",
    "  * `max(arg1, arg2, *args[, key])` \n",
    "  * `min(it, *[, key, default])`\n",
    "  * `min(arg1, arg2, *args[, key])`\n",
    "  \n",
    "Will return the max/min element in the provided iterable or the list of args. `key` is a one argument ordering function."
   ]
  },
  {
   "cell_type": "code",
   "execution_count": 21,
   "metadata": {},
   "outputs": [
    {
     "name": "stdout",
     "output_type": "stream",
     "text": [
      "Baboodi\n",
      "Anuchiku\n"
     ]
    }
   ],
   "source": [
    "strings = [\"Anu\", \"Anika\", \"Anuchiku\", \"Baboodi\"]\n",
    "print(max(strings))\n",
    "print(max(strings, key=lambda s: len(s)))"
   ]
  },
  {
   "cell_type": "markdown",
   "metadata": {},
   "source": [
    "### `reversed(seq)`\n",
    "Will reverse the sequence iterator. `seq` must implement the `__reversed__()` method or implement the sequence protocol which is to implement `__len__()` and `__getitem__()` methods. **This returns a new iterator**.\n",
    "\n",
    "```\n",
    "reversed: seq[T] -> [T]\n",
    "```"
   ]
  },
  {
   "cell_type": "code",
   "execution_count": 22,
   "metadata": {},
   "outputs": [
    {
     "name": "stdout",
     "output_type": "stream",
     "text": [
      "[887 776 227 717  90]\n",
      "90 717 227 776 887 "
     ]
    }
   ],
   "source": [
    "nums = rng.integers(10, 1000, 5)\n",
    "print(nums)\n",
    "rnums = reversed(nums)\n",
    "for rnum in rnums:\n",
    "    print(rnum, end=\" \")\n"
   ]
  },
  {
   "cell_type": "code",
   "execution_count": 23,
   "metadata": {},
   "outputs": [
    {
     "name": "stdout",
     "output_type": "stream",
     "text": [
      "<class 'reversed'>\n"
     ]
    }
   ],
   "source": [
    "x = reversed(nums)\n",
    "print(type(x))"
   ]
  },
  {
   "cell_type": "markdown",
   "metadata": {},
   "source": [
    "### `sorted(it, /, *, key=None, reverse=False)`\n",
    "Will return a new sorted list from the iterable provided. `key` is a one argument ordering function. **This returns a list**.\n",
    "\n",
    "```\n",
    "sorted: ([T], T->K, bool) -> [T]\n",
    "```\n",
    "\n",
    "Most common form is:\n",
    "```\n",
    "sorted: [T] -> [T]\n",
    "```"
   ]
  },
  {
   "cell_type": "code",
   "execution_count": 24,
   "metadata": {},
   "outputs": [
    {
     "name": "stdout",
     "output_type": "stream",
     "text": [
      "[397 168 746 346 478]\n"
     ]
    },
    {
     "data": {
      "text/plain": [
       "[168, 346, 397, 478, 746]"
      ]
     },
     "execution_count": 24,
     "metadata": {},
     "output_type": "execute_result"
    }
   ],
   "source": [
    "nums = rng.integers(10, 1000, 5)\n",
    "print(nums)\n",
    "sorted(nums)"
   ]
  },
  {
   "attachments": {},
   "cell_type": "markdown",
   "metadata": {},
   "source": [
    "### `zip(*its, strict=False)`\n",
    "`zip` is a simple function, it \"transposes\" the values of the input iterators. I can pass as many iterators as I want, say I pass in $m$ iterators, then the output will be a bunch of iterators, where each iterator has $m$ elements, one from each of the input iterator. Because it is just a simple transpose, two successive zip invocations will undo each other.\n",
    "\n",
    "![zip](./imgs/zip.png)"
   ]
  },
  {
   "cell_type": "code",
   "execution_count": 1,
   "metadata": {},
   "outputs": [
    {
     "name": "stdout",
     "output_type": "stream",
     "text": [
      "(702, 'Anu')\n",
      "(235, 'Anika')\n",
      "(790, 'Anuchiku')\n",
      "(323, 'Baboodi')\n"
     ]
    }
   ],
   "source": [
    "it1 = zip(\n",
    "    [702, 235, 790, 323, 212],\n",
    "    [\"Anu\", \"Anika\", \"Anuchiku\", \"Baboodi\"]\n",
    ")\n",
    "for row in it1:\n",
    "    print(row)"
   ]
  },
  {
   "cell_type": "markdown",
   "metadata": {},
   "source": [
    "It does not matter, whether the input iterators are lists, tuples, ranges, etc. As long as they are iterators, zip will work."
   ]
  },
  {
   "cell_type": "code",
   "execution_count": 2,
   "metadata": {},
   "outputs": [
    {
     "name": "stdout",
     "output_type": "stream",
     "text": [
      "(702, 'Anu')\n",
      "(235, 'Anika')\n",
      "(790, 'Anuchiku')\n",
      "(323, 'Baboodi')\n"
     ]
    }
   ],
   "source": [
    "it2 = zip(\n",
    "    (702, 235, 790, 323, 212),\n",
    "    (\"Anu\", \"Anika\", \"Anuchiku\", \"Baboodi\")\n",
    ")\n",
    "for row in it2:\n",
    "    print(row)"
   ]
  },
  {
   "cell_type": "code",
   "execution_count": 3,
   "metadata": {},
   "outputs": [
    {
     "name": "stdout",
     "output_type": "stream",
     "text": [
      "(702, 235, 790, 323)\n",
      "('Anu', 'Anika', 'Anuchiku', 'Baboodi')\n"
     ]
    }
   ],
   "source": [
    "it3 = zip(\n",
    "    [702, \"Anu\"],\n",
    "    [235, \"Anika\"],\n",
    "    [790, \"Anuchiku\"],\n",
    "    [323, \"Baboodi\"]\n",
    ")\n",
    "for row in it3:\n",
    "    print(row)"
   ]
  },
  {
   "cell_type": "code",
   "execution_count": 4,
   "metadata": {},
   "outputs": [
    {
     "name": "stdout",
     "output_type": "stream",
     "text": [
      "('00', '10', '20')\n",
      "('01', '11', '21')\n",
      "('02', '12', '22')\n",
      "('03', '13', '23')\n"
     ]
    }
   ],
   "source": [
    "m = [\n",
    "    [\"00\", \"01\", \"02\", \"03\"],\n",
    "    [\"10\", \"11\", \"12\", \"13\"],\n",
    "    [\"20\", \"21\", \"22\", \"23\"]\n",
    "]\n",
    "for row in zip(*m):\n",
    "    print(row)"
   ]
  },
  {
   "cell_type": "code",
   "execution_count": 5,
   "metadata": {},
   "outputs": [
    {
     "name": "stdout",
     "output_type": "stream",
     "text": [
      "('00', '01', '02', '03')\n",
      "('10', '11', '12', '13')\n",
      "('20', '21', '22', '23')\n"
     ]
    }
   ],
   "source": [
    "mT = [\n",
    "    [\"00\", \"10\", \"20\"],\n",
    "    [\"01\", \"11\", \"21\"],\n",
    "    [\"02\", \"12\", \"22\"],\n",
    "    [\"03\", \"13\", \"23\"]\n",
    "]\n",
    "for row in zip(*mT):\n",
    "    print(row)"
   ]
  },
  {
   "cell_type": "markdown",
   "metadata": {},
   "source": [
    "Because the left-to-right evaluation order of the passed in iterators is preserved and the iterables are evaluated in a lazy manner, there is a clever way to implement chunking an iterable into chunks of $n$ elements each, as follows.\n",
    "\n",
    "Consider the simple example below where I zip the same iterator 3 times. Internally `zip` will zip together `(next(arg1), next(arg2), next(arg3))`. In this case all the args are the same iterator so it translates to `(next(it), next(it), next(it))` which will yeild `(0, 1, 2)`, `(3, 4, 5)`, and so on."
   ]
  },
  {
   "cell_type": "code",
   "execution_count": 31,
   "metadata": {},
   "outputs": [
    {
     "name": "stdout",
     "output_type": "stream",
     "text": [
      "(0, 1, 2)\n",
      "(3, 4, 5)\n",
      "(6, 7, 8)\n"
     ]
    }
   ],
   "source": [
    "it = iter(range(10))\n",
    "for chunk in zip(it, it, it):\n",
    "    print(chunk)"
   ]
  },
  {
   "cell_type": "markdown",
   "metadata": {},
   "source": [
    "I can write this more cleverly as follows:"
   ]
  },
  {
   "cell_type": "code",
   "execution_count": 32,
   "metadata": {},
   "outputs": [
    {
     "name": "stdout",
     "output_type": "stream",
     "text": [
      "(0, 1, 2)\n",
      "(3, 4, 5)\n",
      "(6, 7, 8)\n"
     ]
    }
   ],
   "source": [
    "it = iter(range(10))\n",
    "its = [it, it, it]\n",
    "for chunk in zip(*its):\n",
    "    print(chunk)"
   ]
  },
  {
   "cell_type": "markdown",
   "metadata": {},
   "source": [
    "And now let me make it even more compact -"
   ]
  },
  {
   "cell_type": "code",
   "execution_count": 33,
   "metadata": {},
   "outputs": [
    {
     "name": "stdout",
     "output_type": "stream",
     "text": [
      "(0, 1, 2)\n",
      "(3, 4, 5)\n",
      "(6, 7, 8)\n"
     ]
    }
   ],
   "source": [
    "it = iter(range(10))\n",
    "its = [it] * 3\n",
    "for chunk in zip(*its):\n",
    "    print(chunk)"
   ]
  },
  {
   "attachments": {},
   "cell_type": "markdown",
   "metadata": {},
   "source": [
    "Now all together - `zip(*[it]*3)` $\\equiv$ `zip(it, it, it)`"
   ]
  },
  {
   "cell_type": "code",
   "execution_count": 34,
   "metadata": {},
   "outputs": [
    {
     "name": "stdout",
     "output_type": "stream",
     "text": [
      "(0, 1, 2)\n",
      "(3, 4, 5)\n",
      "(6, 7, 8)\n"
     ]
    }
   ],
   "source": [
    "it = iter(range(10))\n",
    "for chunk in zip(*[it]*3):\n",
    "    print(chunk)"
   ]
  },
  {
   "cell_type": "markdown",
   "metadata": {},
   "source": [
    "Now see this in action with a generator function."
   ]
  },
  {
   "cell_type": "code",
   "execution_count": 1,
   "metadata": {},
   "outputs": [
    {
     "name": "stdout",
     "output_type": "stream",
     "text": [
      "[1, 2, 3, 5, 8, 13, 21, 34, 55, 89]\n"
     ]
    },
    {
     "data": {
      "text/plain": [
       "[(1, 2, 3), (5, 8, 13), (21, 34, 55)]"
      ]
     },
     "execution_count": 1,
     "metadata": {},
     "output_type": "execute_result"
    }
   ],
   "source": [
    "def gen_fibs(cap):\n",
    "    i, j = 0, 1\n",
    "    curr = 0\n",
    "    while curr < cap:\n",
    "        x = i + j\n",
    "        yield x\n",
    "        i, j = j, x\n",
    "        curr += 1\n",
    "print(list(gen_fibs(10)))  \n",
    "chunks =  zip(*[gen_fibs(10)]*3)\n",
    "list(chunks)"
   ]
  },
  {
   "cell_type": "markdown",
   "metadata": {},
   "source": [
    "Here is how it works, first `gen_fibs(10)` creates a generator which just an iterator over the `gen_fibs` function. Next the `[...]*3` copies this **same** iterator three times in an array, so when I call `next(it[0])` and `next(it[1])` it is the same underlying iterator that is yielding values. Next the `*[...]` just unrolls the values in the list into varargs. Now when zip starts iterating over the list of iterators, it will yield values in chunks of 3 from the same underlying iterator."
   ]
  },
  {
   "cell_type": "code",
   "execution_count": 36,
   "metadata": {},
   "outputs": [],
   "source": [
    "chunks_of = lambda n, seq: zip(*[iter(seq)]*n)\n",
    "chunks = lambda n, seq: zip(*[iter(seq)]*(len(seq)//n))"
   ]
  },
  {
   "cell_type": "code",
   "execution_count": 37,
   "metadata": {},
   "outputs": [],
   "source": [
    "# More readable version of the above code\n",
    "\n",
    "def chunks(seq, n_chunks):\n",
    "    \"\"\"Partition seq into n_chunks.\n",
    "    Will partition the provided sequence into equally sized n_chunks, where each \n",
    "    chunk will have len(seq) // n_chunks number of elements. Will drop any last\n",
    "    elements in the sequence.\n",
    "    \"\"\"\n",
    "    it = iter(seq)    \n",
    "    chunk_len = len(list(seq))//n_chunks\n",
    "    its = [it] * chunk_len\n",
    "    return zip(*its)\n",
    "\n",
    "\n",
    "def chunks_of(seq, chunk_len):\n",
    "    \"\"\"Partition into chunks of given length.\n",
    "    Will partition the provided sequence into some as yet unknown number of chunks\n",
    "    where each chunk has chunk_len number of elements. Will drop any last elements\n",
    "    in the sequence.\n",
    "    \"\"\"\n",
    "    it = iter(seq)\n",
    "    its = [it] * chunk_len\n",
    "    return zip(*its)    "
   ]
  },
  {
   "cell_type": "code",
   "execution_count": 38,
   "metadata": {},
   "outputs": [
    {
     "name": "stdout",
     "output_type": "stream",
     "text": [
      "[470 480 273 562 817 503 201  34 138  90 100 131 602 809 856 656 605 338 932 644]\n",
      "[(470, 480, 273), (562, 817, 503), (201, 34, 138), (90, 100, 131), (602, 809, 856), (656, 605, 338)]\n",
      "[(470, 480, 273), (562, 817, 503), (201, 34, 138), (90, 100, 131), (602, 809, 856), (656, 605, 338)]\n"
     ]
    }
   ],
   "source": [
    "nums = rng.integers(10, 1000, 20)\n",
    "print(nums)\n",
    "print(list(chunks_of(nums, 3)))\n",
    "print(list(chunks(nums, 6)))"
   ]
  },
  {
   "cell_type": "markdown",
   "metadata": {},
   "source": [
    "### `itertools.zip_longest(*its, fillvalue=None)`\n",
    "Instead of cutting the zip at the shortest iterable, this goes on till the longest iterable, filling in the tail end of the short iterables with `None` or any other fillvalue."
   ]
  },
  {
   "cell_type": "code",
   "execution_count": 39,
   "metadata": {},
   "outputs": [
    {
     "data": {
      "text/plain": [
       "[('A', 0), ('B', 1), ('C', 2), (None, 3), (None, 4)]"
      ]
     },
     "execution_count": 39,
     "metadata": {},
     "output_type": "execute_result"
    }
   ],
   "source": [
    "list(itertools.zip_longest(\"ABC\", range(5)))"
   ]
  },
  {
   "cell_type": "markdown",
   "metadata": {},
   "source": [
    "### `itertools.tee(it, n)`\n",
    "Returns n independant iterators copied from the original iterator.\n",
    "\n",
    "```\n",
    "tee: ([T], int) -> seq[[T]]\n",
    "```\n",
    "\n",
    "The difference between `tee(it, 3)` and `[it]*3` is that `tee` will give independant iterators while the list will just make copies of the same iterator. This means that if I exhaust the first iterator in the tee'ed list, the other iterators are unaffected, but that is not the case for the copied iterators."
   ]
  },
  {
   "cell_type": "code",
   "execution_count": 40,
   "metadata": {},
   "outputs": [
    {
     "name": "stdout",
     "output_type": "stream",
     "text": [
      "0\n",
      "0\n",
      "0\n"
     ]
    }
   ],
   "source": [
    "def nums(upper_bound):\n",
    "    for i in range(upper_bound):\n",
    "        yield i\n",
    "\n",
    "it = nums(10)\n",
    "its = list(itertools.tee(it, 3))\n",
    "print(next(its[0]))\n",
    "print(next(its[1]))\n",
    "print(next(its[2]))"
   ]
  },
  {
   "cell_type": "code",
   "execution_count": 41,
   "metadata": {},
   "outputs": [
    {
     "name": "stdout",
     "output_type": "stream",
     "text": [
      "0\n",
      "1\n",
      "2\n"
     ]
    }
   ],
   "source": [
    "def nums(upper_bound):\n",
    "    for i in range(upper_bound):\n",
    "        yield i\n",
    "\n",
    "it = nums(10)\n",
    "its = [it] * 3\n",
    "print(next(its[0]))\n",
    "print(next(its[1]))\n",
    "print(next(its[2]))"
   ]
  },
  {
   "cell_type": "markdown",
   "metadata": {},
   "source": [
    "### `itertools.pairwise(it)`\n",
    "Returns successive overlapping pairs taken from the input iterable.\n",
    "\n",
    "```\n",
    "pairwise: [T] -> [(T, T)]\n",
    "```"
   ]
  },
  {
   "cell_type": "code",
   "execution_count": 42,
   "metadata": {},
   "outputs": [
    {
     "data": {
      "text/plain": [
       "[('A', 'B'), ('B', 'C'), ('C', 'D'), ('D', 'E')]"
      ]
     },
     "execution_count": 42,
     "metadata": {},
     "output_type": "execute_result"
    }
   ],
   "source": [
    "list(itertools.pairwise(\"ABCDE\"))"
   ]
  },
  {
   "cell_type": "markdown",
   "metadata": {},
   "source": [
    "## Permutations and Combinations\n",
    "  * `itertools.permutations(it, r=None)` returns `r` or full length permutations of elements in the iterator.\n",
    "  * `itertools.combnations(it, r)` returns `r` length combinations in lexicographic sorted order. These combinations are without replacement.\n",
    "  * `itertools.combinations_with_replacement(it, r)` same as above but with repeated elements.\n",
    "\n",
    "```\n",
    "permutations: ([T], int) -> [(T, T, ..., T)]\n",
    "```"
   ]
  },
  {
   "cell_type": "code",
   "execution_count": 43,
   "metadata": {},
   "outputs": [
    {
     "name": "stdout",
     "output_type": "stream",
     "text": [
      "<class 'itertools.permutations'>\n",
      "<class 'tuple'>\n",
      "(0, 1, 2)\n",
      "<class 'tuple'>\n",
      "(0, 2, 1)\n",
      "<class 'tuple'>\n",
      "(1, 0, 2)\n",
      "<class 'tuple'>\n",
      "(1, 2, 0)\n",
      "<class 'tuple'>\n",
      "(2, 0, 1)\n",
      "<class 'tuple'>\n",
      "(2, 1, 0)\n"
     ]
    }
   ],
   "source": [
    "perms = itertools.permutations(range(3))\n",
    "print(type(perms))\n",
    "for perm in perms:\n",
    "    print(type(perm))\n",
    "    print(perm)"
   ]
  },
  {
   "cell_type": "code",
   "execution_count": 44,
   "metadata": {},
   "outputs": [
    {
     "data": {
      "text/plain": [
       "[('A', 'B', 'C'), ('A', 'B', 'D'), ('A', 'C', 'D'), ('B', 'C', 'D')]"
      ]
     },
     "execution_count": 44,
     "metadata": {},
     "output_type": "execute_result"
    }
   ],
   "source": [
    "list(itertools.combinations(\"ABCD\", 3))"
   ]
  },
  {
   "cell_type": "code",
   "execution_count": 45,
   "metadata": {},
   "outputs": [
    {
     "data": {
      "text/plain": [
       "[('A', 'A'), ('A', 'B'), ('A', 'C'), ('B', 'B'), ('B', 'C'), ('C', 'C')]"
      ]
     },
     "execution_count": 45,
     "metadata": {},
     "output_type": "execute_result"
    }
   ],
   "source": [
    "list(itertools.combinations_with_replacement(\"ABC\", 2))"
   ]
  },
  {
   "cell_type": "markdown",
   "metadata": {},
   "source": [
    "### `itertools.count(start=0, step=1)`\n",
    "Start from the specified value and keeps yielding evenly spaced values as specified by step.\n",
    "\n",
    "```\n",
    "count: (Number, Number) -> [Number]\n",
    "```"
   ]
  },
  {
   "cell_type": "code",
   "execution_count": 46,
   "metadata": {},
   "outputs": [
    {
     "name": "stdout",
     "output_type": "stream",
     "text": [
      "<class 'itertools.count'>\n",
      "10\n",
      "12.5\n",
      "15.0\n",
      "17.5\n",
      "20.0\n",
      "22.5\n"
     ]
    }
   ],
   "source": [
    "counter = itertools.count(start=10, step=2.5)\n",
    "print(type(counter))\n",
    "for i, val in enumerate(counter):\n",
    "    if i > 5: break\n",
    "    print(val)"
   ]
  },
  {
   "cell_type": "markdown",
   "metadata": {},
   "source": [
    "### `itertools.cycle(it)`\n",
    "Cycles throug the elements in the given iterable infinitely.\n",
    "\n",
    "```\n",
    "cycle: [T] -> [T]\n",
    "```"
   ]
  },
  {
   "cell_type": "code",
   "execution_count": 47,
   "metadata": {},
   "outputs": [
    {
     "name": "stdout",
     "output_type": "stream",
     "text": [
      "<class 'itertools.cycle'>\n",
      "A\n",
      "B\n",
      "C\n",
      "D\n",
      "A\n",
      "B\n"
     ]
    }
   ],
   "source": [
    "it = itertools.cycle(\"ABCD\")\n",
    "print(type(it))\n",
    "for i, x in enumerate(it):\n",
    "    if i > 5: break\n",
    "    print(x)\n",
    "    "
   ]
  },
  {
   "cell_type": "markdown",
   "metadata": {},
   "source": [
    "### `itertools.repeat(obj, times=$\\infty$)`\n",
    "Creates an iterator with `obj` repeated `times`.\n",
    "\n",
    "```\n",
    "repeat: (Any, int) -> [Any]\n",
    "```"
   ]
  },
  {
   "cell_type": "code",
   "execution_count": 48,
   "metadata": {},
   "outputs": [
    {
     "name": "stdout",
     "output_type": "stream",
     "text": [
      "<class 'itertools.repeat'>\n",
      "hello\n",
      "hello\n",
      "hello\n",
      "hello\n"
     ]
    }
   ],
   "source": [
    "it = itertools.repeat(\"hello\", 4)\n",
    "print(type(it))\n",
    "for x in it:\n",
    "    print(x)"
   ]
  },
  {
   "cell_type": "markdown",
   "metadata": {},
   "source": [
    "### `itertools.chain(*its)`\n",
    "Flattens all the input iterables into a single iterable.\n",
    "Lets say two iterables are provided to `chain`. This can be used to implement `flatmap` which is not available in Python's standard library. There is an alternate way to create a flattened iterator using `itertools.chain.from_itertable`.\n",
    "\n",
    "```\n",
    "chain: ([T1], [T2], ..., [Tn]) -> [Tx]\n",
    "```"
   ]
  },
  {
   "cell_type": "code",
   "execution_count": 49,
   "metadata": {},
   "outputs": [
    {
     "name": "stdout",
     "output_type": "stream",
     "text": [
      "<class 'itertools.chain'>\n",
      "0\n",
      "1\n",
      "2\n",
      "3\n",
      "4\n",
      "A\n",
      "B\n",
      "C\n",
      "D\n",
      "E\n"
     ]
    }
   ],
   "source": [
    "it = itertools.chain(range(5), \"ABCDE\")\n",
    "print(type(it))\n",
    "for x in it:\n",
    "    print(x)"
   ]
  },
  {
   "cell_type": "markdown",
   "metadata": {},
   "source": [
    "### `functools.partial(func, /, *args, **kwargs)`\n",
    "Freezes the input function with the provided arguments so it can be used with just the remaining arguments."
   ]
  },
  {
   "cell_type": "code",
   "execution_count": 52,
   "metadata": {},
   "outputs": [],
   "source": [
    "from functools import partial"
   ]
  },
  {
   "cell_type": "code",
   "execution_count": 56,
   "metadata": {},
   "outputs": [],
   "source": [
    "def process_1(a: int, b: int, c: int) -> int:\n",
    "    print(f\"a = {a}, b = {b}, c = {c}\")\n",
    "    return 0"
   ]
  },
  {
   "cell_type": "code",
   "execution_count": 60,
   "metadata": {},
   "outputs": [
    {
     "name": "stdout",
     "output_type": "stream",
     "text": [
      "a = 10, b = 20, c = 30\n"
     ]
    },
    {
     "data": {
      "text/plain": [
       "0"
      ]
     },
     "execution_count": 60,
     "metadata": {},
     "output_type": "execute_result"
    }
   ],
   "source": [
    "proc = partial(process_1, 10, 20)\n",
    "proc(30)"
   ]
  },
  {
   "cell_type": "code",
   "execution_count": 59,
   "metadata": {},
   "outputs": [
    {
     "name": "stdout",
     "output_type": "stream",
     "text": [
      "a = 10, b = 20, c = 30\n"
     ]
    },
    {
     "data": {
      "text/plain": [
       "0"
      ]
     },
     "execution_count": 59,
     "metadata": {},
     "output_type": "execute_result"
    }
   ],
   "source": [
    "proc = partial(process_1, c=30)\n",
    "proc(10, 20)"
   ]
  },
  {
   "cell_type": "code",
   "execution_count": 62,
   "metadata": {},
   "outputs": [
    {
     "name": "stdout",
     "output_type": "stream",
     "text": [
      "process_1() got multiple values for argument 'b'\n"
     ]
    }
   ],
   "source": [
    "try:\n",
    "    proc = partial(process_1, b=20)\n",
    "    proc(10, 30)\n",
    "except TypeError as te:\n",
    "    print(te)"
   ]
  },
  {
   "cell_type": "code",
   "execution_count": null,
   "metadata": {},
   "outputs": [],
   "source": []
  }
 ],
 "metadata": {
  "kernelspec": {
   "display_name": "Python 3 (ipykernel)",
   "language": "python",
   "name": "python3"
  },
  "language_info": {
   "codemirror_mode": {
    "name": "ipython",
    "version": 3
   },
   "file_extension": ".py",
   "mimetype": "text/x-python",
   "name": "python",
   "nbconvert_exporter": "python",
   "pygments_lexer": "ipython3",
   "version": "3.12.7"
  },
  "vscode": {
   "interpreter": {
    "hash": "c957e4ca480fc31da01b2648e097b4e55db834b6351128636991f182c884d81e"
   }
  }
 },
 "nbformat": 4,
 "nbformat_minor": 4
}
