{
 "cells": [
  {
   "cell_type": "markdown",
   "metadata": {},
   "source": [
    "# Iterators, Containers, Generators"
   ]
  },
  {
   "cell_type": "markdown",
   "metadata": {},
   "source": [
    "Talks by David Beazley:\n",
    "  * [Generator Tricks for Systems Programmers](http://www.dabeaz.com/generators/) [[downloaded pdf](./Generators.pdf)]\n",
    "  * [Generators: The Final Frontier](http://www.dabeaz.com/finalgenerator/) [[downloaded pdf](./FinalGenerator.pdf)]\n",
    "\n",
    "## Summary\n",
    "\n",
    "Iterators, Iterables, Containers, and Generators are all objects/functions that semantically represent a collection of items that can be looped over. There are two built-in functions `next(obj)` and `iter(obj)` that will internally call the passed in objects `obj.__next__()` and `obj.__iter__()` methods. The usual calling pattern is -\n",
    "\n",
    "```\n",
    "it = iter(obj)\n",
    "x = next(it)\n",
    "```\n",
    "\n",
    "### Iterator\n",
    "Classes that have to implement the `__iter__` and `__next__` methods where the `__next__` method will raise `StopIteration` if there are no more elements. The `__iter__` method just returns `self`.\n",
    "\n",
    "### Containers\n",
    "Classes that have to implement the `__iter__` method that should return an iterator object. These classes do not have to implement the `__next__` method as the underlying iterator that they returned does that. However, in order to be a container, the class must have access to some iterator that it can return that in turn can loop over the containing elements.\n",
    "\n",
    "### Generators\n",
    "Functions that `yield` a value are actually returning an object of `<class 'generator'>` type. The generators are internally simply iterators, i.e., when a generator object is passed to the `iter(gen)` function it will return itself which can then be looped over.\n",
    "\n",
    "### Iterables\n",
    "Classes that only have to implement the `__iter__` method. They don't have to implement `__next__` because the object retured by `__iter__` does it. Generators and containers are examples of iterables. \n",
    "\n",
    "### Common Patterns\n",
    "Generator functions are an easy way to implement containers. The `__iter__` method of the container can simply `yeild` values. This means that the `__iter__` method's return type is `generator` which is an iterator. This meets the requirements to be a container. So far I have never had to implement a pure iterator or a container. In most cases I implement a generator.\n",
    "\n",
    "If I want to wrap an existing iterable in a generator, then I can use the `yeild from` syntax show below.\n"
   ]
  },
  {
   "cell_type": "markdown",
   "metadata": {},
   "source": [
    "## Iterable vs. Iterator\n",
    "\n",
    "An **iterator** is an object:\n",
    "\n",
    "  * With state that remembers where it is during iteration.\n",
    "  * With a `__next__` method that:\n",
    "    - Returns the next value in the iteration\n",
    "    - Updates the state to point at the next value\n",
    "    - Signals when it is done by raising `StopIteration`\n",
    "  * Is self-iterable, i.e., it has an `__iter__` method that returns `self`.\n",
    "\n",
    "An **iterable** is:\n",
    "\n",
    "  * Anything that can be looped over\n",
    "  * Anything you can call with `iter()` that will return an **iterator**\n",
    "  * An object that defines `__iter__` that returns a fresh **iterator**, or it may have a `__getitem__` method suitable for indexed lookup."
   ]
  },
  {
   "cell_type": "markdown",
   "metadata": {},
   "source": [
    "## Iterators\n",
    "Any object that support the **iterator protocol**, i.e, the following two methods are called Iterators.\n",
    "\n",
    "`iterator.__iter__()`\n",
    "\n",
    "Return the iterator object itself.\n",
    "\n",
    "<p>&nbsp;</p>\n",
    "\n",
    "`iterator.__next__()`\n",
    "\n",
    "Return the next item in line. If there are no further items, raise the `StopIteration` exception. Once this happens, all subsequent calls must also raise the exception."
   ]
  },
  {
   "cell_type": "code",
   "execution_count": 2,
   "metadata": {},
   "outputs": [
    {
     "name": "stdout",
     "output_type": "stream",
     "text": [
      "1\n",
      "2\n",
      "3\n",
      "5\n",
      "8\n"
     ]
    }
   ],
   "source": [
    "class FibonacciIterator:\n",
    "    def __init__(self, capacity=10):\n",
    "        self._num1 = 0\n",
    "        self._num2 = 1\n",
    "        self._capacity = capacity\n",
    "        self._cursor = 0\n",
    "    \n",
    "    def __iter__(self):\n",
    "        return self\n",
    "    \n",
    "    def __next__(self):\n",
    "        if self._cursor < self._capacity:\n",
    "            ans = self._num1 + self._num2\n",
    "            self._num1, self._num2 = self._num2, ans\n",
    "            self._cursor += 1\n",
    "            return ans\n",
    "        else:\n",
    "            raise StopIteration(\"Capacity exceeded!\")\n",
    "            \n",
    "\n",
    "for x in FibonacciIterator(5):\n",
    "    print(x)"
   ]
  },
  {
   "cell_type": "markdown",
   "metadata": {},
   "source": [
    "## Builtins\n",
    "\n",
    "### iter\n",
    "The builtin `iter(obj)` function calls the `__iter__()` method on the passed in object.\n",
    "\n",
    "### next\n",
    "The bultin `next(obj)` function calls the `__next__()` method on the passed in object. It does not handle the `StopIteration` exception.\n",
    "\n",
    "<p>&nbsp;</p>\n",
    "\n",
    "These two functions are used when we call a for loop on iterators:\n",
    "  1. The iterator is instantiated by calling `obj = FibonacciIterator(5)`.\n",
    "  2. The builtin `i = iter(obj)` is called, which returns the FibonacciIterator object itself. This seems like a noop but will come in handy next when we use containers and generators instead of raw iterators.\n",
    "  3. The bulitin `x = next(i)` is called getting the first value in `x`. After that `next(i)` is called repeatedly until a `StopIteration` exception occurs."
   ]
  },
  {
   "cell_type": "code",
   "execution_count": 3,
   "metadata": {},
   "outputs": [
    {
     "name": "stdout",
     "output_type": "stream",
     "text": [
      "<class '__main__.FibonacciIterator'>\n",
      "1 2 3\n",
      "StopIteration:  Capacity exceeded!\n"
     ]
    }
   ],
   "source": [
    "fib_nums = FibonacciIterator(3)  # Step 1 in a for loop\n",
    "\n",
    "iterator = iter(fib_nums)  # Step 2 in the for loop\n",
    "print(type(iterator))  # Note that the type of the iterator is the same\n",
    "\n",
    "x1 = next(iterator)  # Step 3 in the for loop\n",
    "x2 = next(iterator)  \n",
    "x3 = next(iterator)\n",
    "print(x1, x2, x3)\n",
    "\n",
    "try:\n",
    "    next(fib_nums)\n",
    "except StopIteration as si:\n",
    "    print(\"StopIteration: \", si)"
   ]
  },
  {
   "cell_type": "markdown",
   "metadata": {},
   "source": [
    "## Containers\n",
    "These are wrappers for iterators for when I want to get iterator semantics without exposing the underlying iterator. They only have to implement the `__iter__()` method which will return the underlying iterator.\n",
    "\n",
    "The same 3 steps are performed when containers are used in the context of a for loop:\n",
    "  1. The container object is instantiated `obj = FibonacciNumbers(3)`.\n",
    "  2. The builtin `i = iter(obj)` is called to get the underlying iterator.\n",
    "  3. The bulitin `x = next(i)` is called getting the first value in `x`. After that `next(i)` is called repeatedly until a `StopIteration` exception occurs."
   ]
  },
  {
   "cell_type": "code",
   "execution_count": 4,
   "metadata": {},
   "outputs": [
    {
     "name": "stdout",
     "output_type": "stream",
     "text": [
      "13\n",
      "21\n",
      "34\n"
     ]
    }
   ],
   "source": [
    "class FibonacciNumbers:\n",
    "    def __init__(self, num1, num2, capacity):\n",
    "        self._iterator = FibonacciIterator(capacity=capacity)\n",
    "        self._iterator._num1 = num1\n",
    "        self._iterator._num2 = num2\n",
    "    \n",
    "    def __iter__(self):\n",
    "        return self._iterator\n",
    "    \n",
    "\n",
    "for x in FibonacciNumbers(5, 8, 3):\n",
    "    print(x)"
   ]
  },
  {
   "cell_type": "code",
   "execution_count": 5,
   "metadata": {},
   "outputs": [
    {
     "name": "stdout",
     "output_type": "stream",
     "text": [
      "<class '__main__.FibonacciIterator'>\n",
      "13 21 34\n",
      "StopIteration:  Capacity exceeded!\n"
     ]
    }
   ],
   "source": [
    "fib_nums = FibonacciNumbers(5, 8, 3)\n",
    "\n",
    "fib_iter = iter(fib_nums)\n",
    "print(type(iterator))\n",
    "\n",
    "x1 = next(fib_iter)\n",
    "x2 = next(fib_iter)\n",
    "x3 = next(fib_iter)\n",
    "print(x1, x2, x3)\n",
    "\n",
    "try:\n",
    "    next(fib_iter)\n",
    "except StopIteration as si:\n",
    "    print(\"StopIteration: \", si)"
   ]
  },
  {
   "cell_type": "markdown",
   "metadata": {},
   "source": [
    "## Generators\n",
    "Generators are like iterators. However, unlike previous examples where iterators and containers were being defined as classes which implement the iterator protocol, generators can be defined as a function. Any function that `yields` a value actually has a return type of `generator`.\n",
    "\n",
    "The same 3 steps are performed in the context of a for loop:\n",
    "  1. The generator object is instantiated by calling the function `g = genfunc()`.\n",
    "  2. The builtin `i = iter(g)` is called to get the underlying iterator, which is the generator itself.\n",
    "  3. The builtin `x = next(i)` is called repeatedly until `StopIteration` is raised."
   ]
  },
  {
   "cell_type": "code",
   "execution_count": 6,
   "metadata": {},
   "outputs": [
    {
     "name": "stdout",
     "output_type": "stream",
     "text": [
      "1\n",
      "2\n",
      "3\n"
     ]
    }
   ],
   "source": [
    "def gen_fibs(cap):\n",
    "    i, j = 0, 1\n",
    "    curr = 0\n",
    "    while curr < cap:\n",
    "        x = i + j\n",
    "        yield x\n",
    "        i, j = j, x\n",
    "        curr += 1\n",
    "    \n",
    "for x in gen_fibs(3):\n",
    "    print(x)"
   ]
  },
  {
   "cell_type": "code",
   "execution_count": 7,
   "metadata": {},
   "outputs": [
    {
     "name": "stdout",
     "output_type": "stream",
     "text": [
      "<class 'generator'>\n",
      "<class 'generator'>\n",
      "1 2 3\n",
      "StopIteration:  \n"
     ]
    }
   ],
   "source": [
    "obj = gen_fibs(3)\n",
    "print(type(obj))\n",
    "i = iter(obj)\n",
    "print(type(i))\n",
    "x1 = next(i)\n",
    "x2 = next(i)\n",
    "x3 = next(i)\n",
    "print(x1, x2, x3)\n",
    "\n",
    "try:\n",
    "    next(i)\n",
    "except StopIteration as si:\n",
    "    print(\"StopIteration: \", si)"
   ]
  },
  {
   "cell_type": "markdown",
   "metadata": {},
   "source": [
    "### Generator Classes\n",
    "These are really just containers. While generators can be defined as functions, it is also possible to implement a generator as a class. Strictly speaking this is a container with a single `__iter__()` method that is supposed to return the underlying iterator. However, any function that `yield`s a value implicitly returns a generator object, which is an iterator because internally it implements the iterator protocol. So having my container's `__iter__()` method `yield` values will do the trick."
   ]
  },
  {
   "cell_type": "code",
   "execution_count": 8,
   "metadata": {},
   "outputs": [
    {
     "name": "stdout",
     "output_type": "stream",
     "text": [
      "13\n",
      "21\n",
      "34\n"
     ]
    }
   ],
   "source": [
    "class FibonacciGenerator:\n",
    "    def __init__(self, num1, num2, capacity):\n",
    "        self._num1 = num1\n",
    "        self._num2 = num2\n",
    "        self._capacity = capacity\n",
    "        \n",
    "    def __iter__(self):\n",
    "        curr = 0\n",
    "        while curr < self._capacity:\n",
    "            x = self._num1 + self._num2\n",
    "            yield x\n",
    "            self._num1, self._num2 = self._num2, x\n",
    "            curr += 1\n",
    "        \n",
    "        \n",
    "for x in FibonacciGenerator(5, 8, 3):\n",
    "    print(x)"
   ]
  },
  {
   "cell_type": "code",
   "execution_count": 9,
   "metadata": {},
   "outputs": [
    {
     "name": "stdout",
     "output_type": "stream",
     "text": [
      "<class '__main__.FibonacciGenerator'>\n",
      "<class 'generator'>\n",
      "13 21 34\n",
      "StopIteration:  \n"
     ]
    }
   ],
   "source": [
    "obj = FibonacciGenerator(5, 8, 3)\n",
    "print(type(obj))\n",
    "i = iter(obj)\n",
    "print(type(i))\n",
    "x1 = next(i)\n",
    "x2 = next(i)\n",
    "x3 = next(i)\n",
    "print(x1, x2, x3)\n",
    "\n",
    "try:\n",
    "    next(i)\n",
    "except StopIteration as si:\n",
    "    print(\"StopIteration: \", si)"
   ]
  }
 ],
 "metadata": {
  "kernelspec": {
   "display_name": "Python 3.10.4 ('dev')",
   "language": "python",
   "name": "python3"
  },
  "language_info": {
   "codemirror_mode": {
    "name": "ipython",
    "version": 3
   },
   "file_extension": ".py",
   "mimetype": "text/x-python",
   "name": "python",
   "nbconvert_exporter": "python",
   "pygments_lexer": "ipython3",
   "version": "3.10.4"
  },
  "vscode": {
   "interpreter": {
    "hash": "248aaaef2ce54d580c63d0621ea4262f68d22105863a800468921850ea527b06"
   }
  }
 },
 "nbformat": 4,
 "nbformat_minor": 4
}
